{
 "cells": [
  {
   "cell_type": "markdown",
   "id": "97a15560",
   "metadata": {},
   "source": [
    "# Problem Statement"
   ]
  },
  {
   "cell_type": "markdown",
   "id": "51df2896",
   "metadata": {},
   "source": [
    "Suppose you are working as a Machine Learning Engineer in an e-commerce company named 'Ebuss'. Ebuss has captured a huge market share in many fields, and it sells the products in various categories such as household essentials, books, personal care products, medicines, cosmetic items, beauty products, electrical appliances, kitchen and dining products and health care products.\n",
    "\n",
    " \n",
    "\n",
    "With the advancement in technology, it is imperative for Ebuss to grow quickly in the e-commerce market to become a major leader in the market because it has to compete with the likes of Amazon, Flipkart, etc., which are already market leaders.\n",
    "\n",
    " \n",
    "\n",
    "As a senior ML Engineer, you are asked to build a model that will improve the recommendations given to the users given their past reviews and ratings. \n",
    "\n",
    " \n",
    "\n",
    "In order to do this, you planned to build a sentiment-based product recommendation system, which includes the following tasks.\n",
    "\n",
    "Data sourcing and sentiment analysis\n",
    "Building a recommendation system\n",
    "Improving the recommendations using the sentiment analysis model\n",
    "Deploying the end-to-end project with a user interface\n",
    " \n",
    "\n",
    "Data sourcing and sentiment analysis\n",
    "In this task, you have to analyse product reviews after some text preprocessing steps and build an ML model to get the sentiments corresponding to the users' reviews and ratings for multiple products. \n",
    "\n",
    " \n",
    "\n",
    "The steps to be performed for the first task are given below.\n",
    "\n",
    "1. Exploratory data analysis\n",
    "\n",
    "2. Data cleaning\n",
    "\n",
    "3. Text preprocessing\n",
    "\n",
    "4. Feature extraction: In order to extract features from the text data, you may choose from any of the methods, including bag-of-words, TF-IDF vectorization or word embedding.\n",
    "\n",
    "5. Training a text classification model: You need to build at least three ML models. You then need to analyse the performance of each of these models and choose the best model. At least three out of the following four models need to be built (Do not forget, if required, handle the class imbalance and perform hyperparameter tuning.). \n",
    " 1. Logistic regression\n",
    " 2. Random forest\n",
    " 3. XGBoost\n",
    " 4. Naive Bayes\n",
    "\n",
    "Out of these four models, you need to select one classification model based on its performance.\n",
    "\n"
   ]
  },
  {
   "cell_type": "code",
   "execution_count": 1,
   "id": "91cf8060",
   "metadata": {},
   "outputs": [],
   "source": [
    "#import libraries\n",
    "import re\n",
    "import numpy as np\n",
    "import pandas as pd\n",
    "import matplotlib.pyplot as plt\n",
    "import seaborn as sns\n",
    "import warnings\n",
    "warnings.filterwarnings('ignore')"
   ]
  },
  {
   "cell_type": "code",
   "execution_count": 2,
   "id": "bbbfb9de",
   "metadata": {},
   "outputs": [
    {
     "name": "stdout",
     "output_type": "stream",
     "text": [
      "Requirement already satisfied: imblearn in d:\\softwares\\lib\\site-packages (0.0)\n",
      "Requirement already satisfied: imbalanced-learn in d:\\softwares\\lib\\site-packages (from imblearn) (0.8.1)\n",
      "Requirement already satisfied: scikit-learn>=0.24 in d:\\softwares\\lib\\site-packages (from imbalanced-learn->imblearn) (0.24.2)\n",
      "Requirement already satisfied: joblib>=0.11 in d:\\softwares\\lib\\site-packages (from imbalanced-learn->imblearn) (1.0.1)\n",
      "Requirement already satisfied: scipy>=0.19.1 in d:\\softwares\\lib\\site-packages (from imbalanced-learn->imblearn) (1.7.1)\n",
      "Requirement already satisfied: numpy>=1.13.3 in d:\\softwares\\lib\\site-packages (from imbalanced-learn->imblearn) (1.20.3)\n",
      "Requirement already satisfied: threadpoolctl>=2.0.0 in d:\\softwares\\lib\\site-packages (from scikit-learn>=0.24->imbalanced-learn->imblearn) (2.2.0)\n"
     ]
    }
   ],
   "source": [
    "!pip install imblearn"
   ]
  },
  {
   "cell_type": "code",
   "execution_count": 3,
   "id": "19c78e83",
   "metadata": {},
   "outputs": [
    {
     "name": "stderr",
     "output_type": "stream",
     "text": [
      "[nltk_data] Downloading package stopwords to C:\\Users\\Sancharee-\n",
      "[nltk_data]     Amit\\AppData\\Roaming\\nltk_data...\n",
      "[nltk_data]   Package stopwords is already up-to-date!\n",
      "[nltk_data] Downloading package punkt to C:\\Users\\Sancharee-\n",
      "[nltk_data]     Amit\\AppData\\Roaming\\nltk_data...\n",
      "[nltk_data]   Package punkt is already up-to-date!\n",
      "[nltk_data] Downloading package averaged_perceptron_tagger to\n",
      "[nltk_data]     C:\\Users\\Sancharee-Amit\\AppData\\Roaming\\nltk_data...\n",
      "[nltk_data]   Package averaged_perceptron_tagger is already up-to-\n",
      "[nltk_data]       date!\n",
      "[nltk_data] Downloading package wordnet to C:\\Users\\Sancharee-\n",
      "[nltk_data]     Amit\\AppData\\Roaming\\nltk_data...\n",
      "[nltk_data]   Package wordnet is already up-to-date!\n",
      "[nltk_data] Downloading package stopwords to C:\\Users\\Sancharee-\n",
      "[nltk_data]     Amit\\AppData\\Roaming\\nltk_data...\n",
      "[nltk_data]   Package stopwords is already up-to-date!\n"
     ]
    }
   ],
   "source": [
    "# NLTK libraries\n",
    "import nltk\n",
    "import string\n",
    "import time\n",
    "nltk.download('stopwords')\n",
    "nltk.download('punkt')\n",
    "nltk.download('averaged_perceptron_tagger')\n",
    "nltk.download('wordnet')\n",
    "from nltk.corpus import stopwords\n",
    "from nltk import FreqDist\n",
    "from nltk.tokenize import word_tokenize, sent_tokenize\n",
    "from sklearn.feature_extraction.text import CountVectorizer\n",
    "from nltk.stem.wordnet import WordNetLemmatizer\n",
    "from nltk.corpus import wordnet\n",
    "from collections import Counter\n",
    "from sklearn import preprocessing\n",
    "import warnings\n",
    "nltk.download('stopwords')\n",
    "from sklearn.model_selection import train_test_split\n",
    "from imblearn.over_sampling import SMOTE\n",
    "from imblearn.pipeline import Pipeline as imbPipeline\n",
    "# import scikitplot as skplt\n",
    "#from imblearn.over_sampling import SMOTE\n",
    "# from imblearn.under_sampling import RandomUnderSampler\n",
    "# from imblearn.pipeline import Pipeline"
   ]
  },
  {
   "cell_type": "code",
   "execution_count": 4,
   "id": "27d5dd56",
   "metadata": {},
   "outputs": [],
   "source": [
    "#Modelling \n",
    "from sklearn.model_selection import train_test_split\n",
    "from sklearn.feature_extraction.text import CountVectorizer, TfidfVectorizer\n",
    "from sklearn.linear_model import LogisticRegression\n",
    "from sklearn.ensemble import RandomForestClassifier\n",
    "from xgboost import XGBClassifier\n",
    "from sklearn.metrics import (accuracy_score,f1_score, roc_auc_score, confusion_matrix, roc_curve, auc, \n",
    "                             mean_squared_error, log_loss, precision_recall_curve, classification_report, \n",
    "                             precision_recall_fscore_support)\n",
    "from sklearn.metrics.pairwise import pairwise_distances"
   ]
  },
  {
   "cell_type": "code",
   "execution_count": 5,
   "id": "af799943",
   "metadata": {},
   "outputs": [
    {
     "data": {
      "text/html": [
       "<div>\n",
       "<style scoped>\n",
       "    .dataframe tbody tr th:only-of-type {\n",
       "        vertical-align: middle;\n",
       "    }\n",
       "\n",
       "    .dataframe tbody tr th {\n",
       "        vertical-align: top;\n",
       "    }\n",
       "\n",
       "    .dataframe thead th {\n",
       "        text-align: right;\n",
       "    }\n",
       "</style>\n",
       "<table border=\"1\" class=\"dataframe\">\n",
       "  <thead>\n",
       "    <tr style=\"text-align: right;\">\n",
       "      <th></th>\n",
       "      <th>id</th>\n",
       "      <th>brand</th>\n",
       "      <th>categories</th>\n",
       "      <th>manufacturer</th>\n",
       "      <th>name</th>\n",
       "      <th>reviews_date</th>\n",
       "      <th>reviews_didPurchase</th>\n",
       "      <th>reviews_doRecommend</th>\n",
       "      <th>reviews_rating</th>\n",
       "      <th>reviews_text</th>\n",
       "      <th>reviews_title</th>\n",
       "      <th>reviews_userCity</th>\n",
       "      <th>reviews_userProvince</th>\n",
       "      <th>reviews_username</th>\n",
       "      <th>user_sentiment</th>\n",
       "    </tr>\n",
       "  </thead>\n",
       "  <tbody>\n",
       "    <tr>\n",
       "      <th>0</th>\n",
       "      <td>AV13O1A8GV-KLJ3akUyj</td>\n",
       "      <td>Universal Music</td>\n",
       "      <td>Movies, Music &amp; Books,Music,R&amp;b,Movies &amp; TV,Mo...</td>\n",
       "      <td>Universal Music Group / Cash Money</td>\n",
       "      <td>Pink Friday: Roman Reloaded Re-Up (w/dvd)</td>\n",
       "      <td>2012-11-30T06:21:45.000Z</td>\n",
       "      <td>NaN</td>\n",
       "      <td>NaN</td>\n",
       "      <td>5</td>\n",
       "      <td>i love this album. it's very good. more to the...</td>\n",
       "      <td>Just Awesome</td>\n",
       "      <td>Los Angeles</td>\n",
       "      <td>NaN</td>\n",
       "      <td>joshua</td>\n",
       "      <td>Positive</td>\n",
       "    </tr>\n",
       "    <tr>\n",
       "      <th>1</th>\n",
       "      <td>AV14LG0R-jtxr-f38QfS</td>\n",
       "      <td>Lundberg</td>\n",
       "      <td>Food,Packaged Foods,Snacks,Crackers,Snacks, Co...</td>\n",
       "      <td>Lundberg</td>\n",
       "      <td>Lundberg Organic Cinnamon Toast Rice Cakes</td>\n",
       "      <td>2017-07-09T00:00:00.000Z</td>\n",
       "      <td>True</td>\n",
       "      <td>NaN</td>\n",
       "      <td>5</td>\n",
       "      <td>Good flavor. This review was collected as part...</td>\n",
       "      <td>Good</td>\n",
       "      <td>NaN</td>\n",
       "      <td>NaN</td>\n",
       "      <td>dorothy w</td>\n",
       "      <td>Positive</td>\n",
       "    </tr>\n",
       "    <tr>\n",
       "      <th>2</th>\n",
       "      <td>AV14LG0R-jtxr-f38QfS</td>\n",
       "      <td>Lundberg</td>\n",
       "      <td>Food,Packaged Foods,Snacks,Crackers,Snacks, Co...</td>\n",
       "      <td>Lundberg</td>\n",
       "      <td>Lundberg Organic Cinnamon Toast Rice Cakes</td>\n",
       "      <td>2017-07-09T00:00:00.000Z</td>\n",
       "      <td>True</td>\n",
       "      <td>NaN</td>\n",
       "      <td>5</td>\n",
       "      <td>Good flavor.</td>\n",
       "      <td>Good</td>\n",
       "      <td>NaN</td>\n",
       "      <td>NaN</td>\n",
       "      <td>dorothy w</td>\n",
       "      <td>Positive</td>\n",
       "    </tr>\n",
       "    <tr>\n",
       "      <th>3</th>\n",
       "      <td>AV16khLE-jtxr-f38VFn</td>\n",
       "      <td>K-Y</td>\n",
       "      <td>Personal Care,Medicine Cabinet,Lubricant/Sperm...</td>\n",
       "      <td>K-Y</td>\n",
       "      <td>K-Y Love Sensuality Pleasure Gel</td>\n",
       "      <td>2016-01-06T00:00:00.000Z</td>\n",
       "      <td>False</td>\n",
       "      <td>False</td>\n",
       "      <td>1</td>\n",
       "      <td>I read through the reviews on here before look...</td>\n",
       "      <td>Disappointed</td>\n",
       "      <td>NaN</td>\n",
       "      <td>NaN</td>\n",
       "      <td>rebecca</td>\n",
       "      <td>Negative</td>\n",
       "    </tr>\n",
       "    <tr>\n",
       "      <th>4</th>\n",
       "      <td>AV16khLE-jtxr-f38VFn</td>\n",
       "      <td>K-Y</td>\n",
       "      <td>Personal Care,Medicine Cabinet,Lubricant/Sperm...</td>\n",
       "      <td>K-Y</td>\n",
       "      <td>K-Y Love Sensuality Pleasure Gel</td>\n",
       "      <td>2016-12-21T00:00:00.000Z</td>\n",
       "      <td>False</td>\n",
       "      <td>False</td>\n",
       "      <td>1</td>\n",
       "      <td>My husband bought this gel for us. The gel cau...</td>\n",
       "      <td>Irritation</td>\n",
       "      <td>NaN</td>\n",
       "      <td>NaN</td>\n",
       "      <td>walker557</td>\n",
       "      <td>Negative</td>\n",
       "    </tr>\n",
       "  </tbody>\n",
       "</table>\n",
       "</div>"
      ],
      "text/plain": [
       "                     id            brand  \\\n",
       "0  AV13O1A8GV-KLJ3akUyj  Universal Music   \n",
       "1  AV14LG0R-jtxr-f38QfS         Lundberg   \n",
       "2  AV14LG0R-jtxr-f38QfS         Lundberg   \n",
       "3  AV16khLE-jtxr-f38VFn              K-Y   \n",
       "4  AV16khLE-jtxr-f38VFn              K-Y   \n",
       "\n",
       "                                          categories  \\\n",
       "0  Movies, Music & Books,Music,R&b,Movies & TV,Mo...   \n",
       "1  Food,Packaged Foods,Snacks,Crackers,Snacks, Co...   \n",
       "2  Food,Packaged Foods,Snacks,Crackers,Snacks, Co...   \n",
       "3  Personal Care,Medicine Cabinet,Lubricant/Sperm...   \n",
       "4  Personal Care,Medicine Cabinet,Lubricant/Sperm...   \n",
       "\n",
       "                         manufacturer  \\\n",
       "0  Universal Music Group / Cash Money   \n",
       "1                            Lundberg   \n",
       "2                            Lundberg   \n",
       "3                                 K-Y   \n",
       "4                                 K-Y   \n",
       "\n",
       "                                         name              reviews_date  \\\n",
       "0   Pink Friday: Roman Reloaded Re-Up (w/dvd)  2012-11-30T06:21:45.000Z   \n",
       "1  Lundberg Organic Cinnamon Toast Rice Cakes  2017-07-09T00:00:00.000Z   \n",
       "2  Lundberg Organic Cinnamon Toast Rice Cakes  2017-07-09T00:00:00.000Z   \n",
       "3            K-Y Love Sensuality Pleasure Gel  2016-01-06T00:00:00.000Z   \n",
       "4            K-Y Love Sensuality Pleasure Gel  2016-12-21T00:00:00.000Z   \n",
       "\n",
       "  reviews_didPurchase reviews_doRecommend  reviews_rating  \\\n",
       "0                 NaN                 NaN               5   \n",
       "1                True                 NaN               5   \n",
       "2                True                 NaN               5   \n",
       "3               False               False               1   \n",
       "4               False               False               1   \n",
       "\n",
       "                                        reviews_text reviews_title  \\\n",
       "0  i love this album. it's very good. more to the...  Just Awesome   \n",
       "1  Good flavor. This review was collected as part...          Good   \n",
       "2                                       Good flavor.          Good   \n",
       "3  I read through the reviews on here before look...  Disappointed   \n",
       "4  My husband bought this gel for us. The gel cau...    Irritation   \n",
       "\n",
       "  reviews_userCity reviews_userProvince reviews_username user_sentiment  \n",
       "0      Los Angeles                  NaN           joshua       Positive  \n",
       "1              NaN                  NaN        dorothy w       Positive  \n",
       "2              NaN                  NaN        dorothy w       Positive  \n",
       "3              NaN                  NaN          rebecca       Negative  \n",
       "4              NaN                  NaN        walker557       Negative  "
      ]
     },
     "execution_count": 5,
     "metadata": {},
     "output_type": "execute_result"
    }
   ],
   "source": [
    "#load the data\n",
    "df=pd.read_csv(\"sample30.csv\")\n",
    "df.head()"
   ]
  },
  {
   "cell_type": "markdown",
   "id": "b307b261",
   "metadata": {},
   "source": [
    "# 1. Exploratory Data Analysis"
   ]
  },
  {
   "cell_type": "code",
   "execution_count": 6,
   "id": "6b4f1ff2",
   "metadata": {},
   "outputs": [
    {
     "name": "stdout",
     "output_type": "stream",
     "text": [
      "rows:  30000\n",
      "columns:  15\n",
      "\n",
      "features:  ['id', 'brand', 'categories', 'manufacturer', 'name', 'reviews_date', 'reviews_didPurchase', 'reviews_doRecommend', 'reviews_rating', 'reviews_text', 'reviews_title', 'reviews_userCity', 'reviews_userProvince', 'reviews_username', 'user_sentiment']\n",
      "\n",
      "missing vlues:  74980\n",
      "\n",
      "Unique values: \n",
      " id                        271\n",
      "brand                     214\n",
      "categories                270\n",
      "manufacturer              227\n",
      "name                      271\n",
      "reviews_date             6857\n",
      "reviews_didPurchase         2\n",
      "reviews_doRecommend         2\n",
      "reviews_rating              5\n",
      "reviews_text            27282\n",
      "reviews_title           18535\n",
      "reviews_userCity          977\n",
      "reviews_userProvince       42\n",
      "reviews_username        24914\n",
      "user_sentiment              2\n",
      "dtype: int64\n"
     ]
    }
   ],
   "source": [
    "#data overivew\n",
    "print('rows: ', df.shape[0])\n",
    "print('columns: ', df.shape[1])\n",
    "print('\\nfeatures: ', df.columns.to_list())\n",
    "print('\\nmissing vlues: ', df.isnull().values.sum())\n",
    "print('\\nUnique values: \\n', df.nunique())"
   ]
  },
  {
   "cell_type": "code",
   "execution_count": 7,
   "id": "c04e0270",
   "metadata": {},
   "outputs": [
    {
     "name": "stdout",
     "output_type": "stream",
     "text": [
      "<class 'pandas.core.frame.DataFrame'>\n",
      "RangeIndex: 30000 entries, 0 to 29999\n",
      "Data columns (total 15 columns):\n",
      " #   Column                Non-Null Count  Dtype \n",
      "---  ------                --------------  ----- \n",
      " 0   id                    30000 non-null  object\n",
      " 1   brand                 30000 non-null  object\n",
      " 2   categories            30000 non-null  object\n",
      " 3   manufacturer          29859 non-null  object\n",
      " 4   name                  30000 non-null  object\n",
      " 5   reviews_date          29954 non-null  object\n",
      " 6   reviews_didPurchase   15932 non-null  object\n",
      " 7   reviews_doRecommend   27430 non-null  object\n",
      " 8   reviews_rating        30000 non-null  int64 \n",
      " 9   reviews_text          30000 non-null  object\n",
      " 10  reviews_title         29810 non-null  object\n",
      " 11  reviews_userCity      1929 non-null   object\n",
      " 12  reviews_userProvince  170 non-null    object\n",
      " 13  reviews_username      29937 non-null  object\n",
      " 14  user_sentiment        29999 non-null  object\n",
      "dtypes: int64(1), object(14)\n",
      "memory usage: 3.4+ MB\n"
     ]
    }
   ],
   "source": [
    "#see the data types of different columns\n",
    "df.info()"
   ]
  },
  {
   "cell_type": "code",
   "execution_count": 8,
   "id": "424e82f3",
   "metadata": {},
   "outputs": [
    {
     "data": {
      "text/plain": [
       "214"
      ]
     },
     "execution_count": 8,
     "metadata": {},
     "output_type": "execute_result"
    }
   ],
   "source": [
    "len(df['brand'].unique())"
   ]
  },
  {
   "cell_type": "code",
   "execution_count": 9,
   "id": "7a7ede61",
   "metadata": {},
   "outputs": [
    {
     "data": {
      "text/plain": [
       "Clorox                   10585\n",
       "Warner Home Video         3325\n",
       "Disney                    1200\n",
       "L'oreal Paris             1186\n",
       "FOX                        887\n",
       "                         ...  \n",
       "Pacific Natural Foods        1\n",
       "Noosa                        1\n",
       "Southern Enterprises         1\n",
       "SLOAN VALVE COMPANY          1\n",
       "Universal Music              1\n",
       "Name: brand, Length: 214, dtype: int64"
      ]
     },
     "execution_count": 9,
     "metadata": {},
     "output_type": "execute_result"
    }
   ],
   "source": [
    "df['brand'].value_counts()"
   ]
  },
  {
   "cell_type": "markdown",
   "id": "a318d7bd",
   "metadata": {},
   "source": [
    "##### Out of all the brands, Clorox is the most widely reviewed  and popular brand followed by Warner Home Video and Disney"
   ]
  },
  {
   "cell_type": "markdown",
   "id": "d30060fc",
   "metadata": {},
   "source": [
    "##### There are 206 unique brands to be reviewed"
   ]
  },
  {
   "cell_type": "code",
   "execution_count": 10,
   "id": "e22a73a7",
   "metadata": {},
   "outputs": [
    {
     "data": {
      "text/plain": [
       "270"
      ]
     },
     "execution_count": 10,
     "metadata": {},
     "output_type": "execute_result"
    }
   ],
   "source": [
    "len(df['categories'].unique())"
   ]
  },
  {
   "cell_type": "code",
   "execution_count": 11,
   "id": "7ea3bee3",
   "metadata": {},
   "outputs": [
    {
     "data": {
      "text/plain": [
       "Household Essentials,Cleaning Supplies,Kitchen Cleaners,Cleaning Wipes,All-Purpose Cleaners,Health & Household,Household Supplies,Household Cleaning,Ways To Shop,Classroom Essentials,Featured Brands,Home And Storage & Org,Clorox,Glass Cleaners,Surface Care & Protection,Business & Industrial,Cleaning & Janitorial Supplies,Cleaners & Disinfectants,Cleaning Wipes & Pads,Cleaning Solutions,Housewares,Target Restock,Food & Grocery,Paper Goods,Wipes,All Purpose Cleaners    8545\n",
       "Movies, Music & Books,Movies,Action & Adventure,Movies & Music,Movies & TV Shows,Frys                                                                                                                                                                                                                                                                                                                                                                                                   3325\n",
       "Household Chemicals,Household Cleaners,Bath & Shower Cleaner,Household Essentials,Cleaning Supplies,Bathroom Cleaners,Prime Pantry,Bathroom,Featured Brands,Home And Storage & Org,Clorox,All-purpose Cleaners,Health & Household,Household Supplies,Household Cleaning,Target Restock,Food & Grocery                                                                                                                                                                                   2039\n",
       "Beauty,Hair Care,Shampoo & Conditioner,Holiday Shop,Christmas,Featured Brands,Health & Beauty,L'oreal,Personal Care,Hair Treatments,Conditioner                                                                                                                                                                                                                                                                                                                                         1186\n",
       "Movies, Music & Books,Movies,Kids' & Family,Ways To Shop Entertainment,Movies & Tv On Blu-Ray,Movies & TV,Disney,Blu-ray,Children & Family,Movies & Music,Movies & TV Shows,Electronics, Tech Toys, Movies, Music,Blu-Rays,See ALL Blu-Ray,Frys                                                                                                                                                                                                                                         1143\n",
       "                                                                                                                                                                                                                                                                                                                                                                                                                                                                                        ... \n",
       "Home Improvement,Bathroom Renovation,Bathroom Plumbing,Aerators and Adaptors,Aerators,Kitchen Sink Aerators,Tools & Home Improvement,Kitchen & Bath Fixtures,Kitchen Fixtures                                                                                                                                                                                                                                                                                                              1\n",
       "Household Chemicals,Laundry,Bleach Products,Household Essentials,Laundry Care,Health & Household,Household Supplies,Bleach,Featured Brands,Home And Storage & Org,Clorox,Grocery                                                                                                                                                                                                                                                                                                           1\n",
       "Home,Home Decor,Clocks,Wall Clocks,Decor,Office Supplies,Decorative Accents,Wall Decor,Office Decor                                                                                                                                                                                                                                                                                                                                                                                        1\n",
       "Food,Packaged Foods,Dairy & Dairy Substitutes,Yogurt,Food & Beverage,Food & Beverage Ways To Shop,Gluten Free,Special Diets,Featured Brands,Grocery,Yogurt Snacks,Organic Yogurt,Baby,Feeding,Baby Food                                                                                                                                                                                                                                                                                    1\n",
       "Movies, Music & Books,Music,R&b,Movies & TV,Movie Bundles & Collections,CDs & Vinyl,Rap & Hip-Hop,Bass,Music on CD or Vinyl,Rap,Hip-Hop,Mainstream Rap,Pop Rap                                                                                                                                                                                                                                                                                                                             1\n",
       "Name: categories, Length: 270, dtype: int64"
      ]
     },
     "execution_count": 11,
     "metadata": {},
     "output_type": "execute_result"
    }
   ],
   "source": [
    "df['categories'].value_counts()"
   ]
  },
  {
   "cell_type": "markdown",
   "id": "90c3b4f1",
   "metadata": {},
   "source": [
    "##### There are 259 categories of products to be reviewed"
   ]
  },
  {
   "cell_type": "code",
   "execution_count": 12,
   "id": "4192eee7",
   "metadata": {},
   "outputs": [
    {
     "data": {
      "text/plain": [
       "271"
      ]
     },
     "execution_count": 12,
     "metadata": {},
     "output_type": "execute_result"
    }
   ],
   "source": [
    "len(df['name'].unique())"
   ]
  },
  {
   "cell_type": "code",
   "execution_count": 13,
   "id": "a7a45f76",
   "metadata": {},
   "outputs": [
    {
     "data": {
      "text/plain": [
       "Clorox Disinfecting Wipes Value Pack Scented 150 Ct Total                         8545\n",
       "Godzilla 3d Includes Digital Copy Ultraviolet 3d/2d Blu-Ray/dvd                   3325\n",
       "Clorox Disinfecting Bathroom Cleaner                                              2039\n",
       "L'or233al Paris Elvive Extraordinary Clay Rebalancing Conditioner - 12.6 Fl Oz    1186\n",
       "Planes: Fire Rescue (2 Discs) (includes Digital Copy) (blu-Ray/dvd)               1143\n",
       "                                                                                  ... \n",
       "5302050 15/16 FCT/HOSE ADAPTOR                                                       1\n",
       "Clorox Ultimate Care Premium Bleach                                                  1\n",
       "Pocket Watch Wall Clock Distressed Black - Yosemite Home Decor174                    1\n",
       "Stonyfield Yobaby Peach & Pear Yogurt 4oz 6 Ct                                       1\n",
       "Pink Friday: Roman Reloaded Re-Up (w/dvd)                                            1\n",
       "Name: name, Length: 271, dtype: int64"
      ]
     },
     "execution_count": 13,
     "metadata": {},
     "output_type": "execute_result"
    }
   ],
   "source": [
    "df.name.value_counts()"
   ]
  },
  {
   "cell_type": "markdown",
   "id": "3d8e6e7d",
   "metadata": {},
   "source": [
    "#### There are total 260 unique products.Out of them Clorox Disinfecting Wipes Value Pack Scented 150 Ct Total has been reviewed the maximum no. of times"
   ]
  },
  {
   "cell_type": "code",
   "execution_count": 14,
   "id": "9883cec0",
   "metadata": {},
   "outputs": [
    {
     "data": {
      "image/png": "[encoded data removed]",
      "text/plain": [
       "<Figure size 720x432 with 1 Axes>"
      ]
     },
     "metadata": {
      "needs_background": "light"
     },
     "output_type": "display_data"
    }
   ],
   "source": [
    "df['name'].value_counts()[0:10].plot(kind='barh', figsize=[10,6], fontsize=20).invert_yaxis()"
   ]
  },
  {
   "cell_type": "code",
   "execution_count": 15,
   "id": "4764844a",
   "metadata": {},
   "outputs": [
    {
     "data": {
      "text/plain": [
       "[1, 2, 3, 4, 5]"
      ]
     },
     "execution_count": 15,
     "metadata": {},
     "output_type": "execute_result"
    }
   ],
   "source": [
    "sorted(df['reviews_rating'].unique())"
   ]
  },
  {
   "cell_type": "markdown",
   "id": "9a9b7b29",
   "metadata": {},
   "source": [
    "### 1.1 Brand Analysis"
   ]
  },
  {
   "cell_type": "markdown",
   "id": "c71e3a4c",
   "metadata": {},
   "source": [
    "#### 1.1.1 Let's analyse Clorox's rating"
   ]
  },
  {
   "cell_type": "code",
   "execution_count": 16,
   "id": "df4a3b92",
   "metadata": {},
   "outputs": [
    {
     "name": "stdout",
     "output_type": "stream",
     "text": [
      "Average Rating of Clorox is: 4.824279641001417\n"
     ]
    }
   ],
   "source": [
    "Clorox = df.loc[df['brand'] == 'Clorox',:]\n",
    "ratings = list(Clorox['reviews_rating'])\n",
    "print(\"Average Rating of Clorox is:\",sum(ratings)/len(ratings))"
   ]
  },
  {
   "cell_type": "markdown",
   "id": "fd50ca67",
   "metadata": {},
   "source": [
    "#### Thus we see that the Average Rating of Clorox is 4.8 and it is quite a popular and highly rated product"
   ]
  },
  {
   "cell_type": "code",
   "execution_count": 17,
   "id": "bd5a992c",
   "metadata": {},
   "outputs": [
    {
     "data": {
      "image/png": "[encoded data removed]",
      "text/plain": [
       "<Figure size 432x288 with 1 Axes>"
      ]
     },
     "metadata": {
      "needs_background": "light"
     },
     "output_type": "display_data"
    }
   ],
   "source": [
    "top = Clorox['reviews_rating'].value_counts().index.tolist()\n",
    "value = Clorox['reviews_rating'].value_counts().values.tolist()\n",
    "sns.barplot(top, value, alpha=0.8)\n",
    "plt.xlabel('Rating of the product', fontsize=14)\n",
    "plt.ylabel('Number of reviews with that given', fontsize=14)\n",
    "plt.title(\"Rating for Clorox\", fontsize=16)\n",
    "plt.show()"
   ]
  },
  {
   "cell_type": "markdown",
   "id": "07ea2ae5",
   "metadata": {},
   "source": [
    "#### 1.1.2 Let's Analyse Warner Home Video rating\n"
   ]
  },
  {
   "cell_type": "code",
   "execution_count": 18,
   "id": "f66cb823",
   "metadata": {},
   "outputs": [
    {
     "name": "stdout",
     "output_type": "stream",
     "text": [
      "Average Rating of Warner Home Video is: 4.350676691729324\n"
     ]
    }
   ],
   "source": [
    "Warner = df.loc[df['brand'] == 'Warner Home Video',:]\n",
    "ratings = list(Warner['reviews_rating'])\n",
    "print(\"Average Rating of Warner Home Video is:\",sum(ratings)/len(ratings))"
   ]
  },
  {
   "cell_type": "code",
   "execution_count": 19,
   "id": "4d24b63e",
   "metadata": {},
   "outputs": [
    {
     "data": {
      "image/png": "[encoded data removed]",
      "text/plain": [
       "<Figure size 432x288 with 1 Axes>"
      ]
     },
     "metadata": {
      "needs_background": "light"
     },
     "output_type": "display_data"
    }
   ],
   "source": [
    "top = Warner['reviews_rating'].value_counts().index.tolist()\n",
    "value = Warner['reviews_rating'].value_counts().values.tolist()\n",
    "sns.barplot(top, value, alpha=0.8)\n",
    "plt.xlabel('Rating of the product', fontsize=14)\n",
    "plt.ylabel('Number of reviews with that given', fontsize=14)\n",
    "plt.title(\"Rating for Warner Home Video\", fontsize=16)\n",
    "plt.show()"
   ]
  },
  {
   "cell_type": "markdown",
   "id": "953dd836",
   "metadata": {},
   "source": [
    "### 1.2 Product Name Analysis"
   ]
  },
  {
   "cell_type": "markdown",
   "id": "5ceb54d5",
   "metadata": {},
   "source": [
    "#### 1.2.1 Analysis for Clorox Disinfecting Wipes Value Pack Scented 150 Ct Total"
   ]
  },
  {
   "cell_type": "code",
   "execution_count": 20,
   "id": "32d9020f",
   "metadata": {},
   "outputs": [
    {
     "name": "stdout",
     "output_type": "stream",
     "text": [
      "Average Rating of CloroxWipes is: 4.820479812755997\n"
     ]
    }
   ],
   "source": [
    "CloroxWipes = df.loc[df['name'] == 'Clorox Disinfecting Wipes Value Pack Scented 150 Ct Total',:]\n",
    "ratings = list(CloroxWipes['reviews_rating'])\n",
    "print(\"Average Rating of CloroxWipes is:\",sum(ratings)/len(ratings))"
   ]
  },
  {
   "cell_type": "code",
   "execution_count": 21,
   "id": "dd9a4817",
   "metadata": {},
   "outputs": [
    {
     "data": {
      "image/png": "[encoded data removed]",
      "text/plain": [
       "<Figure size 432x288 with 1 Axes>"
      ]
     },
     "metadata": {
      "needs_background": "light"
     },
     "output_type": "display_data"
    }
   ],
   "source": [
    "top = CloroxWipes['reviews_rating'].value_counts().index.tolist()\n",
    "value = CloroxWipes['reviews_rating'].value_counts().values.tolist()\n",
    "sns.barplot(top, value, alpha=0.8)\n",
    "plt.xlabel('Rating of the product', fontsize=14)\n",
    "plt.ylabel('Number of reviews with that given', fontsize=14)\n",
    "plt.title(\"Rating for CloroxWipes\", fontsize=16)\n",
    "plt.show()"
   ]
  },
  {
   "cell_type": "markdown",
   "id": "50811607",
   "metadata": {},
   "source": [
    "### 1.3 Average Number of words per review"
   ]
  },
  {
   "cell_type": "code",
   "execution_count": 22,
   "id": "a430de93",
   "metadata": {},
   "outputs": [
    {
     "name": "stdout",
     "output_type": "stream",
     "text": [
      "On average a review has about: 34.38636666666667 words in them\n"
     ]
    }
   ],
   "source": [
    "totalreviews = list(df['reviews_text'])\n",
    "length = []\n",
    "for i in range(0,len(totalreviews)):\n",
    "        totalreviews[i] = str(totalreviews[i])\n",
    "        a = len(totalreviews[i].split(' '))\n",
    "        length.append(a)\n",
    "\n",
    "    \n",
    "print(\"On average a review has about:\", sum(length)/len(length),\"words in them\")"
   ]
  },
  {
   "cell_type": "markdown",
   "id": "487eea47",
   "metadata": {},
   "source": [
    "#### There are 34 words on  an average in a review"
   ]
  },
  {
   "cell_type": "code",
   "execution_count": 23,
   "id": "48b42b17",
   "metadata": {},
   "outputs": [
    {
     "data": {
      "text/plain": [
       "30000"
      ]
     },
     "execution_count": 23,
     "metadata": {},
     "output_type": "execute_result"
    }
   ],
   "source": [
    "len(ratings)\n",
    "len(length)\n",
    "df.shape\n",
    "\n",
    "num_rating=list(df.reviews_rating)\n",
    "len(num_rating)"
   ]
  },
  {
   "cell_type": "markdown",
   "id": "0dbc9a6a",
   "metadata": {},
   "source": [
    "### 1.4 Average Number of words per rating"
   ]
  },
  {
   "cell_type": "code",
   "execution_count": 24,
   "id": "d5048645",
   "metadata": {},
   "outputs": [],
   "source": [
    "dt = pd.DataFrame()\n",
    "dt['length'] =  length\n",
    "dt['ratings'] =  num_rating\n",
    "five_star = dt.loc[dt['ratings'] == 5,:]\n",
    "five = sum(five_star['length'])/len(five_star['length'])\n",
    "four_star = dt.loc[dt['ratings'] == 4,:]\n",
    "four = sum(four_star['length'])/len(four_star['length'])\n",
    "three_star = dt.loc[dt['ratings'] == 3,:]\n",
    "three = sum(three_star['length'])/len(three_star['length'])\n",
    "to_star = dt.loc[dt['ratings'] == 2,:]\n",
    "to = sum(to_star['length'])/len(to_star['length'])\n",
    "on_star = dt.loc[dt['ratings'] == 1,:]\n",
    "on = sum(on_star['length'])/len(on_star['length'])"
   ]
  },
  {
   "cell_type": "code",
   "execution_count": 25,
   "id": "dfad89db",
   "metadata": {},
   "outputs": [
    {
     "data": {
      "image/png": "[encoded data removed]",
      "text/plain": [
       "<Figure size 432x288 with 1 Axes>"
      ]
     },
     "metadata": {
      "needs_background": "light"
     },
     "output_type": "display_data"
    }
   ],
   "source": [
    "colors = ['gold', 'orange','yellowgreen', 'lightcoral', 'lightskyblue']\n",
    "top = ['one','two','three','four','five']\n",
    "value = [int(on), int(to),int(three),int(four),int(five)]\n",
    "sns.barplot(top, value, alpha=0.8)\n",
    "plt.xlabel('Rating of the product', fontsize=14)\n",
    "plt.ylabel('Average number of words in the review', fontsize=14)\n",
    "plt.title(\"Rating given vs Number of words used in review\", fontsize=16)\n",
    "plt.show()"
   ]
  },
  {
   "cell_type": "markdown",
   "id": "2417ef46",
   "metadata": {},
   "source": [
    "##### Five star ratings are the shortest whereas One star ratings are the longest having on a average 50 words"
   ]
  },
  {
   "cell_type": "markdown",
   "id": "233aa6c9",
   "metadata": {},
   "source": [
    "### 1.5 Array of all words used in 5 star rating"
   ]
  },
  {
   "cell_type": "code",
   "execution_count": 26,
   "id": "8f89b699",
   "metadata": {},
   "outputs": [],
   "source": [
    "f = df.loc[df['reviews_rating'] == 5,:]\n",
    "ss = list(f['reviews_text'])\n",
    "aa=[]\n",
    "for i in range(0,len(ss)):\n",
    "    ss[i] = str(ss[i])\n",
    "    aa.append(ss[i].split(' '))"
   ]
  },
  {
   "cell_type": "code",
   "execution_count": 27,
   "id": "a8991103",
   "metadata": {},
   "outputs": [
    {
     "data": {
      "text/plain": [
       "['i',\n",
       " 'love',\n",
       " 'this',\n",
       " 'album.',\n",
       " \"it's\",\n",
       " 'very',\n",
       " 'good.',\n",
       " 'more',\n",
       " 'to',\n",
       " 'the',\n",
       " 'hip',\n",
       " 'hop',\n",
       " 'side',\n",
       " 'than',\n",
       " 'her',\n",
       " 'current',\n",
       " 'pop',\n",
       " 'sound..',\n",
       " 'SO',\n",
       " 'HYPE!',\n",
       " 'i',\n",
       " 'listen',\n",
       " 'to',\n",
       " 'this',\n",
       " 'everyday',\n",
       " 'at',\n",
       " 'the',\n",
       " 'gym!',\n",
       " 'i',\n",
       " 'give',\n",
       " 'it',\n",
       " '5star',\n",
       " 'rating',\n",
       " 'all',\n",
       " 'the',\n",
       " 'way.',\n",
       " 'her',\n",
       " 'metaphors',\n",
       " 'are',\n",
       " 'just',\n",
       " 'crazy.',\n",
       " 'Good',\n",
       " 'flavor.',\n",
       " 'This',\n",
       " 'review',\n",
       " 'was',\n",
       " 'collected',\n",
       " 'as',\n",
       " 'part',\n",
       " 'of',\n",
       " 'a',\n",
       " 'promotion.',\n",
       " 'Good',\n",
       " 'flavor.',\n",
       " 'Loved',\n",
       " 'This',\n",
       " 'review',\n",
       " 'was',\n",
       " 'collected',\n",
       " 'as',\n",
       " 'part',\n",
       " 'of',\n",
       " 'a',\n",
       " 'promotion.',\n",
       " 'This',\n",
       " 'is',\n",
       " 'a',\n",
       " 'good',\n",
       " 'product.',\n",
       " 'Will',\n",
       " 'give',\n",
       " 'you',\n",
       " 'a',\n",
       " 'great',\n",
       " 'feeling.',\n",
       " 'I',\n",
       " 'really',\n",
       " 'enjoyed',\n",
       " 'using',\n",
       " 'this',\n",
       " 'product',\n",
       " 'with',\n",
       " 'my',\n",
       " 'husband.',\n",
       " 'After',\n",
       " '20+',\n",
       " 'years',\n",
       " 'of',\n",
       " 'marriage,',\n",
       " 'things',\n",
       " 'can',\n",
       " 'tend',\n",
       " 'to',\n",
       " 'get',\n",
       " 'a',\n",
       " 'little',\n",
       " 'tired',\n",
       " 'and',\n",
       " 'boring.',\n",
       " 'This',\n",
       " 'was',\n",
       " 'just',\n",
       " 'the',\n",
       " 'thing',\n",
       " 'we',\n",
       " 'needed',\n",
       " 'to',\n",
       " 'shake',\n",
       " 'things',\n",
       " 'up',\n",
       " 'a',\n",
       " 'bit.',\n",
       " 'The',\n",
       " 'packaging',\n",
       " 'and',\n",
       " 'pump',\n",
       " 'dispenser',\n",
       " 'is',\n",
       " 'awesome.',\n",
       " 'The',\n",
       " 'product',\n",
       " 'itself',\n",
       " 'does',\n",
       " 'not',\n",
       " 'disappoint.',\n",
       " 'A',\n",
       " 'little',\n",
       " 'goes',\n",
       " 'a',\n",
       " 'very',\n",
       " 'long',\n",
       " 'way.',\n",
       " 'It',\n",
       " 'provides',\n",
       " 'a',\n",
       " 'slight',\n",
       " 'warming',\n",
       " 'sensation',\n",
       " 'when',\n",
       " 'in',\n",
       " 'use',\n",
       " 'and',\n",
       " 'does',\n",
       " 'not',\n",
       " 'become',\n",
       " 'sticky',\n",
       " 'or',\n",
       " 'tacky',\n",
       " 'in',\n",
       " 'anyway.',\n",
       " 'This',\n",
       " 'is',\n",
       " 'an',\n",
       " 'excellent',\n",
       " 'choice',\n",
       " 'for',\n",
       " 'an',\n",
       " 'intimate',\n",
       " 'lubricant.',\n",
       " 'I',\n",
       " 'received',\n",
       " 'a',\n",
       " 'free',\n",
       " 'product',\n",
       " 'for',\n",
       " 'the',\n",
       " 'purpose',\n",
       " 'of',\n",
       " 'my',\n",
       " 'review.',\n",
       " 'Opinions',\n",
       " 'are',\n",
       " '100',\n",
       " 'my',\n",
       " 'own.',\n",
       " 'Awesome',\n",
       " 'Product',\n",
       " 'for',\n",
       " 'couples.',\n",
       " 'It',\n",
       " 'is',\n",
       " 'a',\n",
       " 'warm',\n",
       " 'feeling',\n",
       " 'lubricant',\n",
       " 'and',\n",
       " 'not',\n",
       " 'sticky',\n",
       " 'like',\n",
       " 'a',\n",
       " 'lot',\n",
       " 'of',\n",
       " 'other',\n",
       " 'lubricants.It',\n",
       " 'is',\n",
       " 'very',\n",
       " 'easy',\n",
       " 'to',\n",
       " 'clean',\n",
       " 'up',\n",
       " 'after',\n",
       " 'use.I',\n",
       " 'will',\n",
       " 'absolutely',\n",
       " 'be',\n",
       " 'purchasing',\n",
       " 'more',\n",
       " 'in',\n",
       " 'the',\n",
       " 'future.',\n",
       " 'I',\n",
       " 'received',\n",
       " 'this',\n",
       " 'product',\n",
       " 'free',\n",
       " 'for',\n",
       " 'the',\n",
       " 'purpose',\n",
       " 'to',\n",
       " 'give',\n",
       " 'my',\n",
       " 'review..Opinions',\n",
       " 'are',\n",
       " '100',\n",
       " 'my',\n",
       " 'own!',\n",
       " 'Exceptional',\n",
       " 'product,',\n",
       " 'this',\n",
       " 'is',\n",
       " 'smooth,',\n",
       " 'not',\n",
       " 'slimy',\n",
       " 'and',\n",
       " 'the',\n",
       " 'warming',\n",
       " 'sensation',\n",
       " 'is',\n",
       " 'an',\n",
       " 'experience',\n",
       " 'that',\n",
       " 'both',\n",
       " 'partners',\n",
       " 'should',\n",
       " 'share',\n",
       " 'at',\n",
       " 'least',\n",
       " 'once',\n",
       " 'in',\n",
       " 'their',\n",
       " 'lifetime.',\n",
       " 'Great',\n",
       " 'way',\n",
       " 'to',\n",
       " 'shake',\n",
       " 'things',\n",
       " 'up!',\n",
       " 'I',\n",
       " 'used',\n",
       " 'this',\n",
       " 'for',\n",
       " 'the',\n",
       " 'first',\n",
       " 'time',\n",
       " 'with',\n",
       " 'my',\n",
       " 'boyfriend',\n",
       " 'and',\n",
       " 'he',\n",
       " 'loved',\n",
       " 'it',\n",
       " 'just',\n",
       " 'as',\n",
       " 'much',\n",
       " 'as',\n",
       " 'I',\n",
       " 'did.',\n",
       " \"Didn't\",\n",
       " 'get',\n",
       " 'sticky',\n",
       " 'and',\n",
       " 'felt',\n",
       " 'great',\n",
       " 'the',\n",
       " 'entire',\n",
       " 'time.',\n",
       " 'Great',\n",
       " 'product!',\n",
       " 'Exactly',\n",
       " 'what',\n",
       " 'it',\n",
       " 'says',\n",
       " 'works',\n",
       " 'very',\n",
       " 'well',\n",
       " 'yes,',\n",
       " 'the',\n",
       " 'scent',\n",
       " 'is',\n",
       " 'the',\n",
       " 'best.',\n",
       " 'if',\n",
       " 'you',\n",
       " 'like',\n",
       " 'lemon',\n",
       " 'frosting',\n",
       " 'you',\n",
       " \"won't\",\n",
       " 'be',\n",
       " 'able',\n",
       " 'to',\n",
       " 'get',\n",
       " 'enough',\n",
       " 'of',\n",
       " 'this',\n",
       " 'lotion.',\n",
       " 'but',\n",
       " 'also,',\n",
       " \"it's\",\n",
       " 'almost',\n",
       " '100',\n",
       " 'natural,',\n",
       " 'none',\n",
       " 'of',\n",
       " 'the',\n",
       " 'yucky',\n",
       " 'ingredients',\n",
       " 'like',\n",
       " 'in',\n",
       " 'major',\n",
       " 'brands',\n",
       " 'of',\n",
       " 'lotion.',\n",
       " 'no',\n",
       " 'mineral',\n",
       " 'oil,',\n",
       " 'no',\n",
       " 'petroleum,',\n",
       " 'etc.',\n",
       " 'but',\n",
       " 'also,',\n",
       " 'it',\n",
       " 'completely',\n",
       " 'works.',\n",
       " 'you',\n",
       " 'know',\n",
       " 'how',\n",
       " 'sometimes',\n",
       " 'you',\n",
       " 'opt',\n",
       " 'for',\n",
       " 'organic',\n",
       " 'choices',\n",
       " 'and',\n",
       " \"it's\",\n",
       " 'good,',\n",
       " 'but',\n",
       " 'not',\n",
       " 'as',\n",
       " 'good',\n",
       " 'as',\n",
       " 'popular',\n",
       " 'but',\n",
       " 'nastier',\n",
       " 'brands',\n",
       " 'jr',\n",
       " 'watkins',\n",
       " 'delivers.',\n",
       " 'this',\n",
       " 'lotion',\n",
       " 'softens',\n",
       " 'your',\n",
       " 'hands',\n",
       " 'and',\n",
       " 'body,',\n",
       " 'leaves',\n",
       " 'you',\n",
       " 'ungreasy',\n",
       " 'and',\n",
       " 'smells',\n",
       " 'perfect.',\n",
       " 'even',\n",
       " 'my',\n",
       " 'fiance',\n",
       " 'likes',\n",
       " 'it',\n",
       " 'and',\n",
       " 'uses',\n",
       " 'it',\n",
       " 'and',\n",
       " \"he's\",\n",
       " 'pretty',\n",
       " 'much',\n",
       " 'anti-lotion',\n",
       " 'in',\n",
       " 'all',\n",
       " 'regards.',\n",
       " 'the',\n",
       " 'price',\n",
       " 'is',\n",
       " 'absolutely',\n",
       " 'right,',\n",
       " 'too--get',\n",
       " 'it!',\n",
       " 'The',\n",
       " 'Hand-Cream-Lemon-Cream',\n",
       " 'has',\n",
       " 'such',\n",
       " 'a',\n",
       " 'refreshing',\n",
       " 'fragrance.',\n",
       " 'I',\n",
       " 'wish',\n",
       " 'it',\n",
       " 'would',\n",
       " 'last',\n",
       " 'all',\n",
       " 'day.',\n",
       " 'It',\n",
       " 'is',\n",
       " 'soothing',\n",
       " 'to',\n",
       " 'the',\n",
       " 'hands',\n",
       " 'and',\n",
       " 'I',\n",
       " 'get',\n",
       " 'compliments',\n",
       " 'when',\n",
       " 'I',\n",
       " 'use',\n",
       " 'it',\n",
       " 'especially',\n",
       " 'from',\n",
       " 'my',\n",
       " 'daughters',\n",
       " 'and',\n",
       " 'granddaughters,',\n",
       " 'they',\n",
       " 'want',\n",
       " 'me',\n",
       " 'to',\n",
       " 'get',\n",
       " 'some',\n",
       " 'for',\n",
       " 'them',\n",
       " 'It',\n",
       " 'is',\n",
       " 'one',\n",
       " 'of',\n",
       " 'my',\n",
       " 'favorite',\n",
       " 'hand',\n",
       " 'creams.',\n",
       " 'I',\n",
       " 'wish',\n",
       " 'Watkins',\n",
       " 'still',\n",
       " 'had',\n",
       " 'the',\n",
       " 'vanilla',\n",
       " 'body',\n",
       " 'cream',\n",
       " 'that',\n",
       " 'too',\n",
       " 'was',\n",
       " 'a',\n",
       " 'favorite.',\n",
       " 'Smells',\n",
       " 'like',\n",
       " 'a',\n",
       " 'lemon',\n",
       " 'cookie.',\n",
       " 'Absolutely',\n",
       " 'love!!!',\n",
       " 'My',\n",
       " 'kids',\n",
       " 'love',\n",
       " 'it.',\n",
       " 'You',\n",
       " 'will',\n",
       " 'LOVE',\n",
       " 'this',\n",
       " 'lotion.',\n",
       " 'I',\n",
       " 'smile',\n",
       " 'every',\n",
       " 'time',\n",
       " 'I',\n",
       " 'put',\n",
       " 'it',\n",
       " 'on.',\n",
       " 'This',\n",
       " 'hand',\n",
       " 'cream',\n",
       " 'is',\n",
       " 'so',\n",
       " 'nice',\n",
       " 'that',\n",
       " 'I',\n",
       " 'had',\n",
       " 'it',\n",
       " 'on',\n",
       " 'my',\n",
       " 'desk',\n",
       " 'at',\n",
       " 'work',\n",
       " 'and',\n",
       " 'someone',\n",
       " 'stole',\n",
       " 'it',\n",
       " 'after',\n",
       " 'just',\n",
       " 'two',\n",
       " 'days!',\n",
       " 'Broke',\n",
       " 'my',\n",
       " 'heart',\n",
       " 'a',\n",
       " 'little',\n",
       " 'I',\n",
       " 'love',\n",
       " 'this',\n",
       " 'lotion.',\n",
       " 'Nice',\n",
       " 'and',\n",
       " 'thick,',\n",
       " 'great',\n",
       " 'fragrance.',\n",
       " 'I',\n",
       " 'use',\n",
       " 'it',\n",
       " 'on',\n",
       " 'my',\n",
       " 'hands',\n",
       " 'and',\n",
       " 'my',\n",
       " 'feet.',\n",
       " 'Makes',\n",
       " 'my',\n",
       " 'skin',\n",
       " 'feel',\n",
       " 'clean',\n",
       " 'and',\n",
       " 'not',\n",
       " 'super',\n",
       " 'dry',\n",
       " 'where',\n",
       " 'its',\n",
       " 'ashy',\n",
       " 'if',\n",
       " 'i',\n",
       " 'dont',\n",
       " 'follow',\n",
       " 'with',\n",
       " 'a',\n",
       " 'moisturiser',\n",
       " 'as',\n",
       " 'soon',\n",
       " 'as',\n",
       " 'im',\n",
       " 'done.',\n",
       " 'The',\n",
       " 'skin',\n",
       " 'doesnt',\n",
       " 'feel',\n",
       " 'oily',\n",
       " 'or',\n",
       " 'tacky.',\n",
       " 'Makes',\n",
       " 'my',\n",
       " 'skin',\n",
       " 'more',\n",
       " 'radiant',\n",
       " 'and',\n",
       " 'use',\n",
       " 'of',\n",
       " 'foundation',\n",
       " 'and',\n",
       " 'concealer',\n",
       " 'is',\n",
       " 'not',\n",
       " 'needed',\n",
       " 'to',\n",
       " 'make',\n",
       " 'the',\n",
       " 'skin',\n",
       " 'look',\n",
       " 'even',\n",
       " 'and',\n",
       " 'hydrated.',\n",
       " 'It',\n",
       " 'makes',\n",
       " 'my',\n",
       " 'face',\n",
       " 'feel',\n",
       " 'nice',\n",
       " 'and',\n",
       " 'fresh.',\n",
       " 'After',\n",
       " 'about',\n",
       " '3',\n",
       " 'days',\n",
       " 'i',\n",
       " 'did',\n",
       " 'get',\n",
       " 'slight',\n",
       " 'acne',\n",
       " 'but',\n",
       " 'it',\n",
       " 'cleared',\n",
       " 'right',\n",
       " 'back',\n",
       " 'up!',\n",
       " 'Will',\n",
       " 'deff',\n",
       " 'use',\n",
       " 'this',\n",
       " 'every',\n",
       " 'day',\n",
       " 'from',\n",
       " 'now',\n",
       " 'on!',\n",
       " 'I',\n",
       " 'have',\n",
       " 'used',\n",
       " 'this',\n",
       " 'soap',\n",
       " 'for',\n",
       " 'years',\n",
       " 'and',\n",
       " 'considered',\n",
       " 'it',\n",
       " \"Wal-Mart's\",\n",
       " 'best',\n",
       " 'kept',\n",
       " 'secret.',\n",
       " 'I',\n",
       " 'was',\n",
       " 'so',\n",
       " 'disappointed',\n",
       " 'when',\n",
       " 'they',\n",
       " 'stopped',\n",
       " 'carrying',\n",
       " 'it',\n",
       " 'in',\n",
       " 'our',\n",
       " 'store',\n",
       " 'location.',\n",
       " 'Was',\n",
       " 'delighted',\n",
       " 'to',\n",
       " 'see',\n",
       " 'I',\n",
       " 'could',\n",
       " 'get',\n",
       " 'it',\n",
       " 'online',\n",
       " 'it',\n",
       " 'ended',\n",
       " 'up',\n",
       " 'a',\n",
       " 'blessing.',\n",
       " 'I',\n",
       " \"don't\",\n",
       " 'go',\n",
       " 'to',\n",
       " 'Wal-Mart',\n",
       " 'as',\n",
       " 'often',\n",
       " 'so',\n",
       " \"I'm\",\n",
       " 'saving',\n",
       " 'money',\n",
       " 'there',\n",
       " '(Sorry',\n",
       " 'Walmart),',\n",
       " 'delivery',\n",
       " 'was',\n",
       " 'prompt,',\n",
       " 'I',\n",
       " 'stockpiled',\n",
       " 'and',\n",
       " 'never',\n",
       " 'left',\n",
       " 'the',\n",
       " 'house.',\n",
       " 'I',\n",
       " 'absolutely',\n",
       " 'love',\n",
       " 'this',\n",
       " 'bubblebath.',\n",
       " 'It',\n",
       " 'smells',\n",
       " 'so',\n",
       " 'good',\n",
       " 'and',\n",
       " 'it',\n",
       " 'body',\n",
       " 'wash',\n",
       " 'too.',\n",
       " 'My',\n",
       " 'little',\n",
       " 'one',\n",
       " 'has',\n",
       " 'very',\n",
       " 'sensitive',\n",
       " 'skin',\n",
       " 'so',\n",
       " 'this',\n",
       " 'is',\n",
       " 'a',\n",
       " 'great',\n",
       " 'option',\n",
       " 'for',\n",
       " 'her',\n",
       " 'to',\n",
       " 'still',\n",
       " 'enjoy',\n",
       " 'bubbles',\n",
       " 'and',\n",
       " 'not',\n",
       " 'break',\n",
       " 'out.',\n",
       " 'I',\n",
       " 'bought',\n",
       " 'a',\n",
       " 'small',\n",
       " 'sample',\n",
       " 'size',\n",
       " 'of',\n",
       " 'this',\n",
       " 'a',\n",
       " 'couple',\n",
       " 'months',\n",
       " 'back',\n",
       " 'and',\n",
       " 'loved',\n",
       " 'it.',\n",
       " 'The',\n",
       " 'smell',\n",
       " 'is',\n",
       " 'just',\n",
       " 'wonderful.',\n",
       " 'I',\n",
       " 'recently',\n",
       " 'bought',\n",
       " 'a',\n",
       " 'new',\n",
       " 'bottle',\n",
       " 'and',\n",
       " 'think',\n",
       " 'that',\n",
       " 'I',\n",
       " 'may',\n",
       " 'have',\n",
       " 'to',\n",
       " 'keep',\n",
       " 'it',\n",
       " 'in',\n",
       " 'my',\n",
       " 'shower',\n",
       " 'and',\n",
       " 'buy',\n",
       " 'my',\n",
       " 'kids',\n",
       " 'another',\n",
       " 'one!',\n",
       " 'Very',\n",
       " 'pleasant',\n",
       " 'smell.',\n",
       " 'Only',\n",
       " 'need',\n",
       " 'a',\n",
       " 'little',\n",
       " 'for',\n",
       " 'a',\n",
       " 'whole',\n",
       " 'lot',\n",
       " 'of',\n",
       " 'bubbles.',\n",
       " 'My',\n",
       " 'babies',\n",
       " 'love',\n",
       " 'the',\n",
       " 'bubbles',\n",
       " 'and',\n",
       " 'mom',\n",
       " 'loves',\n",
       " 'that',\n",
       " 'is',\n",
       " 'tear',\n",
       " 'free',\n",
       " 'and',\n",
       " 'the',\n",
       " 'fragrance',\n",
       " 'My',\n",
       " 'son',\n",
       " 'loves',\n",
       " 'this',\n",
       " 'product.',\n",
       " 'Makes',\n",
       " 'bath',\n",
       " 'time',\n",
       " 'more',\n",
       " 'fun',\n",
       " 'and',\n",
       " 'looks',\n",
       " 'forward',\n",
       " 'to',\n",
       " 'it.',\n",
       " 'Not',\n",
       " 'only',\n",
       " 'is',\n",
       " 'it',\n",
       " 'bubbles',\n",
       " 'but',\n",
       " 'also',\n",
       " 'body',\n",
       " 'wash.',\n",
       " 'The',\n",
       " '2-',\n",
       " 'in-1',\n",
       " 'makes',\n",
       " 'it',\n",
       " 'convenient',\n",
       " 'for',\n",
       " 'me',\n",
       " 'Really',\n",
       " 'liked',\n",
       " 'the',\n",
       " 'fresh',\n",
       " 'smell',\n",
       " 'of',\n",
       " 'this.',\n",
       " 'I',\n",
       " 'love',\n",
       " 'it',\n",
       " 'amazing',\n",
       " 'on',\n",
       " 'my',\n",
       " 'skin',\n",
       " 'is',\n",
       " 'so',\n",
       " 'smooth',\n",
       " 'nd',\n",
       " 'not',\n",
       " 'crack',\n",
       " 'at',\n",
       " 'all',\n",
       " 'I',\n",
       " 'have',\n",
       " 'used',\n",
       " 'this',\n",
       " 'product',\n",
       " 'for',\n",
       " 'years',\n",
       " 'and',\n",
       " 'my',\n",
       " 'skin',\n",
       " 'is',\n",
       " 'supple',\n",
       " 'and',\n",
       " 'has',\n",
       " 'very',\n",
       " 'few',\n",
       " 'wrinkles.',\n",
       " 'People',\n",
       " 'constantly',\n",
       " 'come',\n",
       " 'up',\n",
       " 'to',\n",
       " 'me',\n",
       " 'and',\n",
       " 'comment',\n",
       " 'on',\n",
       " 'what',\n",
       " 'lovely',\n",
       " 'skin',\n",
       " 'I',\n",
       " 'have.',\n",
       " 'I',\n",
       " 'also',\n",
       " 'have',\n",
       " 'people',\n",
       " 'commenting',\n",
       " 'that',\n",
       " 'I',\n",
       " 'look',\n",
       " '20',\n",
       " 'years',\n",
       " 'younger',\n",
       " 'than',\n",
       " 'my',\n",
       " 'actual',\n",
       " 'age.',\n",
       " 'I',\n",
       " 'know',\n",
       " 'my',\n",
       " 'Regenerist',\n",
       " 'Deep',\n",
       " 'Hydration',\n",
       " 'Regenerating',\n",
       " 'Cream',\n",
       " 'has',\n",
       " 'been',\n",
       " 'a',\n",
       " 'huge',\n",
       " 'help',\n",
       " 'in',\n",
       " 'staying',\n",
       " 'young',\n",
       " 'looking.',\n",
       " 'It',\n",
       " 'is',\n",
       " 'velvety',\n",
       " 'and',\n",
       " 'rich',\n",
       " 'and',\n",
       " 'my',\n",
       " 'skin',\n",
       " 'drinks',\n",
       " 'it',\n",
       " 'in.',\n",
       " 'I',\n",
       " 'love',\n",
       " 'it!',\n",
       " 'My',\n",
       " 'foundation',\n",
       " 'smooths',\n",
       " 'on',\n",
       " 'easily',\n",
       " 'over',\n",
       " 'my',\n",
       " 'Hydrating',\n",
       " 'Cream',\n",
       " 'and',\n",
       " 'my',\n",
       " 'complexion',\n",
       " 'has',\n",
       " 'a',\n",
       " 'dewy',\n",
       " 'glow.',\n",
       " 'This',\n",
       " 'review',\n",
       " 'was',\n",
       " 'collected',\n",
       " 'as',\n",
       " 'part',\n",
       " 'of',\n",
       " 'a',\n",
       " 'promotion.',\n",
       " 'I',\n",
       " 'loved',\n",
       " 'this',\n",
       " 'product.',\n",
       " 'My',\n",
       " 'skin',\n",
       " 'was',\n",
       " 'so',\n",
       " 'soft',\n",
       " 'and',\n",
       " 'fresh',\n",
       " 'looking.',\n",
       " 'It',\n",
       " 'took',\n",
       " 'years',\n",
       " 'off',\n",
       " 'of',\n",
       " 'my',\n",
       " 'look.',\n",
       " 'This',\n",
       " 'review',\n",
       " 'was',\n",
       " 'collected',\n",
       " 'as',\n",
       " 'part',\n",
       " 'of',\n",
       " 'a',\n",
       " 'promotion.',\n",
       " 'This',\n",
       " 'is',\n",
       " 'one',\n",
       " 'of',\n",
       " 'the',\n",
       " 'best',\n",
       " 'moisturizers',\n",
       " 'I',\n",
       " 'have',\n",
       " 'ever',\n",
       " 'used.',\n",
       " 'It',\n",
       " 'absorbs',\n",
       " 'quickly',\n",
       " 'and',\n",
       " 'leaves',\n",
       " 'my',\n",
       " 'skin',\n",
       " 'soft,',\n",
       " ...]"
      ]
     },
     "execution_count": 27,
     "metadata": {},
     "output_type": "execute_result"
    }
   ],
   "source": [
    "all_words_5 = [j for i in aa for j in i]\n",
    "all_words_5"
   ]
  },
  {
   "cell_type": "markdown",
   "id": "a95c88ba",
   "metadata": {},
   "source": [
    "### 1.6 Distribution of ratings"
   ]
  },
  {
   "cell_type": "code",
   "execution_count": 28,
   "id": "ae93d2db",
   "metadata": {},
   "outputs": [
    {
     "data": {
      "text/plain": [
       "<matplotlib.legend.Legend at 0x1f26e8c8700>"
      ]
     },
     "execution_count": 28,
     "metadata": {},
     "output_type": "execute_result"
    },
    {
     "data": {
      "image/png": "[encoded data removed]",
      "text/plain": [
       "<Figure size 720x360 with 1 Axes>"
      ]
     },
     "metadata": {
      "needs_background": "light"
     },
     "output_type": "display_data"
    }
   ],
   "source": [
    "#plot ratings frequency\n",
    "plt.figure(figsize=[10,5]) #[width, height]\n",
    "x = list(df['reviews_rating'].value_counts().index)\n",
    "y = list(df['reviews_rating'].value_counts())\n",
    "plt.barh(x, y)\n",
    "\n",
    "ticks_x = np.linspace(0, 50000, 6) # (start, end, no of ticks)\n",
    "plt.xticks(ticks_x, fontsize=10, family='fantasy', color='black')\n",
    "plt.yticks(size=15)\n",
    "\n",
    "plt.title('Distribution of ratings', fontsize=20, weight='bold', color='navy', loc='center')\n",
    "plt.xlabel('Count', fontsize=15, weight='bold', color='navy')\n",
    "plt.ylabel('Ratings', fontsize=15, weight='bold', color='navy')\n",
    "plt.legend(['reviews Rating'], shadow=True, loc=4)\n",
    "#Loc =1 topright, loc=2 topleft, loc=3 bottomleft, loc=4 bottom right, loc=9 topmiddle\n",
    "#plt.grid() #add grid lines"
   ]
  },
  {
   "cell_type": "code",
   "execution_count": 29,
   "id": "3d272158",
   "metadata": {},
   "outputs": [
    {
     "data": {
      "text/plain": [
       "5    20831\n",
       "4     6020\n",
       "1     1384\n",
       "3     1345\n",
       "2      420\n",
       "Name: reviews_rating, dtype: int64"
      ]
     },
     "execution_count": 29,
     "metadata": {},
     "output_type": "execute_result"
    }
   ],
   "source": [
    "df.reviews_rating.value_counts()"
   ]
  },
  {
   "cell_type": "markdown",
   "id": "0b27e7ad",
   "metadata": {},
   "source": [
    "##### Maximum reviews are 5 star while and the least occuring rating is 2 star"
   ]
  },
  {
   "cell_type": "markdown",
   "id": "10ea46bd",
   "metadata": {},
   "source": [
    "### 1.7 Most frequently used words in review"
   ]
  },
  {
   "cell_type": "code",
   "execution_count": 30,
   "id": "8e1997a6",
   "metadata": {},
   "outputs": [
    {
     "data": {
      "image/png": "[encoded data removed]",
      "text/plain": [
       "<Figure size 1080x1080 with 1 Axes>"
      ]
     },
     "metadata": {
      "needs_background": "light"
     },
     "output_type": "display_data"
    }
   ],
   "source": [
    "from wordcloud import WordCloud, STOPWORDS\n",
    "stopwords = set(STOPWORDS)\n",
    "\n",
    "def show_wordcloud(data, title=None):\n",
    "    wordcloud = WordCloud(\n",
    "        background_color = 'white',\n",
    "        stopwords = stopwords,\n",
    "        max_words=300,\n",
    "        max_font_size=40,\n",
    "        scale=3,\n",
    "        random_state=1 ).generate(str(data))\n",
    "    fig = plt.figure(1, figsize=(15, 15))\n",
    "    plt.axis('off')\n",
    "    if title:\n",
    "        fig.subtitle(title, fontsize=20)\n",
    "        fig.subplots_adjust(top=2.3)\n",
    "    \n",
    "    plt.imshow(wordcloud)\n",
    "    plt.show()\n",
    "    \n",
    "show_wordcloud(df['reviews_text'])    "
   ]
  },
  {
   "cell_type": "markdown",
   "id": "f43ebd6a",
   "metadata": {},
   "source": [
    "# 2. Data Cleaning"
   ]
  },
  {
   "cell_type": "markdown",
   "id": "4972ea97",
   "metadata": {},
   "source": [
    "### Missing Value Imputation"
   ]
  },
  {
   "cell_type": "code",
   "execution_count": 31,
   "id": "b6ed0888",
   "metadata": {},
   "outputs": [
    {
     "data": {
      "text/plain": [
       "id                          0\n",
       "brand                       0\n",
       "categories                  0\n",
       "manufacturer              141\n",
       "name                        0\n",
       "reviews_date               46\n",
       "reviews_didPurchase     14068\n",
       "reviews_doRecommend      2570\n",
       "reviews_rating              0\n",
       "reviews_text                0\n",
       "reviews_title             190\n",
       "reviews_userCity        28071\n",
       "reviews_userProvince    29830\n",
       "reviews_username           63\n",
       "user_sentiment              1\n",
       "dtype: int64"
      ]
     },
     "execution_count": 31,
     "metadata": {},
     "output_type": "execute_result"
    }
   ],
   "source": [
    "#see the sum of missing values in each columns\n",
    "df.isnull().sum()"
   ]
  },
  {
   "cell_type": "markdown",
   "id": "eda83156",
   "metadata": {},
   "source": [
    "##### For the task of sentiment classification the target column is user_sentiment which has one missing value.Hence we would be dropping that"
   ]
  },
  {
   "cell_type": "code",
   "execution_count": 32,
   "id": "095a0847",
   "metadata": {},
   "outputs": [],
   "source": [
    "df.dropna(subset=['user_sentiment'], inplace=True)"
   ]
  },
  {
   "cell_type": "code",
   "execution_count": 33,
   "id": "257794df",
   "metadata": {},
   "outputs": [
    {
     "data": {
      "text/plain": [
       "(29999, 15)"
      ]
     },
     "execution_count": 33,
     "metadata": {},
     "output_type": "execute_result"
    }
   ],
   "source": [
    "df.shape"
   ]
  },
  {
   "cell_type": "markdown",
   "id": "b62c3b05",
   "metadata": {},
   "source": [
    "### Removing Duplicate entries for ratings for a particular product and user"
   ]
  },
  {
   "cell_type": "code",
   "execution_count": 34,
   "id": "f249a94b",
   "metadata": {},
   "outputs": [],
   "source": [
    "#  df=df[ (df.duplicated(subset=['reviews_username','name','reviews_date'], keep=False))]"
   ]
  },
  {
   "cell_type": "code",
   "execution_count": 35,
   "id": "dc2c2f9e",
   "metadata": {},
   "outputs": [
    {
     "data": {
      "text/html": [
       "<div>\n",
       "<style scoped>\n",
       "    .dataframe tbody tr th:only-of-type {\n",
       "        vertical-align: middle;\n",
       "    }\n",
       "\n",
       "    .dataframe tbody tr th {\n",
       "        vertical-align: top;\n",
       "    }\n",
       "\n",
       "    .dataframe thead th {\n",
       "        text-align: right;\n",
       "    }\n",
       "</style>\n",
       "<table border=\"1\" class=\"dataframe\">\n",
       "  <thead>\n",
       "    <tr style=\"text-align: right;\">\n",
       "      <th></th>\n",
       "      <th>id</th>\n",
       "      <th>brand</th>\n",
       "      <th>categories</th>\n",
       "      <th>manufacturer</th>\n",
       "      <th>name</th>\n",
       "      <th>reviews_date</th>\n",
       "      <th>reviews_didPurchase</th>\n",
       "      <th>reviews_doRecommend</th>\n",
       "      <th>reviews_rating</th>\n",
       "      <th>reviews_text</th>\n",
       "      <th>reviews_title</th>\n",
       "      <th>reviews_userCity</th>\n",
       "      <th>reviews_userProvince</th>\n",
       "      <th>reviews_username</th>\n",
       "      <th>user_sentiment</th>\n",
       "    </tr>\n",
       "  </thead>\n",
       "  <tbody>\n",
       "    <tr>\n",
       "      <th>0</th>\n",
       "      <td>AV13O1A8GV-KLJ3akUyj</td>\n",
       "      <td>Universal Music</td>\n",
       "      <td>Movies, Music &amp; Books,Music,R&amp;b,Movies &amp; TV,Mo...</td>\n",
       "      <td>Universal Music Group / Cash Money</td>\n",
       "      <td>Pink Friday: Roman Reloaded Re-Up (w/dvd)</td>\n",
       "      <td>2012-11-30T06:21:45.000Z</td>\n",
       "      <td>NaN</td>\n",
       "      <td>NaN</td>\n",
       "      <td>5</td>\n",
       "      <td>i love this album. it's very good. more to the...</td>\n",
       "      <td>Just Awesome</td>\n",
       "      <td>Los Angeles</td>\n",
       "      <td>NaN</td>\n",
       "      <td>joshua</td>\n",
       "      <td>Positive</td>\n",
       "    </tr>\n",
       "    <tr>\n",
       "      <th>1</th>\n",
       "      <td>AV14LG0R-jtxr-f38QfS</td>\n",
       "      <td>Lundberg</td>\n",
       "      <td>Food,Packaged Foods,Snacks,Crackers,Snacks, Co...</td>\n",
       "      <td>Lundberg</td>\n",
       "      <td>Lundberg Organic Cinnamon Toast Rice Cakes</td>\n",
       "      <td>2017-07-09T00:00:00.000Z</td>\n",
       "      <td>True</td>\n",
       "      <td>NaN</td>\n",
       "      <td>5</td>\n",
       "      <td>Good flavor. This review was collected as part...</td>\n",
       "      <td>Good</td>\n",
       "      <td>NaN</td>\n",
       "      <td>NaN</td>\n",
       "      <td>dorothy w</td>\n",
       "      <td>Positive</td>\n",
       "    </tr>\n",
       "    <tr>\n",
       "      <th>2</th>\n",
       "      <td>AV14LG0R-jtxr-f38QfS</td>\n",
       "      <td>Lundberg</td>\n",
       "      <td>Food,Packaged Foods,Snacks,Crackers,Snacks, Co...</td>\n",
       "      <td>Lundberg</td>\n",
       "      <td>Lundberg Organic Cinnamon Toast Rice Cakes</td>\n",
       "      <td>2017-07-09T00:00:00.000Z</td>\n",
       "      <td>True</td>\n",
       "      <td>NaN</td>\n",
       "      <td>5</td>\n",
       "      <td>Good flavor.</td>\n",
       "      <td>Good</td>\n",
       "      <td>NaN</td>\n",
       "      <td>NaN</td>\n",
       "      <td>dorothy w</td>\n",
       "      <td>Positive</td>\n",
       "    </tr>\n",
       "    <tr>\n",
       "      <th>3</th>\n",
       "      <td>AV16khLE-jtxr-f38VFn</td>\n",
       "      <td>K-Y</td>\n",
       "      <td>Personal Care,Medicine Cabinet,Lubricant/Sperm...</td>\n",
       "      <td>K-Y</td>\n",
       "      <td>K-Y Love Sensuality Pleasure Gel</td>\n",
       "      <td>2016-01-06T00:00:00.000Z</td>\n",
       "      <td>False</td>\n",
       "      <td>False</td>\n",
       "      <td>1</td>\n",
       "      <td>I read through the reviews on here before look...</td>\n",
       "      <td>Disappointed</td>\n",
       "      <td>NaN</td>\n",
       "      <td>NaN</td>\n",
       "      <td>rebecca</td>\n",
       "      <td>Negative</td>\n",
       "    </tr>\n",
       "    <tr>\n",
       "      <th>4</th>\n",
       "      <td>AV16khLE-jtxr-f38VFn</td>\n",
       "      <td>K-Y</td>\n",
       "      <td>Personal Care,Medicine Cabinet,Lubricant/Sperm...</td>\n",
       "      <td>K-Y</td>\n",
       "      <td>K-Y Love Sensuality Pleasure Gel</td>\n",
       "      <td>2016-12-21T00:00:00.000Z</td>\n",
       "      <td>False</td>\n",
       "      <td>False</td>\n",
       "      <td>1</td>\n",
       "      <td>My husband bought this gel for us. The gel cau...</td>\n",
       "      <td>Irritation</td>\n",
       "      <td>NaN</td>\n",
       "      <td>NaN</td>\n",
       "      <td>walker557</td>\n",
       "      <td>Negative</td>\n",
       "    </tr>\n",
       "    <tr>\n",
       "      <th>...</th>\n",
       "      <td>...</td>\n",
       "      <td>...</td>\n",
       "      <td>...</td>\n",
       "      <td>...</td>\n",
       "      <td>...</td>\n",
       "      <td>...</td>\n",
       "      <td>...</td>\n",
       "      <td>...</td>\n",
       "      <td>...</td>\n",
       "      <td>...</td>\n",
       "      <td>...</td>\n",
       "      <td>...</td>\n",
       "      <td>...</td>\n",
       "      <td>...</td>\n",
       "      <td>...</td>\n",
       "    </tr>\n",
       "    <tr>\n",
       "      <th>29995</th>\n",
       "      <td>AVpfW8y_LJeJML437ySW</td>\n",
       "      <td>L'oreal Paris</td>\n",
       "      <td>Beauty,Hair Care,Shampoo &amp; Conditioner,Holiday...</td>\n",
       "      <td>L'oreal Paris</td>\n",
       "      <td>L'or233al Paris Elvive Extraordinary Clay Reba...</td>\n",
       "      <td>2017-01-23T00:00:00.000Z</td>\n",
       "      <td>False</td>\n",
       "      <td>True</td>\n",
       "      <td>5</td>\n",
       "      <td>I got this conditioner with Influenster to try...</td>\n",
       "      <td>Softness!!</td>\n",
       "      <td>NaN</td>\n",
       "      <td>NaN</td>\n",
       "      <td>laurasnchz</td>\n",
       "      <td>Positive</td>\n",
       "    </tr>\n",
       "    <tr>\n",
       "      <th>29996</th>\n",
       "      <td>AVpfW8y_LJeJML437ySW</td>\n",
       "      <td>L'oreal Paris</td>\n",
       "      <td>Beauty,Hair Care,Shampoo &amp; Conditioner,Holiday...</td>\n",
       "      <td>L'oreal Paris</td>\n",
       "      <td>L'or233al Paris Elvive Extraordinary Clay Reba...</td>\n",
       "      <td>2017-01-27T00:00:00.000Z</td>\n",
       "      <td>False</td>\n",
       "      <td>True</td>\n",
       "      <td>5</td>\n",
       "      <td>I love it , I received this for review purpose...</td>\n",
       "      <td>I love it</td>\n",
       "      <td>NaN</td>\n",
       "      <td>NaN</td>\n",
       "      <td>scarlepadilla</td>\n",
       "      <td>Positive</td>\n",
       "    </tr>\n",
       "    <tr>\n",
       "      <th>29997</th>\n",
       "      <td>AVpfW8y_LJeJML437ySW</td>\n",
       "      <td>L'oreal Paris</td>\n",
       "      <td>Beauty,Hair Care,Shampoo &amp; Conditioner,Holiday...</td>\n",
       "      <td>L'oreal Paris</td>\n",
       "      <td>L'or233al Paris Elvive Extraordinary Clay Reba...</td>\n",
       "      <td>2017-01-21T00:00:00.000Z</td>\n",
       "      <td>False</td>\n",
       "      <td>True</td>\n",
       "      <td>5</td>\n",
       "      <td>First of all I love the smell of this product....</td>\n",
       "      <td>Hair is so smooth after use</td>\n",
       "      <td>NaN</td>\n",
       "      <td>NaN</td>\n",
       "      <td>liviasuexo</td>\n",
       "      <td>Positive</td>\n",
       "    </tr>\n",
       "    <tr>\n",
       "      <th>29998</th>\n",
       "      <td>AVpfW8y_LJeJML437ySW</td>\n",
       "      <td>L'oreal Paris</td>\n",
       "      <td>Beauty,Hair Care,Shampoo &amp; Conditioner,Holiday...</td>\n",
       "      <td>L'oreal Paris</td>\n",
       "      <td>L'or233al Paris Elvive Extraordinary Clay Reba...</td>\n",
       "      <td>2017-01-11T00:00:00.000Z</td>\n",
       "      <td>False</td>\n",
       "      <td>True</td>\n",
       "      <td>5</td>\n",
       "      <td>I received this through Influenster and will n...</td>\n",
       "      <td>Perfect for my oily hair!</td>\n",
       "      <td>NaN</td>\n",
       "      <td>NaN</td>\n",
       "      <td>ktreed95</td>\n",
       "      <td>Positive</td>\n",
       "    </tr>\n",
       "    <tr>\n",
       "      <th>29999</th>\n",
       "      <td>AVpfW8y_LJeJML437ySW</td>\n",
       "      <td>L'oreal Paris</td>\n",
       "      <td>Beauty,Hair Care,Shampoo &amp; Conditioner,Holiday...</td>\n",
       "      <td>L'oreal Paris</td>\n",
       "      <td>L'or233al Paris Elvive Extraordinary Clay Reba...</td>\n",
       "      <td>2017-01-19T00:00:00.000Z</td>\n",
       "      <td>False</td>\n",
       "      <td>True</td>\n",
       "      <td>5</td>\n",
       "      <td>I received this product complimentary from inf...</td>\n",
       "      <td>Conditioned into healthy</td>\n",
       "      <td>NaN</td>\n",
       "      <td>NaN</td>\n",
       "      <td>kcoopxoxo</td>\n",
       "      <td>Positive</td>\n",
       "    </tr>\n",
       "  </tbody>\n",
       "</table>\n",
       "<p>29999 rows × 15 columns</p>\n",
       "</div>"
      ],
      "text/plain": [
       "                         id            brand  \\\n",
       "0      AV13O1A8GV-KLJ3akUyj  Universal Music   \n",
       "1      AV14LG0R-jtxr-f38QfS         Lundberg   \n",
       "2      AV14LG0R-jtxr-f38QfS         Lundberg   \n",
       "3      AV16khLE-jtxr-f38VFn              K-Y   \n",
       "4      AV16khLE-jtxr-f38VFn              K-Y   \n",
       "...                     ...              ...   \n",
       "29995  AVpfW8y_LJeJML437ySW    L'oreal Paris   \n",
       "29996  AVpfW8y_LJeJML437ySW    L'oreal Paris   \n",
       "29997  AVpfW8y_LJeJML437ySW    L'oreal Paris   \n",
       "29998  AVpfW8y_LJeJML437ySW    L'oreal Paris   \n",
       "29999  AVpfW8y_LJeJML437ySW    L'oreal Paris   \n",
       "\n",
       "                                              categories  \\\n",
       "0      Movies, Music & Books,Music,R&b,Movies & TV,Mo...   \n",
       "1      Food,Packaged Foods,Snacks,Crackers,Snacks, Co...   \n",
       "2      Food,Packaged Foods,Snacks,Crackers,Snacks, Co...   \n",
       "3      Personal Care,Medicine Cabinet,Lubricant/Sperm...   \n",
       "4      Personal Care,Medicine Cabinet,Lubricant/Sperm...   \n",
       "...                                                  ...   \n",
       "29995  Beauty,Hair Care,Shampoo & Conditioner,Holiday...   \n",
       "29996  Beauty,Hair Care,Shampoo & Conditioner,Holiday...   \n",
       "29997  Beauty,Hair Care,Shampoo & Conditioner,Holiday...   \n",
       "29998  Beauty,Hair Care,Shampoo & Conditioner,Holiday...   \n",
       "29999  Beauty,Hair Care,Shampoo & Conditioner,Holiday...   \n",
       "\n",
       "                             manufacturer  \\\n",
       "0      Universal Music Group / Cash Money   \n",
       "1                                Lundberg   \n",
       "2                                Lundberg   \n",
       "3                                     K-Y   \n",
       "4                                     K-Y   \n",
       "...                                   ...   \n",
       "29995                       L'oreal Paris   \n",
       "29996                       L'oreal Paris   \n",
       "29997                       L'oreal Paris   \n",
       "29998                       L'oreal Paris   \n",
       "29999                       L'oreal Paris   \n",
       "\n",
       "                                                    name  \\\n",
       "0              Pink Friday: Roman Reloaded Re-Up (w/dvd)   \n",
       "1             Lundberg Organic Cinnamon Toast Rice Cakes   \n",
       "2             Lundberg Organic Cinnamon Toast Rice Cakes   \n",
       "3                       K-Y Love Sensuality Pleasure Gel   \n",
       "4                       K-Y Love Sensuality Pleasure Gel   \n",
       "...                                                  ...   \n",
       "29995  L'or233al Paris Elvive Extraordinary Clay Reba...   \n",
       "29996  L'or233al Paris Elvive Extraordinary Clay Reba...   \n",
       "29997  L'or233al Paris Elvive Extraordinary Clay Reba...   \n",
       "29998  L'or233al Paris Elvive Extraordinary Clay Reba...   \n",
       "29999  L'or233al Paris Elvive Extraordinary Clay Reba...   \n",
       "\n",
       "                   reviews_date reviews_didPurchase reviews_doRecommend  \\\n",
       "0      2012-11-30T06:21:45.000Z                 NaN                 NaN   \n",
       "1      2017-07-09T00:00:00.000Z                True                 NaN   \n",
       "2      2017-07-09T00:00:00.000Z                True                 NaN   \n",
       "3      2016-01-06T00:00:00.000Z               False               False   \n",
       "4      2016-12-21T00:00:00.000Z               False               False   \n",
       "...                         ...                 ...                 ...   \n",
       "29995  2017-01-23T00:00:00.000Z               False                True   \n",
       "29996  2017-01-27T00:00:00.000Z               False                True   \n",
       "29997  2017-01-21T00:00:00.000Z               False                True   \n",
       "29998  2017-01-11T00:00:00.000Z               False                True   \n",
       "29999  2017-01-19T00:00:00.000Z               False                True   \n",
       "\n",
       "       reviews_rating                                       reviews_text  \\\n",
       "0                   5  i love this album. it's very good. more to the...   \n",
       "1                   5  Good flavor. This review was collected as part...   \n",
       "2                   5                                       Good flavor.   \n",
       "3                   1  I read through the reviews on here before look...   \n",
       "4                   1  My husband bought this gel for us. The gel cau...   \n",
       "...               ...                                                ...   \n",
       "29995               5  I got this conditioner with Influenster to try...   \n",
       "29996               5  I love it , I received this for review purpose...   \n",
       "29997               5  First of all I love the smell of this product....   \n",
       "29998               5  I received this through Influenster and will n...   \n",
       "29999               5  I received this product complimentary from inf...   \n",
       "\n",
       "                     reviews_title reviews_userCity reviews_userProvince  \\\n",
       "0                     Just Awesome      Los Angeles                  NaN   \n",
       "1                             Good              NaN                  NaN   \n",
       "2                             Good              NaN                  NaN   \n",
       "3                     Disappointed              NaN                  NaN   \n",
       "4                       Irritation              NaN                  NaN   \n",
       "...                            ...              ...                  ...   \n",
       "29995                   Softness!!              NaN                  NaN   \n",
       "29996                    I love it              NaN                  NaN   \n",
       "29997  Hair is so smooth after use              NaN                  NaN   \n",
       "29998    Perfect for my oily hair!              NaN                  NaN   \n",
       "29999     Conditioned into healthy              NaN                  NaN   \n",
       "\n",
       "      reviews_username user_sentiment  \n",
       "0               joshua       Positive  \n",
       "1            dorothy w       Positive  \n",
       "2            dorothy w       Positive  \n",
       "3              rebecca       Negative  \n",
       "4            walker557       Negative  \n",
       "...                ...            ...  \n",
       "29995       laurasnchz       Positive  \n",
       "29996    scarlepadilla       Positive  \n",
       "29997       liviasuexo       Positive  \n",
       "29998         ktreed95       Positive  \n",
       "29999        kcoopxoxo       Positive  \n",
       "\n",
       "[29999 rows x 15 columns]"
      ]
     },
     "execution_count": 35,
     "metadata": {},
     "output_type": "execute_result"
    }
   ],
   "source": [
    "df"
   ]
  },
  {
   "cell_type": "code",
   "execution_count": 36,
   "id": "a4d5f692",
   "metadata": {},
   "outputs": [],
   "source": [
    "df = df.drop_duplicates(\n",
    "  subset = ['reviews_username','name','reviews_date'],\n",
    "  keep = 'last').reset_index(drop = True)"
   ]
  },
  {
   "cell_type": "code",
   "execution_count": 37,
   "id": "7b061aca",
   "metadata": {},
   "outputs": [
    {
     "data": {
      "text/html": [
       "<div>\n",
       "<style scoped>\n",
       "    .dataframe tbody tr th:only-of-type {\n",
       "        vertical-align: middle;\n",
       "    }\n",
       "\n",
       "    .dataframe tbody tr th {\n",
       "        vertical-align: top;\n",
       "    }\n",
       "\n",
       "    .dataframe thead th {\n",
       "        text-align: right;\n",
       "    }\n",
       "</style>\n",
       "<table border=\"1\" class=\"dataframe\">\n",
       "  <thead>\n",
       "    <tr style=\"text-align: right;\">\n",
       "      <th></th>\n",
       "      <th>id</th>\n",
       "      <th>brand</th>\n",
       "      <th>categories</th>\n",
       "      <th>manufacturer</th>\n",
       "      <th>name</th>\n",
       "      <th>reviews_date</th>\n",
       "      <th>reviews_didPurchase</th>\n",
       "      <th>reviews_doRecommend</th>\n",
       "      <th>reviews_rating</th>\n",
       "      <th>reviews_text</th>\n",
       "      <th>reviews_title</th>\n",
       "      <th>reviews_userCity</th>\n",
       "      <th>reviews_userProvince</th>\n",
       "      <th>reviews_username</th>\n",
       "      <th>user_sentiment</th>\n",
       "    </tr>\n",
       "  </thead>\n",
       "  <tbody>\n",
       "    <tr>\n",
       "      <th>0</th>\n",
       "      <td>AV13O1A8GV-KLJ3akUyj</td>\n",
       "      <td>Universal Music</td>\n",
       "      <td>Movies, Music &amp; Books,Music,R&amp;b,Movies &amp; TV,Mo...</td>\n",
       "      <td>Universal Music Group / Cash Money</td>\n",
       "      <td>Pink Friday: Roman Reloaded Re-Up (w/dvd)</td>\n",
       "      <td>2012-11-30T06:21:45.000Z</td>\n",
       "      <td>NaN</td>\n",
       "      <td>NaN</td>\n",
       "      <td>5</td>\n",
       "      <td>i love this album. it's very good. more to the...</td>\n",
       "      <td>Just Awesome</td>\n",
       "      <td>Los Angeles</td>\n",
       "      <td>NaN</td>\n",
       "      <td>joshua</td>\n",
       "      <td>Positive</td>\n",
       "    </tr>\n",
       "    <tr>\n",
       "      <th>1</th>\n",
       "      <td>AV14LG0R-jtxr-f38QfS</td>\n",
       "      <td>Lundberg</td>\n",
       "      <td>Food,Packaged Foods,Snacks,Crackers,Snacks, Co...</td>\n",
       "      <td>Lundberg</td>\n",
       "      <td>Lundberg Organic Cinnamon Toast Rice Cakes</td>\n",
       "      <td>2017-07-09T00:00:00.000Z</td>\n",
       "      <td>True</td>\n",
       "      <td>NaN</td>\n",
       "      <td>5</td>\n",
       "      <td>Good flavor.</td>\n",
       "      <td>Good</td>\n",
       "      <td>NaN</td>\n",
       "      <td>NaN</td>\n",
       "      <td>dorothy w</td>\n",
       "      <td>Positive</td>\n",
       "    </tr>\n",
       "    <tr>\n",
       "      <th>2</th>\n",
       "      <td>AV16khLE-jtxr-f38VFn</td>\n",
       "      <td>K-Y</td>\n",
       "      <td>Personal Care,Medicine Cabinet,Lubricant/Sperm...</td>\n",
       "      <td>K-Y</td>\n",
       "      <td>K-Y Love Sensuality Pleasure Gel</td>\n",
       "      <td>2016-01-06T00:00:00.000Z</td>\n",
       "      <td>False</td>\n",
       "      <td>False</td>\n",
       "      <td>1</td>\n",
       "      <td>I read through the reviews on here before look...</td>\n",
       "      <td>Disappointed</td>\n",
       "      <td>NaN</td>\n",
       "      <td>NaN</td>\n",
       "      <td>rebecca</td>\n",
       "      <td>Negative</td>\n",
       "    </tr>\n",
       "    <tr>\n",
       "      <th>3</th>\n",
       "      <td>AV16khLE-jtxr-f38VFn</td>\n",
       "      <td>K-Y</td>\n",
       "      <td>Personal Care,Medicine Cabinet,Lubricant/Sperm...</td>\n",
       "      <td>K-Y</td>\n",
       "      <td>K-Y Love Sensuality Pleasure Gel</td>\n",
       "      <td>2016-12-21T00:00:00.000Z</td>\n",
       "      <td>False</td>\n",
       "      <td>False</td>\n",
       "      <td>1</td>\n",
       "      <td>My husband bought this gel for us. The gel cau...</td>\n",
       "      <td>Irritation</td>\n",
       "      <td>NaN</td>\n",
       "      <td>NaN</td>\n",
       "      <td>walker557</td>\n",
       "      <td>Negative</td>\n",
       "    </tr>\n",
       "    <tr>\n",
       "      <th>4</th>\n",
       "      <td>AV16khLE-jtxr-f38VFn</td>\n",
       "      <td>K-Y</td>\n",
       "      <td>Personal Care,Medicine Cabinet,Lubricant/Sperm...</td>\n",
       "      <td>K-Y</td>\n",
       "      <td>K-Y Love Sensuality Pleasure Gel</td>\n",
       "      <td>2016-04-20T00:00:00.000Z</td>\n",
       "      <td>False</td>\n",
       "      <td>False</td>\n",
       "      <td>1</td>\n",
       "      <td>My boyfriend and I bought this to spice things...</td>\n",
       "      <td>Not worth it</td>\n",
       "      <td>NaN</td>\n",
       "      <td>NaN</td>\n",
       "      <td>samantha</td>\n",
       "      <td>Negative</td>\n",
       "    </tr>\n",
       "    <tr>\n",
       "      <th>...</th>\n",
       "      <td>...</td>\n",
       "      <td>...</td>\n",
       "      <td>...</td>\n",
       "      <td>...</td>\n",
       "      <td>...</td>\n",
       "      <td>...</td>\n",
       "      <td>...</td>\n",
       "      <td>...</td>\n",
       "      <td>...</td>\n",
       "      <td>...</td>\n",
       "      <td>...</td>\n",
       "      <td>...</td>\n",
       "      <td>...</td>\n",
       "      <td>...</td>\n",
       "      <td>...</td>\n",
       "    </tr>\n",
       "    <tr>\n",
       "      <th>29835</th>\n",
       "      <td>AVpfW8y_LJeJML437ySW</td>\n",
       "      <td>L'oreal Paris</td>\n",
       "      <td>Beauty,Hair Care,Shampoo &amp; Conditioner,Holiday...</td>\n",
       "      <td>L'oreal Paris</td>\n",
       "      <td>L'or233al Paris Elvive Extraordinary Clay Reba...</td>\n",
       "      <td>2017-01-23T00:00:00.000Z</td>\n",
       "      <td>False</td>\n",
       "      <td>True</td>\n",
       "      <td>5</td>\n",
       "      <td>I got this conditioner with Influenster to try...</td>\n",
       "      <td>Softness!!</td>\n",
       "      <td>NaN</td>\n",
       "      <td>NaN</td>\n",
       "      <td>laurasnchz</td>\n",
       "      <td>Positive</td>\n",
       "    </tr>\n",
       "    <tr>\n",
       "      <th>29836</th>\n",
       "      <td>AVpfW8y_LJeJML437ySW</td>\n",
       "      <td>L'oreal Paris</td>\n",
       "      <td>Beauty,Hair Care,Shampoo &amp; Conditioner,Holiday...</td>\n",
       "      <td>L'oreal Paris</td>\n",
       "      <td>L'or233al Paris Elvive Extraordinary Clay Reba...</td>\n",
       "      <td>2017-01-27T00:00:00.000Z</td>\n",
       "      <td>False</td>\n",
       "      <td>True</td>\n",
       "      <td>5</td>\n",
       "      <td>I love it , I received this for review purpose...</td>\n",
       "      <td>I love it</td>\n",
       "      <td>NaN</td>\n",
       "      <td>NaN</td>\n",
       "      <td>scarlepadilla</td>\n",
       "      <td>Positive</td>\n",
       "    </tr>\n",
       "    <tr>\n",
       "      <th>29837</th>\n",
       "      <td>AVpfW8y_LJeJML437ySW</td>\n",
       "      <td>L'oreal Paris</td>\n",
       "      <td>Beauty,Hair Care,Shampoo &amp; Conditioner,Holiday...</td>\n",
       "      <td>L'oreal Paris</td>\n",
       "      <td>L'or233al Paris Elvive Extraordinary Clay Reba...</td>\n",
       "      <td>2017-01-21T00:00:00.000Z</td>\n",
       "      <td>False</td>\n",
       "      <td>True</td>\n",
       "      <td>5</td>\n",
       "      <td>First of all I love the smell of this product....</td>\n",
       "      <td>Hair is so smooth after use</td>\n",
       "      <td>NaN</td>\n",
       "      <td>NaN</td>\n",
       "      <td>liviasuexo</td>\n",
       "      <td>Positive</td>\n",
       "    </tr>\n",
       "    <tr>\n",
       "      <th>29838</th>\n",
       "      <td>AVpfW8y_LJeJML437ySW</td>\n",
       "      <td>L'oreal Paris</td>\n",
       "      <td>Beauty,Hair Care,Shampoo &amp; Conditioner,Holiday...</td>\n",
       "      <td>L'oreal Paris</td>\n",
       "      <td>L'or233al Paris Elvive Extraordinary Clay Reba...</td>\n",
       "      <td>2017-01-11T00:00:00.000Z</td>\n",
       "      <td>False</td>\n",
       "      <td>True</td>\n",
       "      <td>5</td>\n",
       "      <td>I received this through Influenster and will n...</td>\n",
       "      <td>Perfect for my oily hair!</td>\n",
       "      <td>NaN</td>\n",
       "      <td>NaN</td>\n",
       "      <td>ktreed95</td>\n",
       "      <td>Positive</td>\n",
       "    </tr>\n",
       "    <tr>\n",
       "      <th>29839</th>\n",
       "      <td>AVpfW8y_LJeJML437ySW</td>\n",
       "      <td>L'oreal Paris</td>\n",
       "      <td>Beauty,Hair Care,Shampoo &amp; Conditioner,Holiday...</td>\n",
       "      <td>L'oreal Paris</td>\n",
       "      <td>L'or233al Paris Elvive Extraordinary Clay Reba...</td>\n",
       "      <td>2017-01-19T00:00:00.000Z</td>\n",
       "      <td>False</td>\n",
       "      <td>True</td>\n",
       "      <td>5</td>\n",
       "      <td>I received this product complimentary from inf...</td>\n",
       "      <td>Conditioned into healthy</td>\n",
       "      <td>NaN</td>\n",
       "      <td>NaN</td>\n",
       "      <td>kcoopxoxo</td>\n",
       "      <td>Positive</td>\n",
       "    </tr>\n",
       "  </tbody>\n",
       "</table>\n",
       "<p>29840 rows × 15 columns</p>\n",
       "</div>"
      ],
      "text/plain": [
       "                         id            brand  \\\n",
       "0      AV13O1A8GV-KLJ3akUyj  Universal Music   \n",
       "1      AV14LG0R-jtxr-f38QfS         Lundberg   \n",
       "2      AV16khLE-jtxr-f38VFn              K-Y   \n",
       "3      AV16khLE-jtxr-f38VFn              K-Y   \n",
       "4      AV16khLE-jtxr-f38VFn              K-Y   \n",
       "...                     ...              ...   \n",
       "29835  AVpfW8y_LJeJML437ySW    L'oreal Paris   \n",
       "29836  AVpfW8y_LJeJML437ySW    L'oreal Paris   \n",
       "29837  AVpfW8y_LJeJML437ySW    L'oreal Paris   \n",
       "29838  AVpfW8y_LJeJML437ySW    L'oreal Paris   \n",
       "29839  AVpfW8y_LJeJML437ySW    L'oreal Paris   \n",
       "\n",
       "                                              categories  \\\n",
       "0      Movies, Music & Books,Music,R&b,Movies & TV,Mo...   \n",
       "1      Food,Packaged Foods,Snacks,Crackers,Snacks, Co...   \n",
       "2      Personal Care,Medicine Cabinet,Lubricant/Sperm...   \n",
       "3      Personal Care,Medicine Cabinet,Lubricant/Sperm...   \n",
       "4      Personal Care,Medicine Cabinet,Lubricant/Sperm...   \n",
       "...                                                  ...   \n",
       "29835  Beauty,Hair Care,Shampoo & Conditioner,Holiday...   \n",
       "29836  Beauty,Hair Care,Shampoo & Conditioner,Holiday...   \n",
       "29837  Beauty,Hair Care,Shampoo & Conditioner,Holiday...   \n",
       "29838  Beauty,Hair Care,Shampoo & Conditioner,Holiday...   \n",
       "29839  Beauty,Hair Care,Shampoo & Conditioner,Holiday...   \n",
       "\n",
       "                             manufacturer  \\\n",
       "0      Universal Music Group / Cash Money   \n",
       "1                                Lundberg   \n",
       "2                                     K-Y   \n",
       "3                                     K-Y   \n",
       "4                                     K-Y   \n",
       "...                                   ...   \n",
       "29835                       L'oreal Paris   \n",
       "29836                       L'oreal Paris   \n",
       "29837                       L'oreal Paris   \n",
       "29838                       L'oreal Paris   \n",
       "29839                       L'oreal Paris   \n",
       "\n",
       "                                                    name  \\\n",
       "0              Pink Friday: Roman Reloaded Re-Up (w/dvd)   \n",
       "1             Lundberg Organic Cinnamon Toast Rice Cakes   \n",
       "2                       K-Y Love Sensuality Pleasure Gel   \n",
       "3                       K-Y Love Sensuality Pleasure Gel   \n",
       "4                       K-Y Love Sensuality Pleasure Gel   \n",
       "...                                                  ...   \n",
       "29835  L'or233al Paris Elvive Extraordinary Clay Reba...   \n",
       "29836  L'or233al Paris Elvive Extraordinary Clay Reba...   \n",
       "29837  L'or233al Paris Elvive Extraordinary Clay Reba...   \n",
       "29838  L'or233al Paris Elvive Extraordinary Clay Reba...   \n",
       "29839  L'or233al Paris Elvive Extraordinary Clay Reba...   \n",
       "\n",
       "                   reviews_date reviews_didPurchase reviews_doRecommend  \\\n",
       "0      2012-11-30T06:21:45.000Z                 NaN                 NaN   \n",
       "1      2017-07-09T00:00:00.000Z                True                 NaN   \n",
       "2      2016-01-06T00:00:00.000Z               False               False   \n",
       "3      2016-12-21T00:00:00.000Z               False               False   \n",
       "4      2016-04-20T00:00:00.000Z               False               False   \n",
       "...                         ...                 ...                 ...   \n",
       "29835  2017-01-23T00:00:00.000Z               False                True   \n",
       "29836  2017-01-27T00:00:00.000Z               False                True   \n",
       "29837  2017-01-21T00:00:00.000Z               False                True   \n",
       "29838  2017-01-11T00:00:00.000Z               False                True   \n",
       "29839  2017-01-19T00:00:00.000Z               False                True   \n",
       "\n",
       "       reviews_rating                                       reviews_text  \\\n",
       "0                   5  i love this album. it's very good. more to the...   \n",
       "1                   5                                       Good flavor.   \n",
       "2                   1  I read through the reviews on here before look...   \n",
       "3                   1  My husband bought this gel for us. The gel cau...   \n",
       "4                   1  My boyfriend and I bought this to spice things...   \n",
       "...               ...                                                ...   \n",
       "29835               5  I got this conditioner with Influenster to try...   \n",
       "29836               5  I love it , I received this for review purpose...   \n",
       "29837               5  First of all I love the smell of this product....   \n",
       "29838               5  I received this through Influenster and will n...   \n",
       "29839               5  I received this product complimentary from inf...   \n",
       "\n",
       "                     reviews_title reviews_userCity reviews_userProvince  \\\n",
       "0                     Just Awesome      Los Angeles                  NaN   \n",
       "1                             Good              NaN                  NaN   \n",
       "2                     Disappointed              NaN                  NaN   \n",
       "3                       Irritation              NaN                  NaN   \n",
       "4                     Not worth it              NaN                  NaN   \n",
       "...                            ...              ...                  ...   \n",
       "29835                   Softness!!              NaN                  NaN   \n",
       "29836                    I love it              NaN                  NaN   \n",
       "29837  Hair is so smooth after use              NaN                  NaN   \n",
       "29838    Perfect for my oily hair!              NaN                  NaN   \n",
       "29839     Conditioned into healthy              NaN                  NaN   \n",
       "\n",
       "      reviews_username user_sentiment  \n",
       "0               joshua       Positive  \n",
       "1            dorothy w       Positive  \n",
       "2              rebecca       Negative  \n",
       "3            walker557       Negative  \n",
       "4             samantha       Negative  \n",
       "...                ...            ...  \n",
       "29835       laurasnchz       Positive  \n",
       "29836    scarlepadilla       Positive  \n",
       "29837       liviasuexo       Positive  \n",
       "29838         ktreed95       Positive  \n",
       "29839        kcoopxoxo       Positive  \n",
       "\n",
       "[29840 rows x 15 columns]"
      ]
     },
     "execution_count": 37,
     "metadata": {},
     "output_type": "execute_result"
    }
   ],
   "source": [
    "df"
   ]
  },
  {
   "cell_type": "markdown",
   "id": "04107f43",
   "metadata": {},
   "source": [
    "##### So now the df has 2099 rows for unique product -user rating"
   ]
  },
  {
   "cell_type": "markdown",
   "id": "96042650",
   "metadata": {},
   "source": [
    "### Concatenating the reviews_title and reviews_text columns"
   ]
  },
  {
   "cell_type": "code",
   "execution_count": 38,
   "id": "83c67c87",
   "metadata": {},
   "outputs": [],
   "source": [
    "df['reviews'] = df['reviews_title'].astype(str)+' - '+df['reviews_text']"
   ]
  },
  {
   "cell_type": "code",
   "execution_count": 39,
   "id": "1d24c14b",
   "metadata": {},
   "outputs": [],
   "source": [
    "df=df.drop(['reviews_title', 'reviews_text'], axis=1)\n"
   ]
  },
  {
   "cell_type": "code",
   "execution_count": 40,
   "id": "2f66f34a",
   "metadata": {},
   "outputs": [
    {
     "data": {
      "text/plain": [
       "Index(['id', 'brand', 'categories', 'manufacturer', 'name', 'reviews_date',\n",
       "       'reviews_didPurchase', 'reviews_doRecommend', 'reviews_rating',\n",
       "       'reviews_userCity', 'reviews_userProvince', 'reviews_username',\n",
       "       'user_sentiment', 'reviews'],\n",
       "      dtype='object')"
      ]
     },
     "execution_count": 40,
     "metadata": {},
     "output_type": "execute_result"
    }
   ],
   "source": [
    "df.columns"
   ]
  },
  {
   "cell_type": "code",
   "execution_count": 41,
   "id": "ff9f96e6",
   "metadata": {},
   "outputs": [
    {
     "data": {
      "text/html": [
       "<div>\n",
       "<style scoped>\n",
       "    .dataframe tbody tr th:only-of-type {\n",
       "        vertical-align: middle;\n",
       "    }\n",
       "\n",
       "    .dataframe tbody tr th {\n",
       "        vertical-align: top;\n",
       "    }\n",
       "\n",
       "    .dataframe thead th {\n",
       "        text-align: right;\n",
       "    }\n",
       "</style>\n",
       "<table border=\"1\" class=\"dataframe\">\n",
       "  <thead>\n",
       "    <tr style=\"text-align: right;\">\n",
       "      <th></th>\n",
       "      <th>id</th>\n",
       "      <th>brand</th>\n",
       "      <th>categories</th>\n",
       "      <th>manufacturer</th>\n",
       "      <th>name</th>\n",
       "      <th>reviews_date</th>\n",
       "      <th>reviews_didPurchase</th>\n",
       "      <th>reviews_doRecommend</th>\n",
       "      <th>reviews_rating</th>\n",
       "      <th>reviews_userCity</th>\n",
       "      <th>reviews_userProvince</th>\n",
       "      <th>reviews_username</th>\n",
       "      <th>user_sentiment</th>\n",
       "      <th>reviews</th>\n",
       "    </tr>\n",
       "  </thead>\n",
       "  <tbody>\n",
       "    <tr>\n",
       "      <th>0</th>\n",
       "      <td>AV13O1A8GV-KLJ3akUyj</td>\n",
       "      <td>Universal Music</td>\n",
       "      <td>Movies, Music &amp; Books,Music,R&amp;b,Movies &amp; TV,Mo...</td>\n",
       "      <td>Universal Music Group / Cash Money</td>\n",
       "      <td>Pink Friday: Roman Reloaded Re-Up (w/dvd)</td>\n",
       "      <td>2012-11-30T06:21:45.000Z</td>\n",
       "      <td>NaN</td>\n",
       "      <td>NaN</td>\n",
       "      <td>5</td>\n",
       "      <td>Los Angeles</td>\n",
       "      <td>NaN</td>\n",
       "      <td>joshua</td>\n",
       "      <td>Positive</td>\n",
       "      <td>Just Awesome - i love this album. it's very go...</td>\n",
       "    </tr>\n",
       "    <tr>\n",
       "      <th>1</th>\n",
       "      <td>AV14LG0R-jtxr-f38QfS</td>\n",
       "      <td>Lundberg</td>\n",
       "      <td>Food,Packaged Foods,Snacks,Crackers,Snacks, Co...</td>\n",
       "      <td>Lundberg</td>\n",
       "      <td>Lundberg Organic Cinnamon Toast Rice Cakes</td>\n",
       "      <td>2017-07-09T00:00:00.000Z</td>\n",
       "      <td>True</td>\n",
       "      <td>NaN</td>\n",
       "      <td>5</td>\n",
       "      <td>NaN</td>\n",
       "      <td>NaN</td>\n",
       "      <td>dorothy w</td>\n",
       "      <td>Positive</td>\n",
       "      <td>Good - Good flavor.</td>\n",
       "    </tr>\n",
       "    <tr>\n",
       "      <th>2</th>\n",
       "      <td>AV16khLE-jtxr-f38VFn</td>\n",
       "      <td>K-Y</td>\n",
       "      <td>Personal Care,Medicine Cabinet,Lubricant/Sperm...</td>\n",
       "      <td>K-Y</td>\n",
       "      <td>K-Y Love Sensuality Pleasure Gel</td>\n",
       "      <td>2016-01-06T00:00:00.000Z</td>\n",
       "      <td>False</td>\n",
       "      <td>False</td>\n",
       "      <td>1</td>\n",
       "      <td>NaN</td>\n",
       "      <td>NaN</td>\n",
       "      <td>rebecca</td>\n",
       "      <td>Negative</td>\n",
       "      <td>Disappointed - I read through the reviews on h...</td>\n",
       "    </tr>\n",
       "    <tr>\n",
       "      <th>3</th>\n",
       "      <td>AV16khLE-jtxr-f38VFn</td>\n",
       "      <td>K-Y</td>\n",
       "      <td>Personal Care,Medicine Cabinet,Lubricant/Sperm...</td>\n",
       "      <td>K-Y</td>\n",
       "      <td>K-Y Love Sensuality Pleasure Gel</td>\n",
       "      <td>2016-12-21T00:00:00.000Z</td>\n",
       "      <td>False</td>\n",
       "      <td>False</td>\n",
       "      <td>1</td>\n",
       "      <td>NaN</td>\n",
       "      <td>NaN</td>\n",
       "      <td>walker557</td>\n",
       "      <td>Negative</td>\n",
       "      <td>Irritation - My husband bought this gel for us...</td>\n",
       "    </tr>\n",
       "    <tr>\n",
       "      <th>4</th>\n",
       "      <td>AV16khLE-jtxr-f38VFn</td>\n",
       "      <td>K-Y</td>\n",
       "      <td>Personal Care,Medicine Cabinet,Lubricant/Sperm...</td>\n",
       "      <td>K-Y</td>\n",
       "      <td>K-Y Love Sensuality Pleasure Gel</td>\n",
       "      <td>2016-04-20T00:00:00.000Z</td>\n",
       "      <td>False</td>\n",
       "      <td>False</td>\n",
       "      <td>1</td>\n",
       "      <td>NaN</td>\n",
       "      <td>NaN</td>\n",
       "      <td>samantha</td>\n",
       "      <td>Negative</td>\n",
       "      <td>Not worth it - My boyfriend and I bought this ...</td>\n",
       "    </tr>\n",
       "    <tr>\n",
       "      <th>...</th>\n",
       "      <td>...</td>\n",
       "      <td>...</td>\n",
       "      <td>...</td>\n",
       "      <td>...</td>\n",
       "      <td>...</td>\n",
       "      <td>...</td>\n",
       "      <td>...</td>\n",
       "      <td>...</td>\n",
       "      <td>...</td>\n",
       "      <td>...</td>\n",
       "      <td>...</td>\n",
       "      <td>...</td>\n",
       "      <td>...</td>\n",
       "      <td>...</td>\n",
       "    </tr>\n",
       "    <tr>\n",
       "      <th>29835</th>\n",
       "      <td>AVpfW8y_LJeJML437ySW</td>\n",
       "      <td>L'oreal Paris</td>\n",
       "      <td>Beauty,Hair Care,Shampoo &amp; Conditioner,Holiday...</td>\n",
       "      <td>L'oreal Paris</td>\n",
       "      <td>L'or233al Paris Elvive Extraordinary Clay Reba...</td>\n",
       "      <td>2017-01-23T00:00:00.000Z</td>\n",
       "      <td>False</td>\n",
       "      <td>True</td>\n",
       "      <td>5</td>\n",
       "      <td>NaN</td>\n",
       "      <td>NaN</td>\n",
       "      <td>laurasnchz</td>\n",
       "      <td>Positive</td>\n",
       "      <td>Softness!! - I got this conditioner with Influ...</td>\n",
       "    </tr>\n",
       "    <tr>\n",
       "      <th>29836</th>\n",
       "      <td>AVpfW8y_LJeJML437ySW</td>\n",
       "      <td>L'oreal Paris</td>\n",
       "      <td>Beauty,Hair Care,Shampoo &amp; Conditioner,Holiday...</td>\n",
       "      <td>L'oreal Paris</td>\n",
       "      <td>L'or233al Paris Elvive Extraordinary Clay Reba...</td>\n",
       "      <td>2017-01-27T00:00:00.000Z</td>\n",
       "      <td>False</td>\n",
       "      <td>True</td>\n",
       "      <td>5</td>\n",
       "      <td>NaN</td>\n",
       "      <td>NaN</td>\n",
       "      <td>scarlepadilla</td>\n",
       "      <td>Positive</td>\n",
       "      <td>I love it - I love it , I received this for re...</td>\n",
       "    </tr>\n",
       "    <tr>\n",
       "      <th>29837</th>\n",
       "      <td>AVpfW8y_LJeJML437ySW</td>\n",
       "      <td>L'oreal Paris</td>\n",
       "      <td>Beauty,Hair Care,Shampoo &amp; Conditioner,Holiday...</td>\n",
       "      <td>L'oreal Paris</td>\n",
       "      <td>L'or233al Paris Elvive Extraordinary Clay Reba...</td>\n",
       "      <td>2017-01-21T00:00:00.000Z</td>\n",
       "      <td>False</td>\n",
       "      <td>True</td>\n",
       "      <td>5</td>\n",
       "      <td>NaN</td>\n",
       "      <td>NaN</td>\n",
       "      <td>liviasuexo</td>\n",
       "      <td>Positive</td>\n",
       "      <td>Hair is so smooth after use - First of all I l...</td>\n",
       "    </tr>\n",
       "    <tr>\n",
       "      <th>29838</th>\n",
       "      <td>AVpfW8y_LJeJML437ySW</td>\n",
       "      <td>L'oreal Paris</td>\n",
       "      <td>Beauty,Hair Care,Shampoo &amp; Conditioner,Holiday...</td>\n",
       "      <td>L'oreal Paris</td>\n",
       "      <td>L'or233al Paris Elvive Extraordinary Clay Reba...</td>\n",
       "      <td>2017-01-11T00:00:00.000Z</td>\n",
       "      <td>False</td>\n",
       "      <td>True</td>\n",
       "      <td>5</td>\n",
       "      <td>NaN</td>\n",
       "      <td>NaN</td>\n",
       "      <td>ktreed95</td>\n",
       "      <td>Positive</td>\n",
       "      <td>Perfect for my oily hair! - I received this th...</td>\n",
       "    </tr>\n",
       "    <tr>\n",
       "      <th>29839</th>\n",
       "      <td>AVpfW8y_LJeJML437ySW</td>\n",
       "      <td>L'oreal Paris</td>\n",
       "      <td>Beauty,Hair Care,Shampoo &amp; Conditioner,Holiday...</td>\n",
       "      <td>L'oreal Paris</td>\n",
       "      <td>L'or233al Paris Elvive Extraordinary Clay Reba...</td>\n",
       "      <td>2017-01-19T00:00:00.000Z</td>\n",
       "      <td>False</td>\n",
       "      <td>True</td>\n",
       "      <td>5</td>\n",
       "      <td>NaN</td>\n",
       "      <td>NaN</td>\n",
       "      <td>kcoopxoxo</td>\n",
       "      <td>Positive</td>\n",
       "      <td>Conditioned into healthy - I received this pro...</td>\n",
       "    </tr>\n",
       "  </tbody>\n",
       "</table>\n",
       "<p>29840 rows × 14 columns</p>\n",
       "</div>"
      ],
      "text/plain": [
       "                         id            brand  \\\n",
       "0      AV13O1A8GV-KLJ3akUyj  Universal Music   \n",
       "1      AV14LG0R-jtxr-f38QfS         Lundberg   \n",
       "2      AV16khLE-jtxr-f38VFn              K-Y   \n",
       "3      AV16khLE-jtxr-f38VFn              K-Y   \n",
       "4      AV16khLE-jtxr-f38VFn              K-Y   \n",
       "...                     ...              ...   \n",
       "29835  AVpfW8y_LJeJML437ySW    L'oreal Paris   \n",
       "29836  AVpfW8y_LJeJML437ySW    L'oreal Paris   \n",
       "29837  AVpfW8y_LJeJML437ySW    L'oreal Paris   \n",
       "29838  AVpfW8y_LJeJML437ySW    L'oreal Paris   \n",
       "29839  AVpfW8y_LJeJML437ySW    L'oreal Paris   \n",
       "\n",
       "                                              categories  \\\n",
       "0      Movies, Music & Books,Music,R&b,Movies & TV,Mo...   \n",
       "1      Food,Packaged Foods,Snacks,Crackers,Snacks, Co...   \n",
       "2      Personal Care,Medicine Cabinet,Lubricant/Sperm...   \n",
       "3      Personal Care,Medicine Cabinet,Lubricant/Sperm...   \n",
       "4      Personal Care,Medicine Cabinet,Lubricant/Sperm...   \n",
       "...                                                  ...   \n",
       "29835  Beauty,Hair Care,Shampoo & Conditioner,Holiday...   \n",
       "29836  Beauty,Hair Care,Shampoo & Conditioner,Holiday...   \n",
       "29837  Beauty,Hair Care,Shampoo & Conditioner,Holiday...   \n",
       "29838  Beauty,Hair Care,Shampoo & Conditioner,Holiday...   \n",
       "29839  Beauty,Hair Care,Shampoo & Conditioner,Holiday...   \n",
       "\n",
       "                             manufacturer  \\\n",
       "0      Universal Music Group / Cash Money   \n",
       "1                                Lundberg   \n",
       "2                                     K-Y   \n",
       "3                                     K-Y   \n",
       "4                                     K-Y   \n",
       "...                                   ...   \n",
       "29835                       L'oreal Paris   \n",
       "29836                       L'oreal Paris   \n",
       "29837                       L'oreal Paris   \n",
       "29838                       L'oreal Paris   \n",
       "29839                       L'oreal Paris   \n",
       "\n",
       "                                                    name  \\\n",
       "0              Pink Friday: Roman Reloaded Re-Up (w/dvd)   \n",
       "1             Lundberg Organic Cinnamon Toast Rice Cakes   \n",
       "2                       K-Y Love Sensuality Pleasure Gel   \n",
       "3                       K-Y Love Sensuality Pleasure Gel   \n",
       "4                       K-Y Love Sensuality Pleasure Gel   \n",
       "...                                                  ...   \n",
       "29835  L'or233al Paris Elvive Extraordinary Clay Reba...   \n",
       "29836  L'or233al Paris Elvive Extraordinary Clay Reba...   \n",
       "29837  L'or233al Paris Elvive Extraordinary Clay Reba...   \n",
       "29838  L'or233al Paris Elvive Extraordinary Clay Reba...   \n",
       "29839  L'or233al Paris Elvive Extraordinary Clay Reba...   \n",
       "\n",
       "                   reviews_date reviews_didPurchase reviews_doRecommend  \\\n",
       "0      2012-11-30T06:21:45.000Z                 NaN                 NaN   \n",
       "1      2017-07-09T00:00:00.000Z                True                 NaN   \n",
       "2      2016-01-06T00:00:00.000Z               False               False   \n",
       "3      2016-12-21T00:00:00.000Z               False               False   \n",
       "4      2016-04-20T00:00:00.000Z               False               False   \n",
       "...                         ...                 ...                 ...   \n",
       "29835  2017-01-23T00:00:00.000Z               False                True   \n",
       "29836  2017-01-27T00:00:00.000Z               False                True   \n",
       "29837  2017-01-21T00:00:00.000Z               False                True   \n",
       "29838  2017-01-11T00:00:00.000Z               False                True   \n",
       "29839  2017-01-19T00:00:00.000Z               False                True   \n",
       "\n",
       "       reviews_rating reviews_userCity reviews_userProvince reviews_username  \\\n",
       "0                   5      Los Angeles                  NaN           joshua   \n",
       "1                   5              NaN                  NaN        dorothy w   \n",
       "2                   1              NaN                  NaN          rebecca   \n",
       "3                   1              NaN                  NaN        walker557   \n",
       "4                   1              NaN                  NaN         samantha   \n",
       "...               ...              ...                  ...              ...   \n",
       "29835               5              NaN                  NaN       laurasnchz   \n",
       "29836               5              NaN                  NaN    scarlepadilla   \n",
       "29837               5              NaN                  NaN       liviasuexo   \n",
       "29838               5              NaN                  NaN         ktreed95   \n",
       "29839               5              NaN                  NaN        kcoopxoxo   \n",
       "\n",
       "      user_sentiment                                            reviews  \n",
       "0           Positive  Just Awesome - i love this album. it's very go...  \n",
       "1           Positive                                Good - Good flavor.  \n",
       "2           Negative  Disappointed - I read through the reviews on h...  \n",
       "3           Negative  Irritation - My husband bought this gel for us...  \n",
       "4           Negative  Not worth it - My boyfriend and I bought this ...  \n",
       "...              ...                                                ...  \n",
       "29835       Positive  Softness!! - I got this conditioner with Influ...  \n",
       "29836       Positive  I love it - I love it , I received this for re...  \n",
       "29837       Positive  Hair is so smooth after use - First of all I l...  \n",
       "29838       Positive  Perfect for my oily hair! - I received this th...  \n",
       "29839       Positive  Conditioned into healthy - I received this pro...  \n",
       "\n",
       "[29840 rows x 14 columns]"
      ]
     },
     "execution_count": 41,
     "metadata": {},
     "output_type": "execute_result"
    }
   ],
   "source": [
    "df"
   ]
  },
  {
   "cell_type": "markdown",
   "id": "ac4fe3ba",
   "metadata": {},
   "source": [
    "## Label Encoding Target Variable:"
   ]
  },
  {
   "cell_type": "code",
   "execution_count": 42,
   "id": "b4bdd5dd",
   "metadata": {},
   "outputs": [],
   "source": [
    "label_encoder = preprocessing.LabelEncoder()\n",
    "df['user_sentiment']= label_encoder.fit_transform(df['user_sentiment'])"
   ]
  },
  {
   "cell_type": "markdown",
   "id": "0c7f3408",
   "metadata": {},
   "source": [
    "### Creating dataframe with columns needed for sentiment classification"
   ]
  },
  {
   "cell_type": "code",
   "execution_count": 43,
   "id": "544bfd6d",
   "metadata": {},
   "outputs": [],
   "source": [
    "review = df[['reviews','user_sentiment']]"
   ]
  },
  {
   "cell_type": "code",
   "execution_count": 44,
   "id": "9695d8bc",
   "metadata": {},
   "outputs": [
    {
     "data": {
      "text/html": [
       "<div>\n",
       "<style scoped>\n",
       "    .dataframe tbody tr th:only-of-type {\n",
       "        vertical-align: middle;\n",
       "    }\n",
       "\n",
       "    .dataframe tbody tr th {\n",
       "        vertical-align: top;\n",
       "    }\n",
       "\n",
       "    .dataframe thead th {\n",
       "        text-align: right;\n",
       "    }\n",
       "</style>\n",
       "<table border=\"1\" class=\"dataframe\">\n",
       "  <thead>\n",
       "    <tr style=\"text-align: right;\">\n",
       "      <th></th>\n",
       "      <th>reviews</th>\n",
       "      <th>user_sentiment</th>\n",
       "    </tr>\n",
       "  </thead>\n",
       "  <tbody>\n",
       "    <tr>\n",
       "      <th>0</th>\n",
       "      <td>Just Awesome - i love this album. it's very go...</td>\n",
       "      <td>1</td>\n",
       "    </tr>\n",
       "    <tr>\n",
       "      <th>1</th>\n",
       "      <td>Good - Good flavor.</td>\n",
       "      <td>1</td>\n",
       "    </tr>\n",
       "    <tr>\n",
       "      <th>2</th>\n",
       "      <td>Disappointed - I read through the reviews on h...</td>\n",
       "      <td>0</td>\n",
       "    </tr>\n",
       "    <tr>\n",
       "      <th>3</th>\n",
       "      <td>Irritation - My husband bought this gel for us...</td>\n",
       "      <td>0</td>\n",
       "    </tr>\n",
       "    <tr>\n",
       "      <th>4</th>\n",
       "      <td>Not worth it - My boyfriend and I bought this ...</td>\n",
       "      <td>0</td>\n",
       "    </tr>\n",
       "  </tbody>\n",
       "</table>\n",
       "</div>"
      ],
      "text/plain": [
       "                                             reviews  user_sentiment\n",
       "0  Just Awesome - i love this album. it's very go...               1\n",
       "1                                Good - Good flavor.               1\n",
       "2  Disappointed - I read through the reviews on h...               0\n",
       "3  Irritation - My husband bought this gel for us...               0\n",
       "4  Not worth it - My boyfriend and I bought this ...               0"
      ]
     },
     "execution_count": 44,
     "metadata": {},
     "output_type": "execute_result"
    }
   ],
   "source": [
    "review.head()"
   ]
  },
  {
   "cell_type": "markdown",
   "id": "2bae0ab0",
   "metadata": {},
   "source": [
    "## 3. Text Preprocessing"
   ]
  },
  {
   "cell_type": "markdown",
   "id": "962cc674",
   "metadata": {},
   "source": [
    "1. Lower casing\n",
    "2. removal of punctuation\n",
    "3. removing stopwords\n",
    "4. tokenization\n",
    "5. stemming and lemmatization\n",
    "6. tf idf vectorizer"
   ]
  },
  {
   "cell_type": "code",
   "execution_count": 45,
   "id": "7d91f2b5",
   "metadata": {},
   "outputs": [],
   "source": [
    "#lower casing\n",
    "review.reviews=review.reviews.apply(lambda x :x.lower())"
   ]
  },
  {
   "cell_type": "code",
   "execution_count": 46,
   "id": "4fc1a33c",
   "metadata": {},
   "outputs": [
    {
     "data": {
      "text/plain": [
       "0        just awesome - i love this album. it's very go...\n",
       "1                                      good - good flavor.\n",
       "2        disappointed - i read through the reviews on h...\n",
       "3        irritation - my husband bought this gel for us...\n",
       "4        not worth it - my boyfriend and i bought this ...\n",
       "                               ...                        \n",
       "29835    softness!! - i got this conditioner with influ...\n",
       "29836    i love it - i love it , i received this for re...\n",
       "29837    hair is so smooth after use - first of all i l...\n",
       "29838    perfect for my oily hair! - i received this th...\n",
       "29839    conditioned into healthy - i received this pro...\n",
       "Name: reviews, Length: 29840, dtype: object"
      ]
     },
     "execution_count": 46,
     "metadata": {},
     "output_type": "execute_result"
    }
   ],
   "source": [
    "review.reviews"
   ]
  },
  {
   "cell_type": "code",
   "execution_count": 47,
   "id": "056f7b6a",
   "metadata": {},
   "outputs": [],
   "source": [
    "#punctuation removal\n",
    "punctuations = list(string.punctuation)\n",
    "# review.reviews_text=review.reviews_text.apply(lambda x: \" \".join(x for x in x.split() if x not in punctuations))\n",
    "review.reviews =  review.reviews.str.replace('[^\\w\\s]','')"
   ]
  },
  {
   "cell_type": "code",
   "execution_count": 48,
   "id": "dac20811",
   "metadata": {},
   "outputs": [
    {
     "data": {
      "text/plain": [
       "0        just awesome  i love this album its very good ...\n",
       "1                                        good  good flavor\n",
       "2        disappointed  i read through the reviews on he...\n",
       "3        irritation  my husband bought this gel for us ...\n",
       "4        not worth it  my boyfriend and i bought this t...\n",
       "                               ...                        \n",
       "29835    softness  i got this conditioner with influens...\n",
       "29836    i love it  i love it  i received this for revi...\n",
       "29837    hair is so smooth after use  first of all i lo...\n",
       "29838    perfect for my oily hair  i received this thro...\n",
       "29839    conditioned into healthy  i received this prod...\n",
       "Name: reviews, Length: 29840, dtype: object"
      ]
     },
     "execution_count": 48,
     "metadata": {},
     "output_type": "execute_result"
    }
   ],
   "source": [
    "review.reviews"
   ]
  },
  {
   "cell_type": "code",
   "execution_count": 49,
   "id": "8dcfd3b8",
   "metadata": {},
   "outputs": [
    {
     "data": {
      "text/plain": [
       "'good  good flavor'"
      ]
     },
     "execution_count": 49,
     "metadata": {},
     "output_type": "execute_result"
    }
   ],
   "source": [
    "review.reviews[1]"
   ]
  },
  {
   "cell_type": "markdown",
   "id": "e40100f1",
   "metadata": {},
   "source": [
    "## Identifying and Remove Stop Words\n",
    "- A stop word is a commonly used word (such as “the”, “a”, “an”, “in”). \n",
    "- Removal of stopwords is necessary since they add noise without having any informational value in modeling."
   ]
  },
  {
   "cell_type": "code",
   "execution_count": 50,
   "id": "751995fe",
   "metadata": {},
   "outputs": [
    {
     "name": "stderr",
     "output_type": "stream",
     "text": [
      "[nltk_data] Downloading package stopwords to C:\\Users\\Sancharee-\n",
      "[nltk_data]     Amit\\AppData\\Roaming\\nltk_data...\n",
      "[nltk_data]   Package stopwords is already up-to-date!\n"
     ]
    },
    {
     "data": {
      "text/plain": [
       "True"
      ]
     },
     "execution_count": 50,
     "metadata": {},
     "output_type": "execute_result"
    }
   ],
   "source": [
    "import nltk\n",
    "from nltk.corpus import stopwords\n",
    "nltk.download('stopwords')"
   ]
  },
  {
   "cell_type": "code",
   "execution_count": 51,
   "id": "6071fba7",
   "metadata": {},
   "outputs": [
    {
     "name": "stdout",
     "output_type": "stream",
     "text": [
      "Total stop words: 179\n"
     ]
    }
   ],
   "source": [
    "stop = stopwords.words('english')\n",
    "stop[0:10]\n",
    "print('Total stop words:',len(stop))"
   ]
  },
  {
   "cell_type": "markdown",
   "id": "8c989bb0",
   "metadata": {},
   "source": [
    "__Removing stopwords from reviews:__"
   ]
  },
  {
   "cell_type": "code",
   "execution_count": 52,
   "id": "3517711a",
   "metadata": {},
   "outputs": [],
   "source": [
    "review.reviews= review.reviews.apply(lambda x: \" \".join(x for x in x.split() if x not in stop))"
   ]
  },
  {
   "cell_type": "code",
   "execution_count": 53,
   "id": "fbfb7abb",
   "metadata": {},
   "outputs": [
    {
     "data": {
      "text/plain": [
       "'good good flavor'"
      ]
     },
     "execution_count": 53,
     "metadata": {},
     "output_type": "execute_result"
    }
   ],
   "source": [
    "review.reviews[1]"
   ]
  },
  {
   "cell_type": "markdown",
   "id": "1f19a4a7",
   "metadata": {},
   "source": [
    "### Tokenize Text in Words\n",
    "- Tokenizing text is important since text can’t be processed without tokenization. Tokenization process means splitting bigger parts to small parts.\n",
    "- You can tokenize paragraphs to sentences and tokenize sentences to words according to your needs. \n",
    "- NLTK is shipped with sentence tokenizer and word tokenizer.\n",
    "- Non english text can also be tokenized by specifying the language"
   ]
  },
  {
   "cell_type": "code",
   "execution_count": 54,
   "id": "fa8458e0",
   "metadata": {},
   "outputs": [
    {
     "name": "stderr",
     "output_type": "stream",
     "text": [
      "[nltk_data] Downloading package punkt to C:\\Users\\Sancharee-\n",
      "[nltk_data]     Amit\\AppData\\Roaming\\nltk_data...\n",
      "[nltk_data]   Package punkt is already up-to-date!\n"
     ]
    },
    {
     "data": {
      "text/plain": [
       "True"
      ]
     },
     "execution_count": 54,
     "metadata": {},
     "output_type": "execute_result"
    }
   ],
   "source": [
    "nltk.download('punkt')"
   ]
  },
  {
   "cell_type": "markdown",
   "id": "266fa041",
   "metadata": {},
   "source": [
    "__Word Tokenizing:__"
   ]
  },
  {
   "cell_type": "code",
   "execution_count": 55,
   "id": "be51966c",
   "metadata": {},
   "outputs": [],
   "source": [
    "review['review_tokenized'] = review.reviews.apply(lambda x: word_tokenize(x))"
   ]
  },
  {
   "cell_type": "code",
   "execution_count": 56,
   "id": "41970bb6",
   "metadata": {},
   "outputs": [
    {
     "data": {
      "text/plain": [
       "0    [awesome, love, album, good, hip, hop, side, c...\n",
       "1                                 [good, good, flavor]\n",
       "2    [disappointed, read, reviews, looking, buying,...\n",
       "3    [irritation, husband, bought, gel, us, gel, ca...\n",
       "4    [worth, boyfriend, bought, spice, things, bedr...\n",
       "Name: review_tokenized, dtype: object"
      ]
     },
     "execution_count": 56,
     "metadata": {},
     "output_type": "execute_result"
    }
   ],
   "source": [
    "review['review_tokenized'].head()"
   ]
  },
  {
   "cell_type": "markdown",
   "id": "c4290091",
   "metadata": {},
   "source": [
    "### Lemmatizing Words Using [WordNet](https://wordnet.princeton.edu/)\n",
    "\n",
    "__Wordnet:__\n",
    "- WordNet is a lexical database for the English language.\n",
    "- It groups English words into sets of synonyms called synsets, provides short definitions and usage examples, and records a number of relations among these synonym sets or their members. \n",
    "- WordNet can thus be seen as a combination of dictionary and thesaurus. While it is accessible to human users via a web browser, its primary use is in automatic text analysis and artificial intelligence applications.\n",
    "\n",
    "__Lemmatization:__\n",
    "- Lemmatization is a more effective option than stemming because it converts the word into its root word, rather than just stripping the suffices. \n",
    "- It makes use of the vocabulary and does a morphological analysis to obtain the root word. Therefore, we usually prefer using lemmatization over stemming.\n",
    "- Example: reduce words such as “am”, “are”, and “is” to a common form such as “be”"
   ]
  },
  {
   "cell_type": "code",
   "execution_count": 57,
   "id": "d57ed220",
   "metadata": {},
   "outputs": [
    {
     "name": "stderr",
     "output_type": "stream",
     "text": [
      "[nltk_data] Downloading package wordnet to C:\\Users\\Sancharee-\n",
      "[nltk_data]     Amit\\AppData\\Roaming\\nltk_data...\n",
      "[nltk_data]   Package wordnet is already up-to-date!\n"
     ]
    },
    {
     "data": {
      "text/plain": [
       "True"
      ]
     },
     "execution_count": 57,
     "metadata": {},
     "output_type": "execute_result"
    }
   ],
   "source": [
    "nltk.download('wordnet')"
   ]
  },
  {
   "cell_type": "code",
   "execution_count": 58,
   "id": "9d23d5d7",
   "metadata": {},
   "outputs": [],
   "source": [
    "lemmatizer = WordNetLemmatizer()"
   ]
  },
  {
   "cell_type": "code",
   "execution_count": 59,
   "id": "b3b0a37c",
   "metadata": {},
   "outputs": [],
   "source": [
    "review['review_lemmatized'] = review.review_tokenized.apply(lambda x: [lemmatizer.lemmatize(word,pos=\"v\") for word in x])"
   ]
  },
  {
   "cell_type": "code",
   "execution_count": 60,
   "id": "3eab1cf7",
   "metadata": {},
   "outputs": [
    {
     "data": {
      "text/plain": [
       "0    [awesome, love, album, good, hip, hop, side, c...\n",
       "1                                 [good, good, flavor]\n",
       "2    [disappointed, read, reviews, looking, buying,...\n",
       "3    [irritation, husband, bought, gel, us, gel, ca...\n",
       "4    [worth, boyfriend, bought, spice, things, bedr...\n",
       "Name: review_tokenized, dtype: object"
      ]
     },
     "execution_count": 60,
     "metadata": {},
     "output_type": "execute_result"
    }
   ],
   "source": [
    "review['review_tokenized'].head()"
   ]
  },
  {
   "cell_type": "code",
   "execution_count": 61,
   "id": "0b696c13",
   "metadata": {},
   "outputs": [
    {
     "data": {
      "text/plain": [
       "0    [awesome, love, album, good, hip, hop, side, c...\n",
       "1                                 [good, good, flavor]\n",
       "2    [disappoint, read, review, look, buy, one, cou...\n",
       "3    [irritation, husband, buy, gel, us, gel, cause...\n",
       "4    [worth, boyfriend, buy, spice, things, bedroom...\n",
       "Name: review_lemmatized, dtype: object"
      ]
     },
     "execution_count": 61,
     "metadata": {},
     "output_type": "execute_result"
    }
   ],
   "source": [
    "review['review_lemmatized'].head()"
   ]
  },
  {
   "cell_type": "code",
   "execution_count": 62,
   "id": "4fb6a27d",
   "metadata": {},
   "outputs": [
    {
     "data": {
      "text/plain": [
       "['awesome',\n",
       " 'love',\n",
       " 'album',\n",
       " 'good',\n",
       " 'hip',\n",
       " 'hop',\n",
       " 'side',\n",
       " 'current',\n",
       " 'pop',\n",
       " 'sound',\n",
       " 'hype',\n",
       " 'listen',\n",
       " 'everyday',\n",
       " 'gym',\n",
       " 'give',\n",
       " '5star',\n",
       " 'rat',\n",
       " 'way',\n",
       " 'metaphors',\n",
       " 'crazy',\n",
       " 'good',\n",
       " 'good',\n",
       " 'flavor',\n",
       " 'disappoint',\n",
       " 'read',\n",
       " 'review',\n",
       " 'look',\n",
       " 'buy',\n",
       " 'one',\n",
       " 'couple',\n",
       " 'lubricants',\n",
       " 'ultimately',\n",
       " 'disappoint',\n",
       " 'didnt',\n",
       " 'even',\n",
       " 'live',\n",
       " 'review',\n",
       " 'read',\n",
       " 'starters',\n",
       " 'neither',\n",
       " 'boyfriend',\n",
       " 'could',\n",
       " 'notice',\n",
       " 'sort',\n",
       " 'enhance',\n",
       " 'captivate',\n",
       " 'sensation',\n",
       " 'notice',\n",
       " 'however',\n",
       " 'messy',\n",
       " 'consistency',\n",
       " 'reminiscent',\n",
       " 'liquidy',\n",
       " 'vaseline',\n",
       " 'difficult',\n",
       " 'clean',\n",
       " 'pleasant',\n",
       " 'especially',\n",
       " 'since',\n",
       " 'lack',\n",
       " 'captivate',\n",
       " 'sensation',\n",
       " 'expect',\n",
       " 'im',\n",
       " 'disappoint',\n",
       " 'pay',\n",
       " 'much',\n",
       " 'lube',\n",
       " 'wont',\n",
       " 'use',\n",
       " 'could',\n",
       " 'use',\n",
       " 'normal',\n",
       " 'personal',\n",
       " 'lubricant',\n",
       " '1',\n",
       " 'less',\n",
       " 'money',\n",
       " '2',\n",
       " 'less',\n",
       " 'mess',\n",
       " 'irritation',\n",
       " 'husband',\n",
       " 'buy',\n",
       " 'gel',\n",
       " 'us',\n",
       " 'gel',\n",
       " 'cause',\n",
       " 'irritation',\n",
       " 'felt',\n",
       " 'like',\n",
       " 'burn',\n",
       " 'skin',\n",
       " 'wouldnt',\n",
       " 'recommend',\n",
       " 'gel',\n",
       " 'worth',\n",
       " 'boyfriend',\n",
       " 'buy',\n",
       " 'spice',\n",
       " 'things',\n",
       " 'bedroom',\n",
       " 'highly',\n",
       " 'disappoint',\n",
       " 'product',\n",
       " 'buy',\n",
       " 'one',\n",
       " 'absolutely',\n",
       " 'love',\n",
       " 'ky',\n",
       " 'mine',\n",
       " 'think',\n",
       " 'would',\n",
       " 'similar',\n",
       " 'affect',\n",
       " 'absolutely',\n",
       " 'nothing',\n",
       " 'buy',\n",
       " 'disappoint',\n",
       " 'buy',\n",
       " 'earlier',\n",
       " 'today',\n",
       " 'excite',\n",
       " 'check',\n",
       " 'base',\n",
       " 'product',\n",
       " 'description',\n",
       " 'expect',\n",
       " 'something',\n",
       " 'like',\n",
       " 'regular',\n",
       " 'ky',\n",
       " 'fan',\n",
       " 'expect',\n",
       " 'leave',\n",
       " 'little',\n",
       " 'disappoint',\n",
       " 'happy',\n",
       " 'buy',\n",
       " 'product',\n",
       " 'husband',\n",
       " 'try',\n",
       " 'impress',\n",
       " 'tingle',\n",
       " 'warm',\n",
       " 'leave',\n",
       " 'us',\n",
       " 'sticky',\n",
       " 'use',\n",
       " 'ky',\n",
       " 'products',\n",
       " 'past',\n",
       " 'love',\n",
       " 'ky',\n",
       " 'one',\n",
       " 'disappoint',\n",
       " 'disappoint',\n",
       " 'husband',\n",
       " 'buy',\n",
       " 'extra',\n",
       " 'fun',\n",
       " 'werevboth',\n",
       " 'extremely',\n",
       " 'disappoint',\n",
       " 'especially',\n",
       " 'price',\n",
       " 'waste',\n",
       " 'money',\n",
       " 'product',\n",
       " 'felt',\n",
       " 'nothing',\n",
       " 'sticky',\n",
       " 'mess',\n",
       " 'dont',\n",
       " 'buy',\n",
       " 'get',\n",
       " 'surprise',\n",
       " 'husband',\n",
       " 'nothing',\n",
       " 'special',\n",
       " 'lube',\n",
       " 'save',\n",
       " 'money',\n",
       " 'get',\n",
       " 'plain',\n",
       " 'ky',\n",
       " 'need',\n",
       " 'lube',\n",
       " 'wish',\n",
       " 'could',\n",
       " 'return',\n",
       " 'refund',\n",
       " 'waste',\n",
       " 'money',\n",
       " 'purchase',\n",
       " 'think',\n",
       " 'would',\n",
       " 'sort',\n",
       " 'warm',\n",
       " 'effect',\n",
       " 'original',\n",
       " 'dont',\n",
       " 'waste',\n",
       " 'money',\n",
       " 'waste',\n",
       " 'money',\n",
       " 'buy',\n",
       " 'enhance',\n",
       " 'time',\n",
       " 'bite',\n",
       " 'abslutely',\n",
       " 'nothing',\n",
       " 'disappoint',\n",
       " 'especially',\n",
       " 'almost',\n",
       " '20',\n",
       " 'happy',\n",
       " 'product',\n",
       " 'buy',\n",
       " 'really',\n",
       " 'like',\n",
       " 'n',\n",
       " 'variety',\n",
       " 'nothing',\n",
       " 'like',\n",
       " 'disappoint',\n",
       " 'product',\n",
       " 'disappoint',\n",
       " 'first',\n",
       " 'time',\n",
       " 'purchase',\n",
       " 'type',\n",
       " 'product',\n",
       " 'maybe',\n",
       " 'expect',\n",
       " 'much',\n",
       " 'think',\n",
       " 'warm',\n",
       " 'feel',\n",
       " 'leave',\n",
       " 'us',\n",
       " 'sticky',\n",
       " 'even',\n",
       " 'try',\n",
       " 'expect',\n",
       " 'buy',\n",
       " 'try',\n",
       " 'wife',\n",
       " 'enjoy',\n",
       " 'feel',\n",
       " 'anything',\n",
       " 'enhancement',\n",
       " 'product',\n",
       " 'hisher',\n",
       " 'product',\n",
       " 'disappoint',\n",
       " 'buy',\n",
       " 'product',\n",
       " 'spice',\n",
       " 'things',\n",
       " 'fianc',\n",
       " 'didnt',\n",
       " 'anything',\n",
       " 'passion',\n",
       " 'buy',\n",
       " 'disappoint',\n",
       " 'buy',\n",
       " 'try',\n",
       " 'spice',\n",
       " 'things',\n",
       " 'felt',\n",
       " 'nothing',\n",
       " 'disappoint',\n",
       " 'honest',\n",
       " 'pretty',\n",
       " 'nice',\n",
       " 'buy',\n",
       " 'better',\n",
       " 'review',\n",
       " 'jelly',\n",
       " 'feel',\n",
       " 'like',\n",
       " 'didnt',\n",
       " 'work',\n",
       " 'well',\n",
       " 'us',\n",
       " 'kind',\n",
       " 'warmfeeling',\n",
       " 'thats',\n",
       " 'guess',\n",
       " 'dont',\n",
       " 'know',\n",
       " 'whats',\n",
       " 'suppose',\n",
       " 'happen',\n",
       " 'lol',\n",
       " 'first',\n",
       " 'time',\n",
       " 'use',\n",
       " 'first',\n",
       " 'time',\n",
       " 'use',\n",
       " 'ky',\n",
       " 'didnt',\n",
       " 'anything',\n",
       " 'opinion',\n",
       " 'felt',\n",
       " 'like',\n",
       " 'every',\n",
       " 'time',\n",
       " 'anything',\n",
       " 'first',\n",
       " 'time',\n",
       " 'probably',\n",
       " 'somthing',\n",
       " 'wrong',\n",
       " 'love',\n",
       " 'notice',\n",
       " 'product',\n",
       " 'clearance',\n",
       " 'store',\n",
       " 'shop',\n",
       " 'frequently',\n",
       " 'decide',\n",
       " 'give',\n",
       " 'try',\n",
       " 'husband',\n",
       " 'love',\n",
       " 'go',\n",
       " 'back',\n",
       " 'buy',\n",
       " 'every',\n",
       " 'box',\n",
       " 'leave',\n",
       " 'like',\n",
       " 'others',\n",
       " 'mention',\n",
       " 'sure',\n",
       " 'suppose',\n",
       " 'lubricant',\n",
       " 'purpose',\n",
       " 'like',\n",
       " 'much',\n",
       " 'better',\n",
       " 'regular',\n",
       " 'ky',\n",
       " 'jelly',\n",
       " 'tend',\n",
       " 'dry',\n",
       " 'disappear',\n",
       " 'us',\n",
       " 'product',\n",
       " 'stay',\n",
       " 'awhile',\n",
       " 'make',\n",
       " 'pleasurable',\n",
       " 'experience',\n",
       " 'drawback',\n",
       " 'find',\n",
       " 'bite',\n",
       " 'sticky',\n",
       " 'apply',\n",
       " 'hand',\n",
       " 'youre',\n",
       " 'leave',\n",
       " 'sticky',\n",
       " 'hand',\n",
       " 'agree',\n",
       " 'little',\n",
       " 'go',\n",
       " 'long',\n",
       " 'way',\n",
       " 'personally',\n",
       " 'careful',\n",
       " 'products',\n",
       " 'due',\n",
       " 'skin',\n",
       " 'irritation',\n",
       " 'surprisingly',\n",
       " 'actually',\n",
       " 'seem',\n",
       " 'help',\n",
       " 'receive',\n",
       " 'sample',\n",
       " 'never',\n",
       " 'good',\n",
       " 'time',\n",
       " 'use',\n",
       " 'product',\n",
       " 'couple',\n",
       " 'time',\n",
       " 'since',\n",
       " 'recived',\n",
       " 'free',\n",
       " 'try',\n",
       " 'good',\n",
       " 'experiance',\n",
       " 'feel',\n",
       " 'warm',\n",
       " 'pretty',\n",
       " 'good',\n",
       " 'sensation',\n",
       " 'recomend',\n",
       " 'job',\n",
       " 'use',\n",
       " 'time',\n",
       " 'stay',\n",
       " 'bite',\n",
       " 'sticky',\n",
       " 'bad',\n",
       " 'better',\n",
       " 'products',\n",
       " 'love',\n",
       " 'love',\n",
       " 'review',\n",
       " 'collect',\n",
       " 'part',\n",
       " 'promotion',\n",
       " 'great',\n",
       " 'sensation',\n",
       " 'good',\n",
       " 'product',\n",
       " 'give',\n",
       " 'great',\n",
       " 'feel',\n",
       " 'little',\n",
       " 'extra',\n",
       " 'something',\n",
       " 'really',\n",
       " 'enjoy',\n",
       " 'use',\n",
       " 'product',\n",
       " 'husband',\n",
       " '20',\n",
       " 'years',\n",
       " 'marriage',\n",
       " 'things',\n",
       " 'tend',\n",
       " 'get',\n",
       " 'little',\n",
       " 'tire',\n",
       " 'bore',\n",
       " 'thing',\n",
       " 'need',\n",
       " 'shake',\n",
       " 'things',\n",
       " 'bite',\n",
       " 'package',\n",
       " 'pump',\n",
       " 'dispenser',\n",
       " 'awesome',\n",
       " 'product',\n",
       " 'disappoint',\n",
       " 'little',\n",
       " 'go',\n",
       " 'long',\n",
       " 'way',\n",
       " 'provide',\n",
       " 'slight',\n",
       " 'warm',\n",
       " 'sensation',\n",
       " 'use',\n",
       " 'become',\n",
       " 'sticky',\n",
       " 'tacky',\n",
       " 'anyway',\n",
       " 'excellent',\n",
       " 'choice',\n",
       " 'intimate',\n",
       " 'lubricant',\n",
       " 'receive',\n",
       " 'free',\n",
       " 'product',\n",
       " 'purpose',\n",
       " 'review',\n",
       " 'opinions',\n",
       " '100',\n",
       " 'great',\n",
       " 'product',\n",
       " 'awesome',\n",
       " 'product',\n",
       " 'couple',\n",
       " 'warm',\n",
       " 'feel',\n",
       " 'lubricant',\n",
       " 'sticky',\n",
       " 'like',\n",
       " 'lot',\n",
       " 'lubricantsit',\n",
       " 'easy',\n",
       " 'clean',\n",
       " 'usei',\n",
       " 'absolutely',\n",
       " 'purchase',\n",
       " 'future',\n",
       " 'receive',\n",
       " 'product',\n",
       " 'free',\n",
       " 'purpose',\n",
       " 'give',\n",
       " 'reviewopinions',\n",
       " '100',\n",
       " 'wouldnt',\n",
       " 'try',\n",
       " 'exceptional',\n",
       " 'product',\n",
       " 'smooth',\n",
       " 'slimy',\n",
       " 'warm',\n",
       " 'sensation',\n",
       " 'experience',\n",
       " 'partner',\n",
       " 'share',\n",
       " 'least',\n",
       " 'lifetime',\n",
       " 'great',\n",
       " 'way',\n",
       " 'shake',\n",
       " 'things',\n",
       " 'amaze',\n",
       " 'use',\n",
       " 'first',\n",
       " 'time',\n",
       " 'boyfriend',\n",
       " 'love',\n",
       " 'much',\n",
       " 'didnt',\n",
       " 'get',\n",
       " 'sticky',\n",
       " 'felt',\n",
       " 'great',\n",
       " 'entire',\n",
       " 'time',\n",
       " 'amaze',\n",
       " 'great',\n",
       " 'product',\n",
       " 'exactly',\n",
       " 'say',\n",
       " 'work',\n",
       " 'well',\n",
       " 'yummilicious',\n",
       " 'yes',\n",
       " 'scent',\n",
       " 'best',\n",
       " 'like',\n",
       " 'lemon',\n",
       " 'frost',\n",
       " 'wont',\n",
       " 'able',\n",
       " 'get',\n",
       " 'enough',\n",
       " 'lotion',\n",
       " 'also',\n",
       " 'almost',\n",
       " '100',\n",
       " 'natural',\n",
       " 'none',\n",
       " 'yucky',\n",
       " 'ingredients',\n",
       " 'like',\n",
       " 'major',\n",
       " 'brand',\n",
       " 'lotion',\n",
       " 'mineral',\n",
       " 'oil',\n",
       " 'petroleum',\n",
       " 'etc',\n",
       " 'also',\n",
       " 'completely',\n",
       " 'work',\n",
       " 'know',\n",
       " 'sometimes',\n",
       " 'opt',\n",
       " 'organic',\n",
       " 'choices',\n",
       " 'good',\n",
       " 'good',\n",
       " 'popular',\n",
       " 'nastier',\n",
       " 'brand',\n",
       " 'jr',\n",
       " 'watkins',\n",
       " 'deliver',\n",
       " 'lotion',\n",
       " 'soften',\n",
       " 'hand',\n",
       " 'body',\n",
       " 'leave',\n",
       " 'ungreasy',\n",
       " 'smell',\n",
       " 'perfect',\n",
       " 'even',\n",
       " 'fiance',\n",
       " 'like',\n",
       " 'use',\n",
       " 'hes',\n",
       " 'pretty',\n",
       " 'much',\n",
       " 'antilotion',\n",
       " 'regard',\n",
       " 'price',\n",
       " 'absolutely',\n",
       " 'right',\n",
       " 'tooget',\n",
       " 'one',\n",
       " 'favorites',\n",
       " 'handcreamlemoncream',\n",
       " 'refresh',\n",
       " 'fragrance',\n",
       " 'wish',\n",
       " 'would',\n",
       " 'last',\n",
       " 'day',\n",
       " 'soothe',\n",
       " 'hand',\n",
       " 'get',\n",
       " 'compliment',\n",
       " 'use',\n",
       " 'especially',\n",
       " 'daughters',\n",
       " 'granddaughters',\n",
       " 'want',\n",
       " 'get',\n",
       " 'one',\n",
       " 'favorite',\n",
       " 'hand',\n",
       " 'cream',\n",
       " 'wish',\n",
       " 'watkins',\n",
       " 'still',\n",
       " 'vanilla',\n",
       " 'body',\n",
       " 'cream',\n",
       " 'favorite',\n",
       " 'hand',\n",
       " 'cream',\n",
       " 'smell',\n",
       " 'like',\n",
       " 'lemon',\n",
       " 'cookie',\n",
       " 'absolutely',\n",
       " 'love',\n",
       " 'kid',\n",
       " 'love',\n",
       " 'like',\n",
       " 'lemon',\n",
       " 'frost',\n",
       " 'love',\n",
       " 'lotion',\n",
       " 'smile',\n",
       " 'every',\n",
       " 'time',\n",
       " 'put',\n",
       " 'someone',\n",
       " 'steal',\n",
       " 'hand',\n",
       " 'cream',\n",
       " 'nice',\n",
       " 'desk',\n",
       " 'work',\n",
       " 'someone',\n",
       " 'steal',\n",
       " 'two',\n",
       " 'days',\n",
       " 'break',\n",
       " 'heart',\n",
       " 'little',\n",
       " 'thick',\n",
       " 'work',\n",
       " 'love',\n",
       " 'lotion',\n",
       " 'nice',\n",
       " 'thick',\n",
       " 'great',\n",
       " 'fragrance',\n",
       " 'use',\n",
       " 'hand',\n",
       " 'feet',\n",
       " 'ok',\n",
       " 'far',\n",
       " 'sure',\n",
       " 'work',\n",
       " 'clear',\n",
       " 'complexion',\n",
       " 'use',\n",
       " '2',\n",
       " 'weeks',\n",
       " 'keep',\n",
       " 'skin',\n",
       " 'smooth',\n",
       " 'clean',\n",
       " 'still',\n",
       " 'work',\n",
       " 'make',\n",
       " 'skin',\n",
       " 'feel',\n",
       " 'clean',\n",
       " 'super',\n",
       " 'dry',\n",
       " 'ashy',\n",
       " 'dont',\n",
       " 'follow',\n",
       " 'moisturiser',\n",
       " 'soon',\n",
       " 'im',\n",
       " 'do',\n",
       " 'skin',\n",
       " 'doesnt',\n",
       " 'feel',\n",
       " 'oily',\n",
       " 'tacky',\n",
       " 'make',\n",
       " 'skin',\n",
       " 'radiant',\n",
       " 'use',\n",
       " 'foundation',\n",
       " 'concealer',\n",
       " 'need',\n",
       " 'make',\n",
       " 'skin',\n",
       " 'look',\n",
       " 'even',\n",
       " 'hydrate',\n",
       " 'ambi',\n",
       " 'skincare',\n",
       " 'make',\n",
       " 'face',\n",
       " 'feel',\n",
       " 'nice',\n",
       " 'fresh',\n",
       " '3',\n",
       " 'days',\n",
       " 'get',\n",
       " 'slight',\n",
       " 'acne',\n",
       " 'clear',\n",
       " 'right',\n",
       " 'back',\n",
       " 'deff',\n",
       " 'use',\n",
       " 'every',\n",
       " 'day',\n",
       " 'ambi',\n",
       " 'soap',\n",
       " 'use',\n",
       " 'soap',\n",
       " 'years',\n",
       " 'consider',\n",
       " 'walmarts',\n",
       " 'best',\n",
       " 'keep',\n",
       " 'secret',\n",
       " 'disappoint',\n",
       " 'stop',\n",
       " 'carry',\n",
       " 'store',\n",
       " 'location',\n",
       " 'delight',\n",
       " 'see',\n",
       " 'could',\n",
       " 'get',\n",
       " 'online',\n",
       " 'end',\n",
       " 'bless',\n",
       " 'dont',\n",
       " 'go',\n",
       " 'walmart',\n",
       " 'often',\n",
       " 'im',\n",
       " 'save',\n",
       " 'money',\n",
       " 'sorry',\n",
       " 'walmart',\n",
       " 'delivery',\n",
       " 'prompt',\n",
       " 'stockpile',\n",
       " 'never',\n",
       " 'leave',\n",
       " 'house',\n",
       " 'nasty',\n",
       " 'smell',\n",
       " 'would',\n",
       " 'get',\n",
       " 'anyone',\n",
       " 'sick',\n",
       " 'wont',\n",
       " 'recommend',\n",
       " 'product',\n",
       " 'anyone',\n",
       " 'quantity',\n",
       " 'specifed',\n",
       " 'receive',\n",
       " '1',\n",
       " 'bottle',\n",
       " 'order',\n",
       " 'say',\n",
       " 'pack',\n",
       " '6',\n",
       " 'disappoint',\n",
       " 'review',\n",
       " 'collect',\n",
       " 'part',\n",
       " 'promotion',\n",
       " 'bubble',\n",
       " 'bath',\n",
       " 'would',\n",
       " 'think',\n",
       " 'convenient',\n",
       " 'bubble',\n",
       " 'bath',\n",
       " 'wash',\n",
       " 'container',\n",
       " 'mean',\n",
       " 'buy',\n",
       " 'twice',\n",
       " 'amount',\n",
       " 'son',\n",
       " 'love',\n",
       " 'bubble',\n",
       " 'though',\n",
       " 'complaints',\n",
       " '2',\n",
       " '1',\n",
       " 'well',\n",
       " 'johnsons',\n",
       " 'need',\n",
       " 'say',\n",
       " 'know',\n",
       " 'right',\n",
       " 'ok',\n",
       " 'use',\n",
       " 'johnsons',\n",
       " 'since',\n",
       " 'baby',\n",
       " 'yes',\n",
       " 'long',\n",
       " 'time',\n",
       " 'let',\n",
       " 'get',\n",
       " 'chase',\n",
       " '2',\n",
       " '1',\n",
       " 'come',\n",
       " 'doesnt',\n",
       " 'like',\n",
       " '2',\n",
       " '1',\n",
       " 'hard',\n",
       " 'enough',\n",
       " 'get',\n",
       " 'little',\n",
       " 'love',\n",
       " 'clean',\n",
       " 'help',\n",
       " 'always',\n",
       " 'bless',\n",
       " 'johnsons',\n",
       " 'bubble',\n",
       " 'bath',\n",
       " 'wash',\n",
       " 'must',\n",
       " 'house',\n",
       " '2',\n",
       " '1',\n",
       " 'well',\n",
       " 'johnsons',\n",
       " 'need',\n",
       " 'say',\n",
       " 'know',\n",
       " 'right',\n",
       " 'ok',\n",
       " 'use',\n",
       " 'johnsons',\n",
       " 'since',\n",
       " 'baby',\n",
       " 'yes',\n",
       " 'long',\n",
       " 'time',\n",
       " 'let',\n",
       " 'get',\n",
       " 'chase',\n",
       " '2',\n",
       " '1',\n",
       " 'come',\n",
       " 'doesnt',\n",
       " 'like',\n",
       " '2',\n",
       " '1',\n",
       " 'hard',\n",
       " 'enough',\n",
       " 'get',\n",
       " 'little',\n",
       " 'love',\n",
       " 'clean',\n",
       " 'help',\n",
       " 'always',\n",
       " 'bless',\n",
       " 'johnsons',\n",
       " 'bubble',\n",
       " 'bath',\n",
       " 'wash',\n",
       " 'must',\n",
       " 'house',\n",
       " 'love',\n",
       " 'scent',\n",
       " 'bubble',\n",
       " 'arent',\n",
       " 'top',\n",
       " 'fabulous',\n",
       " 'smell',\n",
       " 'good',\n",
       " 'make',\n",
       " 'kid',\n",
       " 'happy',\n",
       " 'good',\n",
       " 'one',\n",
       " 'use',\n",
       " 'baby',\n",
       " 'one',\n",
       " 'month',\n",
       " 'old',\n",
       " 'dont',\n",
       " 'like',\n",
       " 'much',\n",
       " 'fragnanaces',\n",
       " 'hence',\n",
       " 'love',\n",
       " 'dont',\n",
       " 'feel',\n",
       " 'like',\n",
       " 'use',\n",
       " 'another',\n",
       " 'one',\n",
       " 'kid',\n",
       " 'love',\n",
       " 'bubble',\n",
       " 'lot',\n",
       " 'fun',\n",
       " 'bath',\n",
       " 'use',\n",
       " 'lot',\n",
       " 'make',\n",
       " 'bubble',\n",
       " 'nice',\n",
       " 'addition',\n",
       " 'kid',\n",
       " 'dont',\n",
       " 'want',\n",
       " 'take',\n",
       " 'bath',\n",
       " 'love',\n",
       " 'stuff',\n",
       " 'absolutely',\n",
       " 'love',\n",
       " 'bubblebath',\n",
       " 'smell',\n",
       " 'good',\n",
       " 'body',\n",
       " 'wash',\n",
       " 'little',\n",
       " 'one',\n",
       " 'sensitive',\n",
       " 'skin',\n",
       " 'great',\n",
       " 'option',\n",
       " 'still',\n",
       " 'enjoy',\n",
       " 'bubble',\n",
       " 'break',\n",
       " 'smell',\n",
       " 'amaze',\n",
       " 'buy',\n",
       " 'small',\n",
       " 'sample',\n",
       " 'size',\n",
       " 'couple',\n",
       " 'months',\n",
       " 'back',\n",
       " 'love',\n",
       " 'smell',\n",
       " 'wonderful',\n",
       " 'recently',\n",
       " 'buy',\n",
       " 'new',\n",
       " 'bottle',\n",
       " 'think',\n",
       " 'may',\n",
       " 'keep',\n",
       " 'shower',\n",
       " 'buy',\n",
       " 'kid',\n",
       " 'another',\n",
       " 'one',\n",
       " 'great',\n",
       " 'product',\n",
       " 'pleasant',\n",
       " 'smell',\n",
       " 'need',\n",
       " 'little',\n",
       " 'whole',\n",
       " ...]"
      ]
     },
     "execution_count": 62,
     "metadata": {},
     "output_type": "execute_result"
    }
   ],
   "source": [
    "reviewlist=review['review_lemmatized'].tolist()\n",
    "wordlist = [y for x in reviewlist for y in x]\n",
    "wordlist"
   ]
  },
  {
   "cell_type": "code",
   "execution_count": 63,
   "id": "16bbecde",
   "metadata": {},
   "outputs": [
    {
     "name": "stdout",
     "output_type": "stream",
     "text": [
      "Number of total words in corpus 593351\n"
     ]
    }
   ],
   "source": [
    "print('Number of total words in corpus',len(wordlist))"
   ]
  },
  {
   "cell_type": "markdown",
   "id": "e50b1e03",
   "metadata": {},
   "source": [
    "__Initialize word frequency counter:__"
   ]
  },
  {
   "cell_type": "code",
   "execution_count": 64,
   "id": "83edd69d",
   "metadata": {},
   "outputs": [],
   "source": [
    "word_counter = Counter(wordlist)"
   ]
  },
  {
   "cell_type": "markdown",
   "id": "b6f88e98",
   "metadata": {},
   "source": [
    "__Pick top 30 most common words:__"
   ]
  },
  {
   "cell_type": "code",
   "execution_count": 65,
   "id": "0b19a425",
   "metadata": {},
   "outputs": [
    {
     "data": {
      "text/html": [
       "<div>\n",
       "<style scoped>\n",
       "    .dataframe tbody tr th:only-of-type {\n",
       "        vertical-align: middle;\n",
       "    }\n",
       "\n",
       "    .dataframe tbody tr th {\n",
       "        vertical-align: top;\n",
       "    }\n",
       "\n",
       "    .dataframe thead th {\n",
       "        text-align: right;\n",
       "    }\n",
       "</style>\n",
       "<table border=\"1\" class=\"dataframe\">\n",
       "  <thead>\n",
       "    <tr style=\"text-align: right;\">\n",
       "      <th></th>\n",
       "      <th>word</th>\n",
       "      <th>freq</th>\n",
       "    </tr>\n",
       "  </thead>\n",
       "  <tbody>\n",
       "    <tr>\n",
       "      <th>0</th>\n",
       "      <td>great</td>\n",
       "      <td>14881</td>\n",
       "    </tr>\n",
       "    <tr>\n",
       "      <th>1</th>\n",
       "      <td>use</td>\n",
       "      <td>13755</td>\n",
       "    </tr>\n",
       "    <tr>\n",
       "      <th>2</th>\n",
       "      <td>love</td>\n",
       "      <td>13035</td>\n",
       "    </tr>\n",
       "    <tr>\n",
       "      <th>3</th>\n",
       "      <td>product</td>\n",
       "      <td>10774</td>\n",
       "    </tr>\n",
       "    <tr>\n",
       "      <th>4</th>\n",
       "      <td>review</td>\n",
       "      <td>9485</td>\n",
       "    </tr>\n",
       "    <tr>\n",
       "      <th>5</th>\n",
       "      <td>movie</td>\n",
       "      <td>9332</td>\n",
       "    </tr>\n",
       "    <tr>\n",
       "      <th>6</th>\n",
       "      <td>part</td>\n",
       "      <td>9174</td>\n",
       "    </tr>\n",
       "    <tr>\n",
       "      <th>7</th>\n",
       "      <td>clean</td>\n",
       "      <td>8932</td>\n",
       "    </tr>\n",
       "    <tr>\n",
       "      <th>8</th>\n",
       "      <td>collect</td>\n",
       "      <td>8760</td>\n",
       "    </tr>\n",
       "    <tr>\n",
       "      <th>9</th>\n",
       "      <td>promotion</td>\n",
       "      <td>8735</td>\n",
       "    </tr>\n",
       "    <tr>\n",
       "      <th>10</th>\n",
       "      <td>wipe</td>\n",
       "      <td>8421</td>\n",
       "    </tr>\n",
       "    <tr>\n",
       "      <th>11</th>\n",
       "      <td>good</td>\n",
       "      <td>6710</td>\n",
       "    </tr>\n",
       "    <tr>\n",
       "      <th>12</th>\n",
       "      <td>clorox</td>\n",
       "      <td>6014</td>\n",
       "    </tr>\n",
       "    <tr>\n",
       "      <th>13</th>\n",
       "      <td>like</td>\n",
       "      <td>5282</td>\n",
       "    </tr>\n",
       "    <tr>\n",
       "      <th>14</th>\n",
       "      <td>hair</td>\n",
       "      <td>4865</td>\n",
       "    </tr>\n",
       "    <tr>\n",
       "      <th>15</th>\n",
       "      <td>smell</td>\n",
       "      <td>4679</td>\n",
       "    </tr>\n",
       "    <tr>\n",
       "      <th>16</th>\n",
       "      <td>make</td>\n",
       "      <td>4039</td>\n",
       "    </tr>\n",
       "    <tr>\n",
       "      <th>17</th>\n",
       "      <td>get</td>\n",
       "      <td>3950</td>\n",
       "    </tr>\n",
       "    <tr>\n",
       "      <th>18</th>\n",
       "      <td>easy</td>\n",
       "      <td>3922</td>\n",
       "    </tr>\n",
       "    <tr>\n",
       "      <th>19</th>\n",
       "      <td>one</td>\n",
       "      <td>3770</td>\n",
       "    </tr>\n",
       "    <tr>\n",
       "      <th>20</th>\n",
       "      <td>work</td>\n",
       "      <td>3421</td>\n",
       "    </tr>\n",
       "    <tr>\n",
       "      <th>21</th>\n",
       "      <td>best</td>\n",
       "      <td>2994</td>\n",
       "    </tr>\n",
       "    <tr>\n",
       "      <th>22</th>\n",
       "      <td>really</td>\n",
       "      <td>2923</td>\n",
       "    </tr>\n",
       "    <tr>\n",
       "      <th>23</th>\n",
       "      <td>time</td>\n",
       "      <td>2908</td>\n",
       "    </tr>\n",
       "    <tr>\n",
       "      <th>24</th>\n",
       "      <td>buy</td>\n",
       "      <td>2750</td>\n",
       "    </tr>\n",
       "    <tr>\n",
       "      <th>25</th>\n",
       "      <td>godzilla</td>\n",
       "      <td>2700</td>\n",
       "    </tr>\n",
       "    <tr>\n",
       "      <th>26</th>\n",
       "      <td>disinfect</td>\n",
       "      <td>2691</td>\n",
       "    </tr>\n",
       "    <tr>\n",
       "      <th>27</th>\n",
       "      <td>go</td>\n",
       "      <td>2591</td>\n",
       "    </tr>\n",
       "    <tr>\n",
       "      <th>28</th>\n",
       "      <td>would</td>\n",
       "      <td>2583</td>\n",
       "    </tr>\n",
       "    <tr>\n",
       "      <th>29</th>\n",
       "      <td>look</td>\n",
       "      <td>2549</td>\n",
       "    </tr>\n",
       "  </tbody>\n",
       "</table>\n",
       "</div>"
      ],
      "text/plain": [
       "         word   freq\n",
       "0       great  14881\n",
       "1         use  13755\n",
       "2        love  13035\n",
       "3     product  10774\n",
       "4      review   9485\n",
       "5       movie   9332\n",
       "6        part   9174\n",
       "7       clean   8932\n",
       "8     collect   8760\n",
       "9   promotion   8735\n",
       "10       wipe   8421\n",
       "11       good   6710\n",
       "12     clorox   6014\n",
       "13       like   5282\n",
       "14       hair   4865\n",
       "15      smell   4679\n",
       "16       make   4039\n",
       "17        get   3950\n",
       "18       easy   3922\n",
       "19        one   3770\n",
       "20       work   3421\n",
       "21       best   2994\n",
       "22     really   2923\n",
       "23       time   2908\n",
       "24        buy   2750\n",
       "25   godzilla   2700\n",
       "26  disinfect   2691\n",
       "27         go   2591\n",
       "28      would   2583\n",
       "29       look   2549"
      ]
     },
     "execution_count": 65,
     "metadata": {},
     "output_type": "execute_result"
    }
   ],
   "source": [
    "most_common_words = word_counter.most_common()[:30]\n",
    "most_common_words = pd.DataFrame(most_common_words)\n",
    "most_common_words.columns = ['word', 'freq']\n",
    "most_common_words"
   ]
  },
  {
   "cell_type": "code",
   "execution_count": 66,
   "id": "4bc19d45",
   "metadata": {},
   "outputs": [
    {
     "data": {
      "text/plain": [
       "<AxesSubplot:ylabel='word'>"
      ]
     },
     "execution_count": 66,
     "metadata": {},
     "output_type": "execute_result"
    },
    {
     "data": {
      "image/png": "[encoded data removed]",
      "text/plain": [
       "<Figure size 432x288 with 1 Axes>"
      ]
     },
     "metadata": {
      "needs_background": "light"
     },
     "output_type": "display_data"
    }
   ],
   "source": [
    "# plotting the frequency graph\n",
    "most_common_words.sort_values(by='freq',ascending=True).plot(x='word', kind='barh')"
   ]
  },
  {
   "cell_type": "markdown",
   "id": "901a64ed",
   "metadata": {},
   "source": [
    "__Sort the word counts and plot their values on Logarithmic axes to check the shape of the distribution:__\n",
    "- This visualization is particularly useful if comparing 2 or more datasets\n",
    "- A flatter distribution indicates a large vocabulary while a peaked distribution a restricted vocabulary often due to a focused topic or specialized language."
   ]
  },
  {
   "cell_type": "code",
   "execution_count": 67,
   "id": "9998f0b8",
   "metadata": {},
   "outputs": [
    {
     "data": {
      "image/png": "[encoded data removed]",
      "text/plain": [
       "<Figure size 432x288 with 1 Axes>"
      ]
     },
     "metadata": {
      "needs_background": "light"
     },
     "output_type": "display_data"
    }
   ],
   "source": [
    "sorted_word_counts = sorted(list(word_counter.values()), reverse=True)\n",
    "\n",
    "plt.loglog(sorted_word_counts)\n",
    "plt.ylabel(\"Freq\")\n",
    "plt.xlabel(\"Word Rank\");"
   ]
  },
  {
   "cell_type": "markdown",
   "id": "5a9fea5f",
   "metadata": {},
   "source": [
    "__Histogram of sorted_word_counts:__\n",
    "- Displays how many words have a count in a specific range.\n",
    "- The distribution is highly peaked at low counts, i.e. most of the words appear which a low count, so we better display it on semilogarithmic axes to inspect the tail of the distribution."
   ]
  },
  {
   "cell_type": "code",
   "execution_count": 68,
   "id": "053d261f",
   "metadata": {},
   "outputs": [
    {
     "data": {
      "image/png": "[encoded data removed]",
      "text/plain": [
       "<Figure size 432x288 with 1 Axes>"
      ]
     },
     "metadata": {
      "needs_background": "light"
     },
     "output_type": "display_data"
    }
   ],
   "source": [
    "plt.hist(sorted_word_counts, bins=50, log=True);"
   ]
  },
  {
   "cell_type": "code",
   "execution_count": 69,
   "id": "38fdd637",
   "metadata": {},
   "outputs": [
    {
     "data": {
      "text/plain": [
       "['great',\n",
       " 'use',\n",
       " 'love',\n",
       " 'product',\n",
       " 'review',\n",
       " 'movie',\n",
       " 'part',\n",
       " 'clean',\n",
       " 'collect',\n",
       " 'promotion',\n",
       " 'wipe',\n",
       " 'good',\n",
       " 'clorox',\n",
       " 'like',\n",
       " 'hair',\n",
       " 'smell',\n",
       " 'make',\n",
       " 'get',\n",
       " 'easy',\n",
       " 'one',\n",
       " 'work',\n",
       " 'best',\n",
       " 'really',\n",
       " 'time',\n",
       " 'buy',\n",
       " 'godzilla',\n",
       " 'disinfect',\n",
       " 'go',\n",
       " 'would',\n",
       " 'look']"
      ]
     },
     "execution_count": 69,
     "metadata": {},
     "output_type": "execute_result"
    }
   ],
   "source": [
    "most_common_words.word.tolist()[:30]"
   ]
  },
  {
   "cell_type": "markdown",
   "id": "b6b5f3e9",
   "metadata": {},
   "source": [
    "# 4. Feature Extraction"
   ]
  },
  {
   "cell_type": "code",
   "execution_count": 70,
   "id": "69a0e61f",
   "metadata": {},
   "outputs": [],
   "source": [
    "review['review_lemmatized_train']=review.review_lemmatized.apply(lambda x: ' '.join(x))"
   ]
  },
  {
   "cell_type": "code",
   "execution_count": 71,
   "id": "c15fc71f",
   "metadata": {},
   "outputs": [
    {
     "data": {
      "text/html": [
       "<div>\n",
       "<style scoped>\n",
       "    .dataframe tbody tr th:only-of-type {\n",
       "        vertical-align: middle;\n",
       "    }\n",
       "\n",
       "    .dataframe tbody tr th {\n",
       "        vertical-align: top;\n",
       "    }\n",
       "\n",
       "    .dataframe thead th {\n",
       "        text-align: right;\n",
       "    }\n",
       "</style>\n",
       "<table border=\"1\" class=\"dataframe\">\n",
       "  <thead>\n",
       "    <tr style=\"text-align: right;\">\n",
       "      <th></th>\n",
       "      <th>reviews</th>\n",
       "      <th>user_sentiment</th>\n",
       "      <th>review_tokenized</th>\n",
       "      <th>review_lemmatized</th>\n",
       "      <th>review_lemmatized_train</th>\n",
       "    </tr>\n",
       "  </thead>\n",
       "  <tbody>\n",
       "    <tr>\n",
       "      <th>0</th>\n",
       "      <td>awesome love album good hip hop side current p...</td>\n",
       "      <td>1</td>\n",
       "      <td>[awesome, love, album, good, hip, hop, side, c...</td>\n",
       "      <td>[awesome, love, album, good, hip, hop, side, c...</td>\n",
       "      <td>awesome love album good hip hop side current p...</td>\n",
       "    </tr>\n",
       "    <tr>\n",
       "      <th>1</th>\n",
       "      <td>good good flavor</td>\n",
       "      <td>1</td>\n",
       "      <td>[good, good, flavor]</td>\n",
       "      <td>[good, good, flavor]</td>\n",
       "      <td>good good flavor</td>\n",
       "    </tr>\n",
       "    <tr>\n",
       "      <th>2</th>\n",
       "      <td>disappointed read reviews looking buying one c...</td>\n",
       "      <td>0</td>\n",
       "      <td>[disappointed, read, reviews, looking, buying,...</td>\n",
       "      <td>[disappoint, read, review, look, buy, one, cou...</td>\n",
       "      <td>disappoint read review look buy one couple lub...</td>\n",
       "    </tr>\n",
       "    <tr>\n",
       "      <th>3</th>\n",
       "      <td>irritation husband bought gel us gel caused ir...</td>\n",
       "      <td>0</td>\n",
       "      <td>[irritation, husband, bought, gel, us, gel, ca...</td>\n",
       "      <td>[irritation, husband, buy, gel, us, gel, cause...</td>\n",
       "      <td>irritation husband buy gel us gel cause irrita...</td>\n",
       "    </tr>\n",
       "    <tr>\n",
       "      <th>4</th>\n",
       "      <td>worth boyfriend bought spice things bedroom hi...</td>\n",
       "      <td>0</td>\n",
       "      <td>[worth, boyfriend, bought, spice, things, bedr...</td>\n",
       "      <td>[worth, boyfriend, buy, spice, things, bedroom...</td>\n",
       "      <td>worth boyfriend buy spice things bedroom highl...</td>\n",
       "    </tr>\n",
       "  </tbody>\n",
       "</table>\n",
       "</div>"
      ],
      "text/plain": [
       "                                             reviews  user_sentiment  \\\n",
       "0  awesome love album good hip hop side current p...               1   \n",
       "1                                   good good flavor               1   \n",
       "2  disappointed read reviews looking buying one c...               0   \n",
       "3  irritation husband bought gel us gel caused ir...               0   \n",
       "4  worth boyfriend bought spice things bedroom hi...               0   \n",
       "\n",
       "                                    review_tokenized  \\\n",
       "0  [awesome, love, album, good, hip, hop, side, c...   \n",
       "1                               [good, good, flavor]   \n",
       "2  [disappointed, read, reviews, looking, buying,...   \n",
       "3  [irritation, husband, bought, gel, us, gel, ca...   \n",
       "4  [worth, boyfriend, bought, spice, things, bedr...   \n",
       "\n",
       "                                   review_lemmatized  \\\n",
       "0  [awesome, love, album, good, hip, hop, side, c...   \n",
       "1                               [good, good, flavor]   \n",
       "2  [disappoint, read, review, look, buy, one, cou...   \n",
       "3  [irritation, husband, buy, gel, us, gel, cause...   \n",
       "4  [worth, boyfriend, buy, spice, things, bedroom...   \n",
       "\n",
       "                             review_lemmatized_train  \n",
       "0  awesome love album good hip hop side current p...  \n",
       "1                                   good good flavor  \n",
       "2  disappoint read review look buy one couple lub...  \n",
       "3  irritation husband buy gel us gel cause irrita...  \n",
       "4  worth boyfriend buy spice things bedroom highl...  "
      ]
     },
     "execution_count": 71,
     "metadata": {},
     "output_type": "execute_result"
    }
   ],
   "source": [
    "review.head()"
   ]
  },
  {
   "cell_type": "markdown",
   "id": "013a59f5",
   "metadata": {},
   "source": [
    "### Defining Target and Feature variables"
   ]
  },
  {
   "cell_type": "code",
   "execution_count": 72,
   "id": "d55311fe",
   "metadata": {},
   "outputs": [],
   "source": [
    "x = (review['review_lemmatized_train'])\n",
    "y = (review['user_sentiment'])"
   ]
  },
  {
   "cell_type": "code",
   "execution_count": 73,
   "id": "2bd94b57",
   "metadata": {},
   "outputs": [],
   "source": [
    "no_of_classes= len(pd.Series(y).value_counts())"
   ]
  },
  {
   "cell_type": "code",
   "execution_count": 74,
   "id": "2ed8a6f5",
   "metadata": {},
   "outputs": [
    {
     "data": {
      "text/plain": [
       "1    26493\n",
       "0     3347\n",
       "Name: user_sentiment, dtype: int64"
      ]
     },
     "execution_count": 74,
     "metadata": {},
     "output_type": "execute_result"
    }
   ],
   "source": [
    "pd.Series(y).value_counts()"
   ]
  },
  {
   "cell_type": "code",
   "execution_count": 75,
   "id": "9f6d29d4",
   "metadata": {},
   "outputs": [
    {
     "data": {
      "text/plain": [
       "88.78351206434316"
      ]
     },
     "execution_count": 75,
     "metadata": {},
     "output_type": "execute_result"
    }
   ],
   "source": [
    "### Checking the Distribution of target variable\n",
    "positive = (sum(review['user_sentiment'])/len(review['user_sentiment'].index))*100\n",
    "positive"
   ]
  },
  {
   "cell_type": "markdown",
   "id": "4c52190b",
   "metadata": {},
   "source": [
    "##### Here we can clearly see there is a class imbalance in the distribution of target variable"
   ]
  },
  {
   "cell_type": "markdown",
   "id": "173392ef",
   "metadata": {},
   "source": [
    "### Splitting into Train and test datasets"
   ]
  },
  {
   "cell_type": "code",
   "execution_count": 76,
   "id": "3e44048d",
   "metadata": {},
   "outputs": [],
   "source": [
    "# Split the dataset into test and train\n",
    "seed = 50 \n",
    "\n",
    "X_train, X_test, y_train, y_test = train_test_split(x, y, test_size=0.3, random_state=seed)"
   ]
  },
  {
   "cell_type": "markdown",
   "id": "9bb36bdb",
   "metadata": {},
   "source": [
    "### Tf-Idf Vectorization"
   ]
  },
  {
   "cell_type": "code",
   "execution_count": 77,
   "id": "4607082a",
   "metadata": {},
   "outputs": [],
   "source": [
    "from sklearn.feature_extraction.text import TfidfVectorizer\n",
    "word_vectorizer = TfidfVectorizer()\n"
   ]
  },
  {
   "cell_type": "code",
   "execution_count": 78,
   "id": "3227aa06",
   "metadata": {},
   "outputs": [
    {
     "name": "stdout",
     "output_type": "stream",
     "text": [
      "X_train_transformed (20888, 15690)\n",
      "y_train (20888,)\n",
      "X_test_transformed (8952, 15690)\n",
      "y_test (8952,)\n"
     ]
    }
   ],
   "source": [
    "## transforming the train and test datasets\n",
    "X_train_transformed = word_vectorizer.fit_transform(X_train.tolist())\n",
    "X_test_transformed = word_vectorizer.transform(X_test.tolist())\n",
    "\n",
    "# # Print the shape of each dataset.\n",
    "print('X_train_transformed', X_train_transformed.shape)\n",
    "print('y_train', y_train.shape)\n",
    "print('X_test_transformed', X_test_transformed.shape)\n",
    "print('y_test', y_test.shape)"
   ]
  },
  {
   "cell_type": "code",
   "execution_count": 79,
   "id": "9d1265e0",
   "metadata": {},
   "outputs": [
    {
     "name": "stdout",
     "output_type": "stream",
     "text": [
      "Features with lowest idf:\n",
      "['great' 'love' 'use' 'review' 'part' 'collect' 'promotion' 'product'\n",
      " 'clean' 'wipe']\n",
      "\n",
      "Features with highest idf:\n",
      "['holders' 'holdfor' 'holdouts' 'holdsoft' 'hollywoodagain' 'hologram'\n",
      " 'holsom' 'holtz' 'holdalso' 'zyrtec']\n"
     ]
    }
   ],
   "source": [
    "# get feature names\n",
    "feature_names = np.array(word_vectorizer.get_feature_names())\n",
    "sorted_by_idf = np.argsort(word_vectorizer.idf_)\n",
    "print(\"Features with lowest idf:\\n{}\".format(\n",
    "       feature_names[sorted_by_idf[:10]]))\n",
    "print(\"\\nFeatures with highest idf:\\n{}\".format(\n",
    "       feature_names[sorted_by_idf[-10:]]))"
   ]
  },
  {
   "cell_type": "markdown",
   "id": "9fa29544",
   "metadata": {},
   "source": [
    "## 5. Modelling"
   ]
  },
  {
   "cell_type": "code",
   "execution_count": 80,
   "id": "476589b6",
   "metadata": {},
   "outputs": [],
   "source": [
    "def plot_pre_curve(y_test,probs):\n",
    "    precision, recall, thresholds = precision_recall_curve(y_test, probs)\n",
    "    plt.plot([0, 1], [0.5, 0.5], linestyle='--')\n",
    "    # plot the precision-recall curve for the model\n",
    "    plt.plot(recall, precision, marker='.')\n",
    "    plt.title(\"precision recall curve\")\n",
    "    plt.xlabel('Recall')\n",
    "    plt.ylabel('Precision')\n",
    "    # show the plot\n",
    "    plt.show()\n",
    "    \n",
    "def plot_roc(y_test,probs):\n",
    "    fpr, tpr, thresholds = roc_curve(y_test, probs)\n",
    "    # plot no skill\n",
    "    plt.plot([0, 1], [0, 1], linestyle='--')\n",
    "    # plot the roc curve for the model\n",
    "    plt.plot(fpr, tpr, marker='.')\n",
    "    plt.title(\"ROC curve\")\n",
    "    plt.xlabel('false positive rate')\n",
    "    plt.ylabel('true positive rate')\n",
    "    # show the plot\n",
    "    plt.show()"
   ]
  },
  {
   "cell_type": "markdown",
   "id": "08d4ec5b",
   "metadata": {},
   "source": [
    "## 5.1 Logistic Regression"
   ]
  },
  {
   "cell_type": "markdown",
   "id": "8228964d",
   "metadata": {},
   "source": [
    "#### Handling class imbalance using SMOTE"
   ]
  },
  {
   "cell_type": "code",
   "execution_count": 81,
   "id": "20c31876",
   "metadata": {},
   "outputs": [
    {
     "name": "stdout",
     "output_type": "stream",
     "text": [
      "Before Counter({1: 18540, 0: 2348})\n",
      "After Counter({1: 18540, 0: 18540})\n"
     ]
    }
   ],
   "source": [
    "counter = Counter(y_train)\n",
    "print('Before',counter)\n",
    "\n",
    "sm = SMOTE()\n",
    "\n",
    "# transform the dataset\n",
    "X_train_transformed_sm, y_train_sm = sm.fit_resample(X_train_transformed, y_train)\n",
    "\n",
    "counter = Counter(y_train_sm)\n",
    "print('After',counter)"
   ]
  },
  {
   "cell_type": "markdown",
   "id": "37f755c8",
   "metadata": {},
   "source": [
    "#### Building the model"
   ]
  },
  {
   "cell_type": "code",
   "execution_count": 82,
   "id": "8d6a7c42",
   "metadata": {},
   "outputs": [
    {
     "data": {
      "text/plain": [
       "LogisticRegression()"
      ]
     },
     "execution_count": 82,
     "metadata": {},
     "output_type": "execute_result"
    }
   ],
   "source": [
    "# Building the Logistic Regression model\n",
    "logit_sm = LogisticRegression()\n",
    "logit_sm.fit(X_train_transformed_sm,y_train_sm)\n",
    "\n"
   ]
  },
  {
   "cell_type": "markdown",
   "id": "00e277ff",
   "metadata": {},
   "source": [
    "#### Model performance on train data"
   ]
  },
  {
   "cell_type": "code",
   "execution_count": 83,
   "id": "f4955b42",
   "metadata": {},
   "outputs": [
    {
     "name": "stdout",
     "output_type": "stream",
     "text": [
      "Logistic Regression accuracy 0.9291801510248112\n",
      "              precision    recall  f1-score   support\n",
      "\n",
      "           0       0.96      0.91      0.93     19584\n",
      "           1       0.90      0.95      0.93     17496\n",
      "\n",
      "    accuracy                           0.93     37080\n",
      "   macro avg       0.93      0.93      0.93     37080\n",
      "weighted avg       0.93      0.93      0.93     37080\n",
      "\n",
      "[[17749  1835]\n",
      " [  791 16705]]\n"
     ]
    }
   ],
   "source": [
    "# Prediction Train Data\n",
    "y_pred_train_sm= logit_sm.predict(X_train_transformed_sm)\n",
    "\n",
    "#Model Performance on Train Dataset\n",
    "print(\"Logistic Regression accuracy\", accuracy_score(y_pred_train_sm, y_train_sm))\n",
    "print(classification_report(y_pred_train_sm, y_train_sm))\n",
    "print(confusion_matrix(y_pred_train_sm, y_train_sm))"
   ]
  },
  {
   "cell_type": "markdown",
   "id": "712b4084",
   "metadata": {},
   "source": [
    "#### Model performance on test data\n"
   ]
  },
  {
   "cell_type": "code",
   "execution_count": 84,
   "id": "f79563ff",
   "metadata": {},
   "outputs": [
    {
     "name": "stdout",
     "output_type": "stream",
     "text": [
      "Logistic Regression accuracy 0.868521000893655\n",
      "              precision    recall  f1-score   support\n",
      "\n",
      "           0       0.75      0.45      0.56      1668\n",
      "           1       0.88      0.97      0.92      7284\n",
      "\n",
      "    accuracy                           0.87      8952\n",
      "   macro avg       0.81      0.71      0.74      8952\n",
      "weighted avg       0.86      0.87      0.85      8952\n",
      "\n",
      "[[ 745  923]\n",
      " [ 254 7030]]\n"
     ]
    }
   ],
   "source": [
    "# Prediction Test Data\n",
    "y_pred_test = logit_sm.predict(X_test_transformed)\n",
    "\n",
    "print(\"Logistic Regression accuracy\", accuracy_score(y_pred_test, y_test))\n",
    "print(classification_report(y_pred_test, y_test))\n",
    "print(confusion_matrix(y_pred_test, y_test))"
   ]
  },
  {
   "cell_type": "code",
   "execution_count": 85,
   "id": "a1632a1e",
   "metadata": {},
   "outputs": [],
   "source": [
    "prob_test  = logit_sm.predict_proba(X_test_transformed)\n",
    "prob_train = logit_sm.predict_proba(X_train_transformed_sm)"
   ]
  },
  {
   "cell_type": "code",
   "execution_count": 86,
   "id": "794b2af0",
   "metadata": {},
   "outputs": [
    {
     "name": "stdout",
     "output_type": "stream",
     "text": [
      "Model ROC-AUC score for training sample: 0.977\n",
      "Model ROC-AUC score for test sample: 0.911\n"
     ]
    }
   ],
   "source": [
    "auc_score = roc_auc_score(y_train_sm, prob_train[:,1])\n",
    "print (\"Model ROC-AUC score for training sample: %.3f\" \\\n",
    "                                      % auc_score)\n",
    "auc_score = roc_auc_score(y_test, prob_test[:,1])\n",
    "print (\"Model ROC-AUC score for test sample: %.3f\" \\\n",
    "                                      % auc_score)"
   ]
  },
  {
   "cell_type": "code",
   "execution_count": 87,
   "id": "1dacad24",
   "metadata": {},
   "outputs": [
    {
     "data": {
      "image/png": "[encoded data removed]",
      "text/plain": [
       "<Figure size 432x288 with 1 Axes>"
      ]
     },
     "metadata": {
      "needs_background": "light"
     },
     "output_type": "display_data"
    }
   ],
   "source": [
    "plot_pre_curve(y_test,prob_test[:,1])"
   ]
  },
  {
   "cell_type": "code",
   "execution_count": 88,
   "id": "b3228d6e",
   "metadata": {},
   "outputs": [
    {
     "data": {
      "image/png": "[encoded data removed]",
      "text/plain": [
       "<Figure size 432x288 with 1 Axes>"
      ]
     },
     "metadata": {
      "needs_background": "light"
     },
     "output_type": "display_data"
    }
   ],
   "source": [
    "plot_roc(y_test,prob_test[:,1])"
   ]
  },
  {
   "cell_type": "markdown",
   "id": "7a2edeab",
   "metadata": {},
   "source": [
    "## 5.2 Random forest Classifier"
   ]
  },
  {
   "cell_type": "markdown",
   "id": "bfc1acb4",
   "metadata": {},
   "source": [
    "#### Handling class imbalance using oversampling"
   ]
  },
  {
   "cell_type": "code",
   "execution_count": 89,
   "id": "c98fddb4",
   "metadata": {},
   "outputs": [],
   "source": [
    "#from imblearn import over_sampling\n",
    "from imblearn import over_sampling\n",
    "ros = over_sampling.RandomOverSampler(random_state=0)\n"
   ]
  },
  {
   "cell_type": "code",
   "execution_count": 90,
   "id": "5b734b7d",
   "metadata": {},
   "outputs": [
    {
     "name": "stdout",
     "output_type": "stream",
     "text": [
      "Before over_sampling Counter({1: 18540, 0: 2348})\n",
      "After over_sampling Counter({1: 18540, 0: 18540})\n"
     ]
    }
   ],
   "source": [
    "counter = Counter(y_train)\n",
    "print('Before over_sampling',counter)\n",
    "# X_train_transformed_sm, y_train_sm = sm.fit_resample(X_train_transformed, y_train)\n",
    "\n",
    "# Oversampling the dataset.\n",
    "X_train_transformed_ros, y_train_ros = ros.fit_resample(X_train_transformed, y_train)\n",
    "counter = Counter(y_train_ros)\n",
    "print('After over_sampling',counter)"
   ]
  },
  {
   "cell_type": "markdown",
   "id": "a2478732",
   "metadata": {},
   "source": [
    "#### Building the Random Forest model"
   ]
  },
  {
   "cell_type": "code",
   "execution_count": 91,
   "id": "f7a726f2",
   "metadata": {},
   "outputs": [
    {
     "data": {
      "text/plain": [
       "RandomForestClassifier(n_jobs=-1, random_state=50)"
      ]
     },
     "execution_count": 91,
     "metadata": {},
     "output_type": "execute_result"
    }
   ],
   "source": [
    "# Building Random Forest Model.\n",
    "classifier = RandomForestClassifier(n_estimators=100, random_state=seed, n_jobs=-1)\n",
    "classifier.fit(X_train_transformed_ros,y_train_ros)\n"
   ]
  },
  {
   "cell_type": "markdown",
   "id": "e7555faf",
   "metadata": {},
   "source": [
    "#### Prediction on Train Data"
   ]
  },
  {
   "cell_type": "code",
   "execution_count": 92,
   "id": "5ec92717",
   "metadata": {},
   "outputs": [
    {
     "name": "stdout",
     "output_type": "stream",
     "text": [
      "Random Forest Model accuracy 0.9999730312837108\n",
      "              precision    recall  f1-score   support\n",
      "\n",
      "           0       1.00      1.00      1.00     18541\n",
      "           1       1.00      1.00      1.00     18539\n",
      "\n",
      "    accuracy                           1.00     37080\n",
      "   macro avg       1.00      1.00      1.00     37080\n",
      "weighted avg       1.00      1.00      1.00     37080\n",
      "\n"
     ]
    }
   ],
   "source": [
    "# Prediction Train Data\n",
    "y_pred_train_ros= classifier.predict(X_train_transformed_ros)\n",
    "\n",
    "print(\"Random Forest Model accuracy\", accuracy_score(y_pred_train_ros, y_train_ros))\n",
    "print(classification_report(y_pred_train_ros, y_pred_train_ros))"
   ]
  },
  {
   "cell_type": "markdown",
   "id": "dae22d48",
   "metadata": {},
   "source": [
    "#### Prediction on Test Data"
   ]
  },
  {
   "cell_type": "code",
   "execution_count": 93,
   "id": "bd0195f5",
   "metadata": {},
   "outputs": [
    {
     "name": "stdout",
     "output_type": "stream",
     "text": [
      "Random Forest Model accuracy 0.9206881143878463\n",
      "              precision    recall  f1-score   support\n",
      "\n",
      "           0       0.36      0.84      0.50       421\n",
      "           1       0.99      0.92      0.96      8531\n",
      "\n",
      "    accuracy                           0.92      8952\n",
      "   macro avg       0.67      0.88      0.73      8952\n",
      "weighted avg       0.96      0.92      0.94      8952\n",
      "\n"
     ]
    }
   ],
   "source": [
    "# Prediction Test Data\n",
    "y_pred_test = classifier.predict(X_test_transformed)\n",
    "\n",
    "print(\"Random Forest Model accuracy\", accuracy_score(y_pred_test, y_test))\n",
    "print(classification_report(y_pred_test, y_test))"
   ]
  },
  {
   "cell_type": "code",
   "execution_count": 94,
   "id": "135b953b",
   "metadata": {},
   "outputs": [],
   "source": [
    "prob_test_rf  = classifier.predict_proba(X_test_transformed)\n",
    "prob_train_rf = classifier.predict_proba(X_train_transformed_ros)"
   ]
  },
  {
   "cell_type": "markdown",
   "id": "2037c5a4",
   "metadata": {},
   "source": [
    "#### Model Evaluation"
   ]
  },
  {
   "cell_type": "code",
   "execution_count": 95,
   "id": "3f2e4d73",
   "metadata": {},
   "outputs": [
    {
     "name": "stdout",
     "output_type": "stream",
     "text": [
      "Model ROC-AUC score for training sample: 1.000\n",
      "Model ROC-AUC score for test sample: 0.908\n"
     ]
    }
   ],
   "source": [
    "auc_score = roc_auc_score(y_train_ros, prob_train_rf[:,1])\n",
    "print (\"Model ROC-AUC score for training sample: %.3f\" \\\n",
    "                                      % auc_score)\n",
    "auc_score = roc_auc_score(y_test, prob_test_rf[:,1])\n",
    "print (\"Model ROC-AUC score for test sample: %.3f\" \\\n",
    "                                      % auc_score)"
   ]
  },
  {
   "cell_type": "code",
   "execution_count": 96,
   "id": "9fd8d1a5",
   "metadata": {},
   "outputs": [
    {
     "name": "stdout",
     "output_type": "stream",
     "text": [
      "Train Accuracy ::  0.9999730312837108\n",
      "Test Accuracy ::  0.9206881143878463\n"
     ]
    }
   ],
   "source": [
    "#Calculate train and test accuracy\n",
    "train_acc = accuracy_score(y_train_ros, y_pred_train_ros)\n",
    "test_acc  = accuracy_score(y_test, y_pred_test)\n",
    "print (\"Train Accuracy :: \", train_acc)\n",
    "print (\"Test Accuracy :: \", test_acc)"
   ]
  },
  {
   "cell_type": "code",
   "execution_count": 97,
   "id": "aa6b1192",
   "metadata": {},
   "outputs": [
    {
     "data": {
      "image/png": "[encoded data removed]",
      "text/plain": [
       "<Figure size 432x288 with 1 Axes>"
      ]
     },
     "metadata": {
      "needs_background": "light"
     },
     "output_type": "display_data"
    }
   ],
   "source": [
    "plot_pre_curve(y_test,prob_test_rf[:,1])"
   ]
  },
  {
   "cell_type": "code",
   "execution_count": 98,
   "id": "49175566",
   "metadata": {},
   "outputs": [
    {
     "data": {
      "image/png": "[encoded data removed]",
      "text/plain": [
       "<Figure size 432x288 with 1 Axes>"
      ]
     },
     "metadata": {
      "needs_background": "light"
     },
     "output_type": "display_data"
    }
   ],
   "source": [
    "plot_roc(y_test,prob_test_rf[:,1])"
   ]
  },
  {
   "cell_type": "markdown",
   "id": "02aa86a9",
   "metadata": {},
   "source": [
    "## 5.3 XGBoost"
   ]
  },
  {
   "cell_type": "code",
   "execution_count": 99,
   "id": "38a63d93",
   "metadata": {},
   "outputs": [],
   "source": [
    "xgbclf = XGBClassifier(random_state=42, seed=2, colsample_bytree=0.6, subsample=0.7, \n",
    "                    n_estimators=300)\n",
    "\n"
   ]
  },
  {
   "cell_type": "code",
   "execution_count": 100,
   "id": "c2dd6895",
   "metadata": {},
   "outputs": [
    {
     "name": "stdout",
     "output_type": "stream",
     "text": [
      "[16:22:43] WARNING: C:/Users/Administrator/workspace/xgboost-win64_release_1.4.0/src/learner.cc:1095: Starting in XGBoost 1.3.0, the default evaluation metric used with the objective 'binary:logistic' was changed from 'error' to 'logloss'. Explicitly set eval_metric if you'd like to restore the old behavior.\n"
     ]
    },
    {
     "data": {
      "text/plain": [
       "XGBClassifier(base_score=0.5, booster='gbtree', colsample_bylevel=1,\n",
       "              colsample_bynode=1, colsample_bytree=0.6, gamma=0, gpu_id=-1,\n",
       "              importance_type='gain', interaction_constraints='',\n",
       "              learning_rate=0.300000012, max_delta_step=0, max_depth=6,\n",
       "              min_child_weight=1, missing=nan, monotone_constraints='()',\n",
       "              n_estimators=300, n_jobs=8, num_parallel_tree=1, random_state=42,\n",
       "              reg_alpha=0, reg_lambda=1, scale_pos_weight=1, seed=2,\n",
       "              subsample=0.7, tree_method='exact', validate_parameters=1,\n",
       "              verbosity=None)"
      ]
     },
     "execution_count": 100,
     "metadata": {},
     "output_type": "execute_result"
    }
   ],
   "source": [
    "xgbclf.fit(X_train_transformed_sm,y_train_sm)"
   ]
  },
  {
   "cell_type": "code",
   "execution_count": 101,
   "id": "5956b244",
   "metadata": {},
   "outputs": [
    {
     "name": "stdout",
     "output_type": "stream",
     "text": [
      "XGBoost Model accuracy 0.9796925566343042\n",
      "              precision    recall  f1-score   support\n",
      "\n",
      "           0       0.98      0.98      0.98     18509\n",
      "           1       0.98      0.98      0.98     18571\n",
      "\n",
      "    accuracy                           0.98     37080\n",
      "   macro avg       0.98      0.98      0.98     37080\n",
      "weighted avg       0.98      0.98      0.98     37080\n",
      "\n"
     ]
    }
   ],
   "source": [
    "# Prediction Train Data\n",
    "y_pred_train_xgb= xgbclf.predict(X_train_transformed_sm)\n",
    "\n",
    "print(\"XGBoost Model accuracy\", accuracy_score(y_pred_train_xgb, y_train_sm))\n",
    "print(classification_report(y_pred_train_xgb, y_train_sm))"
   ]
  },
  {
   "cell_type": "code",
   "execution_count": 102,
   "id": "07c356d3",
   "metadata": {},
   "outputs": [
    {
     "name": "stdout",
     "output_type": "stream",
     "text": [
      "XGBoost Model accuracy 0.9075067024128687\n",
      "              precision    recall  f1-score   support\n",
      "\n",
      "           0       0.56      0.59      0.57       947\n",
      "           1       0.95      0.95      0.95      8005\n",
      "\n",
      "    accuracy                           0.91      8952\n",
      "   macro avg       0.76      0.77      0.76      8952\n",
      "weighted avg       0.91      0.91      0.91      8952\n",
      "\n"
     ]
    }
   ],
   "source": [
    "# Prediction Test Data\n",
    "y_pred_test_xgb = xgbclf.predict(X_test_transformed)\n",
    "\n",
    "print(\"XGBoost Model accuracy\", accuracy_score(y_pred_test_xgb, y_test))\n",
    "print(classification_report(y_pred_test_xgb, y_test))"
   ]
  },
  {
   "cell_type": "code",
   "execution_count": 103,
   "id": "2886b87e",
   "metadata": {},
   "outputs": [
    {
     "data": {
      "text/plain": [
       "array([[6.3185692e-03, 9.9368143e-01],\n",
       "       [3.5345554e-04, 9.9964654e-01],\n",
       "       [8.2582235e-03, 9.9174178e-01],\n",
       "       ...,\n",
       "       [5.7831764e-02, 9.4216824e-01],\n",
       "       [4.2002559e-02, 9.5799744e-01],\n",
       "       [2.0132303e-02, 9.7986770e-01]], dtype=float32)"
      ]
     },
     "execution_count": 103,
     "metadata": {},
     "output_type": "execute_result"
    }
   ],
   "source": [
    "prob_test_xgb  = xgbclf.predict_proba(X_test_transformed)\n",
    "prob_train_xgb = xgbclf.predict_proba(X_train_transformed_sm)\n",
    "prob_test_xgb"
   ]
  },
  {
   "cell_type": "code",
   "execution_count": 104,
   "id": "d2c45246",
   "metadata": {},
   "outputs": [
    {
     "name": "stdout",
     "output_type": "stream",
     "text": [
      "Model ROC-AUC score for training sample: 0.998\n",
      "Model ROC-AUC score for test sample: 0.903\n"
     ]
    }
   ],
   "source": [
    "auc_score = roc_auc_score(y_train_sm, prob_train_xgb[:,1])\n",
    "print (\"Model ROC-AUC score for training sample: %.3f\" \\\n",
    "                                      % auc_score)\n",
    "auc_score = roc_auc_score(y_test, prob_test_xgb[:,1])\n",
    "print (\"Model ROC-AUC score for test sample: %.3f\" \\\n",
    "                                      % auc_score)"
   ]
  },
  {
   "cell_type": "code",
   "execution_count": 105,
   "id": "03481ecf",
   "metadata": {},
   "outputs": [
    {
     "name": "stdout",
     "output_type": "stream",
     "text": [
      "Train Accuracy ::  0.9796925566343042\n",
      "Test Accuracy ::  0.9075067024128687\n"
     ]
    }
   ],
   "source": [
    "#Calculate train and test accuracy\n",
    "train_acc = accuracy_score(y_train_sm, y_pred_train_xgb)\n",
    "test_acc  = accuracy_score(y_test, y_pred_test_xgb)\n",
    "print (\"Train Accuracy :: \", train_acc)\n",
    "print (\"Test Accuracy :: \", test_acc)"
   ]
  },
  {
   "cell_type": "code",
   "execution_count": 106,
   "id": "912f9249",
   "metadata": {},
   "outputs": [
    {
     "data": {
      "image/png": "[encoded data removed]",
      "text/plain": [
       "<Figure size 432x288 with 1 Axes>"
      ]
     },
     "metadata": {
      "needs_background": "light"
     },
     "output_type": "display_data"
    }
   ],
   "source": [
    "plot_pre_curve(y_test,prob_test_xgb[:,1])"
   ]
  },
  {
   "cell_type": "code",
   "execution_count": 107,
   "id": "b3623a67",
   "metadata": {},
   "outputs": [
    {
     "data": {
      "image/png": "[encoded data removed]",
      "text/plain": [
       "<Figure size 432x288 with 1 Axes>"
      ]
     },
     "metadata": {
      "needs_background": "light"
     },
     "output_type": "display_data"
    }
   ],
   "source": [
    "plot_roc(y_test,prob_test_xgb[:,1])"
   ]
  },
  {
   "cell_type": "markdown",
   "id": "098de09d",
   "metadata": {},
   "source": [
    "# Model Comparison"
   ]
  },
  {
   "cell_type": "markdown",
   "id": "19286973",
   "metadata": {},
   "source": [
    "### Scoring all the models fitted"
   ]
  },
  {
   "cell_type": "code",
   "execution_count": 108,
   "id": "8ac9b02e",
   "metadata": {},
   "outputs": [
    {
     "data": {
      "image/png": "[encoded data removed]",
      "text/plain": [
       "<Figure size 432x288 with 1 Axes>"
      ]
     },
     "metadata": {
      "needs_background": "light"
     },
     "output_type": "display_data"
    },
    {
     "data": {
      "text/plain": [
       "<Figure size 504x504 with 0 Axes>"
      ]
     },
     "metadata": {},
     "output_type": "display_data"
    },
    {
     "name": "stdout",
     "output_type": "stream",
     "text": [
      "0.868521000893655\n",
      "0.9206881143878463\n",
      "0.9075067024128687\n"
     ]
    }
   ],
   "source": [
    "classifiers = [\"Logistic\",\"RandomForest\",\"XGBoost\"]\n",
    "\n",
    "logit_score = logit_sm.score(X_test_transformed, y_test)\n",
    "\n",
    "rf_score = classifier.score(X_test_transformed, y_test)\n",
    "\n",
    "xgb_score = xgbclf.score(X_test_transformed, y_test)\n",
    "\n",
    "\n",
    "\n",
    "scores =[logit_score,rf_score,xgb_score ]\n",
    "\n",
    "plt.bar(classifiers,scores)\n",
    "plt.title(\"Accuracy Scores for Different Classifiers[Balanced]\")\n",
    "plt.xlabel(\"Classifiers\")\n",
    "plt.ylabel(\"Accuracy\")\n",
    "# plt.savefig(\"./plots/accuracy[Balanced].png\")\n",
    "plt.figure(figsize=(7,7))\n",
    "plt.show()\n",
    "\n",
    "print(logit_score)\n",
    "print(rf_score)\n",
    "print(xgb_score)\n"
   ]
  },
  {
   "cell_type": "markdown",
   "id": "6a087053",
   "metadata": {},
   "source": [
    "#### Since the F1 score of XGBoost model is highest for both the classes 0 and1 we select the XgBoost model"
   ]
  },
  {
   "cell_type": "markdown",
   "id": "b9ba0153",
   "metadata": {},
   "source": [
    "### Saving the trained models as pickle file"
   ]
  },
  {
   "cell_type": "code",
   "execution_count": 109,
   "id": "48da58b1",
   "metadata": {},
   "outputs": [],
   "source": [
    "import pickle"
   ]
  },
  {
   "cell_type": "markdown",
   "id": "9c10cb96",
   "metadata": {},
   "source": [
    "#### Save the tf-idf vectorizer to disk"
   ]
  },
  {
   "cell_type": "code",
   "execution_count": 110,
   "id": "c6b63a92",
   "metadata": {},
   "outputs": [],
   "source": [
    "# save the classification model to disk\n",
    "features = 'feature_model.pkl'\n",
    "pickle.dump(word_vectorizer, open('./models/feature_model.pkl', 'wb'))"
   ]
  },
  {
   "cell_type": "markdown",
   "id": "0a7332b0",
   "metadata": {},
   "source": [
    "#### Save the sentiment classification model to disk"
   ]
  },
  {
   "cell_type": "code",
   "execution_count": 111,
   "id": "3a80c746",
   "metadata": {},
   "outputs": [],
   "source": [
    "# save the classification model to disk\n",
    "sentiment_classifier = 'xgboost_model.pkl'\n",
    "pickle.dump(xgbclf, open('./models/xgboost_model.pkl', 'wb'))"
   ]
  },
  {
   "cell_type": "code",
   "execution_count": 112,
   "id": "b38c37b4",
   "metadata": {},
   "outputs": [
    {
     "ename": "FileNotFoundError",
     "evalue": "[Errno 2] No such file or directory: 'xgboost_model.pkl'",
     "output_type": "error",
     "traceback": [
      "\u001b[1;31m---------------------------------------------------------------------------\u001b[0m",
      "\u001b[1;31mFileNotFoundError\u001b[0m                         Traceback (most recent call last)",
      "\u001b[1;32mC:\\Users\\SANCHA~1\\AppData\\Local\\Temp/ipykernel_38268/3911588929.py\u001b[0m in \u001b[0;36m<module>\u001b[1;34m\u001b[0m\n\u001b[0;32m      1\u001b[0m \u001b[1;31m# load the model from disk\u001b[0m\u001b[1;33m\u001b[0m\u001b[1;33m\u001b[0m\u001b[1;33m\u001b[0m\u001b[0m\n\u001b[1;32m----> 2\u001b[1;33m \u001b[0mloaded_model\u001b[0m \u001b[1;33m=\u001b[0m \u001b[0mpickle\u001b[0m\u001b[1;33m.\u001b[0m\u001b[0mload\u001b[0m\u001b[1;33m(\u001b[0m\u001b[0mopen\u001b[0m\u001b[1;33m(\u001b[0m\u001b[0msentiment_classifier\u001b[0m\u001b[1;33m,\u001b[0m \u001b[1;34m'rb'\u001b[0m\u001b[1;33m)\u001b[0m\u001b[1;33m)\u001b[0m\u001b[1;33m\u001b[0m\u001b[1;33m\u001b[0m\u001b[0m\n\u001b[0m\u001b[0;32m      3\u001b[0m \u001b[0mresult\u001b[0m \u001b[1;33m=\u001b[0m \u001b[0mloaded_model\u001b[0m\u001b[1;33m.\u001b[0m\u001b[0mscore\u001b[0m\u001b[1;33m(\u001b[0m\u001b[0mX_test_transformed\u001b[0m\u001b[1;33m,\u001b[0m \u001b[0my_test\u001b[0m\u001b[1;33m)\u001b[0m\u001b[1;33m\u001b[0m\u001b[1;33m\u001b[0m\u001b[0m\n\u001b[0;32m      4\u001b[0m \u001b[0mprint\u001b[0m\u001b[1;33m(\u001b[0m\u001b[0mresult\u001b[0m\u001b[1;33m)\u001b[0m\u001b[1;33m\u001b[0m\u001b[1;33m\u001b[0m\u001b[0m\n",
      "\u001b[1;31mFileNotFoundError\u001b[0m: [Errno 2] No such file or directory: 'xgboost_model.pkl'"
     ]
    }
   ],
   "source": [
    "# load the model from disk\n",
    "loaded_model = pickle.load(open(sentiment_classifier, 'rb'))\n",
    "result = loaded_model.score(X_test_transformed, y_test)\n",
    "print(result)"
   ]
  },
  {
   "cell_type": "markdown",
   "id": "7e045354",
   "metadata": {},
   "source": [
    "# Building a recommendation system "
   ]
  },
  {
   "cell_type": "markdown",
   "id": "fe8ae22e",
   "metadata": {},
   "source": [
    "- User based recommendation\n",
    "- User based prediction & evaluation\n",
    "- Item based recommendation\n",
    "- Item based prediction & evaluation"
   ]
  },
  {
   "cell_type": "markdown",
   "id": "e319d84b",
   "metadata": {},
   "source": [
    "### Creating dataframe with columns needed for building a recommendation system"
   ]
  },
  {
   "cell_type": "code",
   "execution_count": null,
   "id": "ece5b1fd",
   "metadata": {},
   "outputs": [],
   "source": [
    "df.columns"
   ]
  },
  {
   "cell_type": "code",
   "execution_count": null,
   "id": "3443739b",
   "metadata": {},
   "outputs": [],
   "source": [
    "df.dtypes"
   ]
  },
  {
   "cell_type": "code",
   "execution_count": null,
   "id": "c968551b",
   "metadata": {},
   "outputs": [],
   "source": [
    "# df['productid']= label_encoder.fit_transform(df['name'])\n",
    "# df['userid']= label_encoder.fit_transform(df['reviews_username'])"
   ]
  },
  {
   "cell_type": "code",
   "execution_count": null,
   "id": "1c201dc7",
   "metadata": {},
   "outputs": [],
   "source": [
    "# df['productid']=df['name'].astype('category').cat.codes\n",
    "# df['userid']=df['reviews_username'].astype('category').cat.codes"
   ]
  },
  {
   "cell_type": "code",
   "execution_count": null,
   "id": "a32a4fe7",
   "metadata": {},
   "outputs": [],
   "source": [
    "df.columns"
   ]
  },
  {
   "cell_type": "code",
   "execution_count": null,
   "id": "4bb3ee42",
   "metadata": {},
   "outputs": [],
   "source": [
    "df.head()"
   ]
  },
  {
   "cell_type": "markdown",
   "id": "91d4f539",
   "metadata": {},
   "source": [
    "#### Create a lookup frame so we can get the product names and user name back in readable form later."
   ]
  },
  {
   "cell_type": "code",
   "execution_count": null,
   "id": "fc3abc0e",
   "metadata": {},
   "outputs": [],
   "source": [
    "# item_lookup = df[['productid', 'name']].drop_duplicates()\n",
    "# item_lookup['productid'] = item_lookup.productid.astype(str)"
   ]
  },
  {
   "cell_type": "code",
   "execution_count": null,
   "id": "bc4c890c",
   "metadata": {},
   "outputs": [],
   "source": [
    "# item_lookup"
   ]
  },
  {
   "cell_type": "code",
   "execution_count": null,
   "id": "b41b3a2a",
   "metadata": {},
   "outputs": [],
   "source": [
    "# user_lookup = df[['userid', 'reviews_username']].drop_duplicates()\n",
    "# user_lookup['userid'] = user_lookup['userid'].astype(str)"
   ]
  },
  {
   "cell_type": "code",
   "execution_count": null,
   "id": "e59a5979",
   "metadata": {},
   "outputs": [],
   "source": [
    "# user_lookup"
   ]
  },
  {
   "cell_type": "code",
   "execution_count": null,
   "id": "d8a7e245",
   "metadata": {},
   "outputs": [],
   "source": [
    "ratings=df[['name','reviews_username','reviews_rating']]"
   ]
  },
  {
   "cell_type": "code",
   "execution_count": null,
   "id": "c27b5294",
   "metadata": {
    "scrolled": true
   },
   "outputs": [],
   "source": [
    "ratings"
   ]
  },
  {
   "cell_type": "code",
   "execution_count": null,
   "id": "05df736a",
   "metadata": {},
   "outputs": [],
   "source": [
    "ratings.name.value_counts()"
   ]
  },
  {
   "cell_type": "code",
   "execution_count": null,
   "id": "e53cfdd3",
   "metadata": {},
   "outputs": [],
   "source": [
    "ratings_train, ratings_test = train_test_split(ratings, test_size=0.30, random_state=31)\n",
    "print(ratings_train.shape)\n",
    "print(ratings_test.shape)"
   ]
  },
  {
   "cell_type": "code",
   "execution_count": null,
   "id": "95f3d2c8",
   "metadata": {},
   "outputs": [],
   "source": [
    "ratings_train.name.value_counts()"
   ]
  },
  {
   "cell_type": "code",
   "execution_count": null,
   "id": "28aaabf0",
   "metadata": {},
   "outputs": [],
   "source": [
    "df_pivot = ratings_train.pivot_table(\n",
    "    index='reviews_username',\n",
    "    columns='name',\n",
    "    values='reviews_rating'\n",
    ").fillna(0)\n",
    "\n",
    "df_pivot"
   ]
  },
  {
   "cell_type": "markdown",
   "id": "7daeae85",
   "metadata": {},
   "source": [
    "### Creating dummy train & dummy test dataset\n",
    "These dataset will be used for prediction \n",
    "- Dummy train will be used later for prediction of the movies which has not been rated by the user. To ignore the movies rated by the user, we will mark it as 0 during prediction. The movies not rated by user is marked as 1 for prediction in dummy train dataset. \n",
    "\n",
    "- Dummy test will be used for evaluation. To evaluate, we will only make prediction on the movies rated by the user. So, this is marked as 1. This is just opposite of dummy_train."
   ]
  },
  {
   "cell_type": "code",
   "execution_count": null,
   "id": "d079c126",
   "metadata": {},
   "outputs": [],
   "source": [
    "# Copy the train dataset into dummy_train\n",
    "dummy_train = ratings_train.copy()"
   ]
  },
  {
   "cell_type": "code",
   "execution_count": null,
   "id": "19741b4f",
   "metadata": {},
   "outputs": [],
   "source": [
    "# The movies not rated by user is marked as 1 for prediction. \n",
    "dummy_train['reviews_rating'] = dummy_train['reviews_rating'].apply(lambda x: 0 if x>=1 else 1)"
   ]
  },
  {
   "cell_type": "code",
   "execution_count": null,
   "id": "3651a8e0",
   "metadata": {},
   "outputs": [],
   "source": [
    "dummy_train"
   ]
  },
  {
   "cell_type": "code",
   "execution_count": null,
   "id": "0f9269fb",
   "metadata": {},
   "outputs": [],
   "source": [
    "# Convert the dummy train dataset into matrix format.\n",
    "dummy_train = dummy_train.pivot_table(\n",
    "    index='reviews_username',\n",
    "    columns='name',\n",
    "    values='reviews_rating'\n",
    ").fillna(1)"
   ]
  },
  {
   "cell_type": "code",
   "execution_count": null,
   "id": "2f8925a6",
   "metadata": {},
   "outputs": [],
   "source": [
    "dummy_train.head()"
   ]
  },
  {
   "cell_type": "markdown",
   "id": "55fff716",
   "metadata": {},
   "source": [
    "**Cosine Similarity**\n",
    "\n",
    "Cosine Similarity is a measurement that quantifies the similarity between two vectors [Which is Rating Vector in this case] \n",
    "\n",
    "**Adjusted Cosine**\n",
    "\n",
    "Adjusted cosine similarity is a modified version of vector-based similarity where we incorporate the fact that different users have different ratings schemes. In other words, some users might rate items highly in general, and others might give items lower ratings as a preference. To handle this nature from rating given by user , we subtract average ratings for each user from each user's rating for different movies."
   ]
  },
  {
   "cell_type": "markdown",
   "id": "ef57d592",
   "metadata": {},
   "source": [
    "# User Similarity Matrix"
   ]
  },
  {
   "cell_type": "markdown",
   "id": "68e90872",
   "metadata": {},
   "source": [
    "## Using adjusted Cosine"
   ]
  },
  {
   "cell_type": "markdown",
   "id": "2b85a6c8",
   "metadata": {},
   "source": [
    "### Here, we are not removing the NaN values and calculating the mean only for the movies rated by the user"
   ]
  },
  {
   "cell_type": "code",
   "execution_count": null,
   "id": "ef41027c",
   "metadata": {
    "scrolled": true
   },
   "outputs": [],
   "source": [
    "df_pivot = ratings_train.pivot_table(\n",
    "    index='reviews_username',\n",
    "    columns='name',\n",
    "    values='reviews_rating'\n",
    ")\n",
    "\n",
    "df_pivot"
   ]
  },
  {
   "cell_type": "markdown",
   "id": "96d6b67e",
   "metadata": {},
   "source": [
    "### Normalising the rating of the movie for each user around 0 mean"
   ]
  },
  {
   "cell_type": "code",
   "execution_count": null,
   "id": "417b60b1",
   "metadata": {},
   "outputs": [],
   "source": [
    "mean = np.nanmean(df_pivot, axis=1)\n",
    "df_subtracted = (df_pivot.T-mean).T"
   ]
  },
  {
   "cell_type": "code",
   "execution_count": null,
   "id": "e3fee073",
   "metadata": {},
   "outputs": [],
   "source": [
    "df_subtracted"
   ]
  },
  {
   "cell_type": "markdown",
   "id": "cbbafa07",
   "metadata": {},
   "source": [
    "Finding cosine similarity"
   ]
  },
  {
   "cell_type": "code",
   "execution_count": null,
   "id": "0960f4f1",
   "metadata": {},
   "outputs": [],
   "source": [
    "# Creating the User Similarity Matrix using pairwise_distance function.\n",
    "user_correlation = 1 - pairwise_distances(df_subtracted.fillna(0), metric='cosine')\n",
    "user_correlation[np.isnan(user_correlation)] = 0\n",
    "print(user_correlation)"
   ]
  },
  {
   "cell_type": "markdown",
   "id": "937db732",
   "metadata": {},
   "source": [
    "## Prediction - User User"
   ]
  },
  {
   "cell_type": "markdown",
   "id": "028dda2c",
   "metadata": {},
   "source": [
    "Doing the prediction for the users which are positively related with other users, and not the users which are negatively related as we are interested in the users which are more similar to the current users. So, ignoring the correlation for values less than 0. "
   ]
  },
  {
   "cell_type": "code",
   "execution_count": null,
   "id": "fb051741",
   "metadata": {},
   "outputs": [],
   "source": [
    "user_correlation[user_correlation<0]=0\n",
    "user_correlation"
   ]
  },
  {
   "cell_type": "code",
   "execution_count": null,
   "id": "0dc08e77",
   "metadata": {},
   "outputs": [],
   "source": [
    "user_predicted_ratings = np.dot(user_correlation, df_pivot.fillna(0))\n",
    "user_predicted_ratings\n"
   ]
  },
  {
   "cell_type": "code",
   "execution_count": null,
   "id": "b77da95d",
   "metadata": {},
   "outputs": [],
   "source": [
    "user_predicted_ratings.shape"
   ]
  },
  {
   "cell_type": "markdown",
   "id": "f8963d31",
   "metadata": {},
   "source": [
    "Since we are interested only in the products not rated by the user, we will ignore the products rated by the user by making it zero."
   ]
  },
  {
   "cell_type": "code",
   "execution_count": null,
   "id": "31d83a89",
   "metadata": {},
   "outputs": [],
   "source": [
    "user_final_rating = np.multiply(user_predicted_ratings,dummy_train)\n",
    "user_final_rating"
   ]
  },
  {
   "cell_type": "markdown",
   "id": "b69a1d7a",
   "metadata": {},
   "source": [
    "### Finding the top 5 recommendation for the *user*"
   ]
  },
  {
   "cell_type": "code",
   "execution_count": null,
   "id": "f61b4b9a",
   "metadata": {},
   "outputs": [],
   "source": [
    "# Take the user ID as input.\n",
    "user_input =(input(\"Enter your user name\"))\n",
    "print(user_input)"
   ]
  },
  {
   "cell_type": "code",
   "execution_count": null,
   "id": "2694aded",
   "metadata": {},
   "outputs": [],
   "source": [
    "user_final_rating"
   ]
  },
  {
   "cell_type": "code",
   "execution_count": null,
   "id": "66142c72",
   "metadata": {},
   "outputs": [],
   "source": [
    "d = user_final_rating.loc[user_input].sort_values(ascending=False)[0:5]\n",
    "type(d)"
   ]
  },
  {
   "cell_type": "code",
   "execution_count": null,
   "id": "29c58586",
   "metadata": {},
   "outputs": [],
   "source": [
    "# products=[]\n",
    "# scores=[]\n",
    "# type(d.index)"
   ]
  },
  {
   "cell_type": "code",
   "execution_count": null,
   "id": "be3d5562",
   "metadata": {},
   "outputs": [],
   "source": [
    "#  for idx in d.index:\n",
    "#         products.append(item_lookup.loc[item_lookup['name']==str(idx),'name'])\n",
    "#         scores.append(d[idx])\n",
    "# # products=products.append(item_lookup.loc[item_lookup['productid'].isin(d.index)])\n",
    "# item_lookup.loc[item_lookup['productid']=='173','name']\n",
    "# # ratings.loc[ratings['user_sentiment']=='Positive','reviews_rating']"
   ]
  },
  {
   "cell_type": "code",
   "execution_count": null,
   "id": "18e777a8",
   "metadata": {},
   "outputs": [],
   "source": [
    "# scores"
   ]
  },
  {
   "cell_type": "code",
   "execution_count": null,
   "id": "edd35997",
   "metadata": {},
   "outputs": [],
   "source": [
    "recommendations_userbased = pd.DataFrame({'product':d.index, 'score':d.values})\n",
    "recommendations_userbased"
   ]
  },
  {
   "cell_type": "markdown",
   "id": "d1434d81",
   "metadata": {},
   "source": [
    "## Evaluation - User User"
   ]
  },
  {
   "cell_type": "markdown",
   "id": "54558898",
   "metadata": {},
   "source": [
    "We will evaluate for the movie already rated by the user insead of predicting it for the movie not rated by the user."
   ]
  },
  {
   "cell_type": "code",
   "execution_count": null,
   "id": "67c57d49",
   "metadata": {},
   "outputs": [],
   "source": [
    "# Find out the common users of test and train dataset.\n",
    "common = ratings_test[ratings_test.reviews_username.isin(ratings_train.reviews_username)]\n",
    "common.shape"
   ]
  },
  {
   "cell_type": "code",
   "execution_count": null,
   "id": "86e60f99",
   "metadata": {},
   "outputs": [],
   "source": [
    "common.columns"
   ]
  },
  {
   "cell_type": "code",
   "execution_count": null,
   "id": "80665320",
   "metadata": {},
   "outputs": [],
   "source": [
    "# convert into the user-movie matrix.\n",
    "common_user_based_matrix = common.pivot_table(index='reviews_username', columns='name', values='reviews_rating')\n",
    "common_user_based_matrix"
   ]
  },
  {
   "cell_type": "code",
   "execution_count": null,
   "id": "683df94c",
   "metadata": {},
   "outputs": [],
   "source": [
    "# Convert the user_correlation matrix into dataframe.\n",
    "user_correlation_df = pd.DataFrame(user_correlation)"
   ]
  },
  {
   "cell_type": "code",
   "execution_count": null,
   "id": "ed42c776",
   "metadata": {},
   "outputs": [],
   "source": [
    "user_correlation_df['reviews_username'] = df_subtracted.index\n",
    "user_correlation_df.set_index('reviews_username',inplace=True)\n",
    "user_correlation_df.head()"
   ]
  },
  {
   "cell_type": "code",
   "execution_count": null,
   "id": "df6d45df",
   "metadata": {},
   "outputs": [],
   "source": [
    "common.head(1)"
   ]
  },
  {
   "cell_type": "code",
   "execution_count": null,
   "id": "e91de41f",
   "metadata": {},
   "outputs": [],
   "source": [
    "list_name = common.reviews_username.tolist()\n",
    "\n",
    "user_correlation_df.columns = df_subtracted.index.tolist()\n",
    "\n",
    "\n",
    "user_correlation_df_1 =  user_correlation_df[user_correlation_df.index.isin(list_name)]"
   ]
  },
  {
   "cell_type": "code",
   "execution_count": null,
   "id": "4dd3034f",
   "metadata": {},
   "outputs": [],
   "source": [
    "user_correlation_df_1.shape"
   ]
  },
  {
   "cell_type": "code",
   "execution_count": null,
   "id": "8ebd2790",
   "metadata": {},
   "outputs": [],
   "source": [
    "user_correlation_df_2 = user_correlation_df_1.T[user_correlation_df_1.T.index.isin(list_name)]"
   ]
  },
  {
   "cell_type": "code",
   "execution_count": null,
   "id": "5d753be6",
   "metadata": {},
   "outputs": [],
   "source": [
    "user_correlation_df_3 = user_correlation_df_2.T"
   ]
  },
  {
   "cell_type": "code",
   "execution_count": null,
   "id": "5189e727",
   "metadata": {},
   "outputs": [],
   "source": [
    "user_correlation_df_3.head()"
   ]
  },
  {
   "cell_type": "code",
   "execution_count": null,
   "id": "c6e3abce",
   "metadata": {},
   "outputs": [],
   "source": [
    "user_correlation_df_3.shape"
   ]
  },
  {
   "cell_type": "code",
   "execution_count": null,
   "id": "1bb6bc9d",
   "metadata": {},
   "outputs": [],
   "source": [
    "user_correlation_df_3[user_correlation_df_3<0]=0\n",
    "\n",
    "common_user_predicted_ratings = np.dot(user_correlation_df_3, common_user_based_matrix.fillna(0))\n",
    "common_user_predicted_ratings"
   ]
  },
  {
   "cell_type": "code",
   "execution_count": null,
   "id": "d90a268c",
   "metadata": {},
   "outputs": [],
   "source": [
    "dummy_test = common.copy()\n",
    "\n",
    "dummy_test['reviews_rating'] = dummy_test['reviews_rating'].apply(lambda x: 1 if x>=1 else 0)\n",
    "\n",
    "dummy_test = dummy_test.pivot_table(index='reviews_username', columns='name', values='reviews_rating').fillna(0)"
   ]
  },
  {
   "cell_type": "code",
   "execution_count": null,
   "id": "755ea5a4",
   "metadata": {},
   "outputs": [],
   "source": [
    "dummy_test.shape"
   ]
  },
  {
   "cell_type": "code",
   "execution_count": null,
   "id": "2998bbf6",
   "metadata": {},
   "outputs": [],
   "source": [
    "common_user_predicted_ratings = np.multiply(common_user_predicted_ratings,dummy_test)"
   ]
  },
  {
   "cell_type": "code",
   "execution_count": null,
   "id": "dc392cfa",
   "metadata": {},
   "outputs": [],
   "source": [
    "common_user_predicted_ratings.head(2)"
   ]
  },
  {
   "cell_type": "markdown",
   "id": "7fa3ea40",
   "metadata": {},
   "source": [
    "### Calculating the RMSE for only the products rated by user. "
   ]
  },
  {
   "cell_type": "code",
   "execution_count": null,
   "id": "1b8e8604",
   "metadata": {},
   "outputs": [],
   "source": [
    "from sklearn.preprocessing import MinMaxScaler\n",
    "from numpy import *\n",
    "\n",
    "X  = common_user_predicted_ratings.copy() \n",
    "X = X[X>0]\n",
    "\n",
    "scaler = MinMaxScaler(feature_range=(1, 5))\n",
    "print(scaler.fit(X))\n",
    "y = (scaler.transform(X))\n",
    "\n",
    "print(y)"
   ]
  },
  {
   "cell_type": "code",
   "execution_count": null,
   "id": "c4e67fd1",
   "metadata": {},
   "outputs": [],
   "source": [
    "common_ = common.pivot_table(index='reviews_username', columns='name', values='reviews_rating')"
   ]
  },
  {
   "cell_type": "code",
   "execution_count": null,
   "id": "72f1be2f",
   "metadata": {},
   "outputs": [],
   "source": [
    "# Finding total non-NaN value\n",
    "total_non_nan = np.count_nonzero(~np.isnan(y))"
   ]
  },
  {
   "cell_type": "code",
   "execution_count": null,
   "id": "46e5bb91",
   "metadata": {},
   "outputs": [],
   "source": [
    "rmse = (sum(sum((common_ - y )**2))/total_non_nan)**0.5\n",
    "print(rmse)"
   ]
  },
  {
   "cell_type": "markdown",
   "id": "09b072fb",
   "metadata": {},
   "source": [
    "# Item Based Similarity"
   ]
  },
  {
   "cell_type": "markdown",
   "id": "1d737a34",
   "metadata": {},
   "source": [
    "\n",
    "Taking the transpose of the rating matrix to normalize the rating around the mean for different product ID. In the user based similarity, we had taken mean for each user instead of each product."
   ]
  },
  {
   "cell_type": "code",
   "execution_count": null,
   "id": "feafbf05",
   "metadata": {},
   "outputs": [],
   "source": [
    "df_pivot = ratings_train.pivot_table(\n",
    "    index='reviews_username',\n",
    "    columns='name',\n",
    "    values='reviews_rating'\n",
    ").T\n",
    "\n",
    "df_pivot.head()"
   ]
  },
  {
   "cell_type": "markdown",
   "id": "b1a98ce8",
   "metadata": {},
   "source": [
    "#### Normalising the movie rating for each movie for using the Adujsted Cosine"
   ]
  },
  {
   "cell_type": "code",
   "execution_count": null,
   "id": "29f511ba",
   "metadata": {},
   "outputs": [],
   "source": [
    "mean = np.nanmean(df_pivot, axis=1)\n",
    "df_subtracted = (df_pivot.T-mean).T"
   ]
  },
  {
   "cell_type": "code",
   "execution_count": null,
   "id": "586343f6",
   "metadata": {},
   "outputs": [],
   "source": [
    "df_subtracted.head()"
   ]
  },
  {
   "cell_type": "markdown",
   "id": "ae6e787e",
   "metadata": {},
   "source": [
    "#### Finding the cosine similarity using pairwise distances approach"
   ]
  },
  {
   "cell_type": "code",
   "execution_count": null,
   "id": "2eea084c",
   "metadata": {},
   "outputs": [],
   "source": [
    "# Item Similarity Matrix\n",
    "item_correlation = 1 - pairwise_distances(df_subtracted.fillna(0), metric='cosine')\n",
    "item_correlation[np.isnan(item_correlation)] = 0\n",
    "print(item_correlation)"
   ]
  },
  {
   "cell_type": "markdown",
   "id": "24af7310",
   "metadata": {},
   "source": [
    "#### Filtering the correlation only for which the value is greater than 0. (Positively correlated)"
   ]
  },
  {
   "cell_type": "code",
   "execution_count": null,
   "id": "543bab01",
   "metadata": {},
   "outputs": [],
   "source": [
    "item_correlation[item_correlation<0]=0\n",
    "item_correlation"
   ]
  },
  {
   "cell_type": "markdown",
   "id": "494510d5",
   "metadata": {},
   "source": [
    "# Prediction - Item Item"
   ]
  },
  {
   "cell_type": "code",
   "execution_count": null,
   "id": "df889176",
   "metadata": {},
   "outputs": [],
   "source": [
    "item_predicted_ratings = np.dot((df_pivot.fillna(0).T),item_correlation)\n",
    "item_predicted_ratings"
   ]
  },
  {
   "cell_type": "code",
   "execution_count": null,
   "id": "c451a56f",
   "metadata": {},
   "outputs": [],
   "source": [
    "item_predicted_ratings.shape"
   ]
  },
  {
   "cell_type": "markdown",
   "id": "02208f75",
   "metadata": {},
   "source": [
    "### Filtering the rating only for the movies not rated by the user for recommendation"
   ]
  },
  {
   "cell_type": "code",
   "execution_count": null,
   "id": "5c840b57",
   "metadata": {},
   "outputs": [],
   "source": [
    "item_final_rating = np.multiply(item_predicted_ratings,dummy_train)\n",
    "item_final_rating.head()"
   ]
  },
  {
   "cell_type": "markdown",
   "id": "4bbfa8cf",
   "metadata": {},
   "source": [
    "### Finding the top 5 recommendation for the *user*"
   ]
  },
  {
   "cell_type": "code",
   "execution_count": null,
   "id": "5445b851",
   "metadata": {},
   "outputs": [],
   "source": [
    "def getRecommendedItems(df,user):\n",
    "    recommended=item_final_rating.loc[user_input].sort_values(ascending=False)\n",
    "    "
   ]
  },
  {
   "cell_type": "code",
   "execution_count": null,
   "id": "2253d47f",
   "metadata": {},
   "outputs": [],
   "source": [
    "# Take the user ID as input\n",
    "user_input = (input(\"Enter your user name\"))\n",
    "print(user_input)"
   ]
  },
  {
   "cell_type": "code",
   "execution_count": null,
   "id": "8c4153e2",
   "metadata": {},
   "outputs": [],
   "source": [
    "# Recommending the Top 5 products to the user.\n",
    "d = item_final_rating.loc[user_input].sort_values(ascending=False)[0:10]\n",
    "d"
   ]
  },
  {
   "cell_type": "code",
   "execution_count": null,
   "id": "d4e108e9",
   "metadata": {},
   "outputs": [],
   "source": [
    "item_final_rating"
   ]
  },
  {
   "cell_type": "code",
   "execution_count": null,
   "id": "c5f28bb8",
   "metadata": {},
   "outputs": [],
   "source": [
    "# products=[]\n",
    "# scores=[]\n",
    "# type(d.index)"
   ]
  },
  {
   "cell_type": "code",
   "execution_count": null,
   "id": "cc37f868",
   "metadata": {},
   "outputs": [],
   "source": [
    "# item_lookup.loc[item_lookup['name']=='Clorox Disinfecting Bathroom Cleaner','productid']"
   ]
  },
  {
   "cell_type": "code",
   "execution_count": null,
   "id": "16ab5f4a",
   "metadata": {},
   "outputs": [],
   "source": [
    "#  for idx in d.index:\n",
    "        \n",
    "#         products.append(item_lookup.loc[item_lookup['productid']==str(idx),'name'])\n",
    "# #         print(products)\n",
    "#         scores.append(d[idx])\n",
    "# #         print(scores)\n"
   ]
  },
  {
   "cell_type": "code",
   "execution_count": null,
   "id": "a154bd69",
   "metadata": {},
   "outputs": [],
   "source": [
    "# x = np.array(products)\n",
    "# lst=np.unique(x).tolist()\n",
    "# lst"
   ]
  },
  {
   "cell_type": "code",
   "execution_count": null,
   "id": "d95ce3e1",
   "metadata": {},
   "outputs": [],
   "source": [
    "recommendations_itembased = pd.DataFrame({'product':d.index, 'score':d.values})\n",
    "recommendations_itembased"
   ]
  },
  {
   "cell_type": "markdown",
   "id": "33062433",
   "metadata": {},
   "source": [
    "# Evaluation - Item Item"
   ]
  },
  {
   "cell_type": "code",
   "execution_count": null,
   "id": "ffc90fda",
   "metadata": {},
   "outputs": [],
   "source": [
    "ratings_test.columns    "
   ]
  },
  {
   "cell_type": "code",
   "execution_count": null,
   "id": "60e4c21c",
   "metadata": {},
   "outputs": [],
   "source": [
    "common =  ratings_test[ratings_test.name.isin(ratings_train.name)]\n",
    "common.shape"
   ]
  },
  {
   "cell_type": "code",
   "execution_count": null,
   "id": "ab7c477c",
   "metadata": {},
   "outputs": [],
   "source": [
    "# convert into the product-user matrix.\n",
    "common_item_based_matrix = common.pivot_table(index='reviews_username', columns='name', values='reviews_rating').T"
   ]
  },
  {
   "cell_type": "code",
   "execution_count": null,
   "id": "60a177cf",
   "metadata": {},
   "outputs": [],
   "source": [
    "common_item_based_matrix.head()"
   ]
  },
  {
   "cell_type": "code",
   "execution_count": null,
   "id": "7d348711",
   "metadata": {},
   "outputs": [],
   "source": [
    "item_correlation_df = pd.DataFrame(item_correlation)"
   ]
  },
  {
   "cell_type": "code",
   "execution_count": null,
   "id": "8d3f9a59",
   "metadata": {},
   "outputs": [],
   "source": [
    "item_correlation_df.head(1)"
   ]
  },
  {
   "cell_type": "code",
   "execution_count": null,
   "id": "3e440b60",
   "metadata": {},
   "outputs": [],
   "source": [
    "item_correlation_df['name'] = df_subtracted.index\n",
    "item_correlation_df.set_index('name',inplace=True)\n",
    "item_correlation_df.head()"
   ]
  },
  {
   "cell_type": "code",
   "execution_count": null,
   "id": "4961c15d",
   "metadata": {},
   "outputs": [],
   "source": [
    "list_name = common.name.tolist()"
   ]
  },
  {
   "cell_type": "code",
   "execution_count": null,
   "id": "8117dbfb",
   "metadata": {},
   "outputs": [],
   "source": [
    "item_correlation_df.columns = df_subtracted.index.tolist()\n",
    "\n",
    "item_correlation_df_1 =  item_correlation_df[item_correlation_df.index.isin(list_name)]"
   ]
  },
  {
   "cell_type": "code",
   "execution_count": null,
   "id": "e9fc8b42",
   "metadata": {},
   "outputs": [],
   "source": [
    "item_correlation_df_2 = item_correlation_df_1.T[item_correlation_df_1.T.index.isin(list_name)]\n",
    "\n",
    "item_correlation_df_3 = item_correlation_df_2.T"
   ]
  },
  {
   "cell_type": "code",
   "execution_count": null,
   "id": "65a0202a",
   "metadata": {},
   "outputs": [],
   "source": [
    "item_correlation_df_3.head()"
   ]
  },
  {
   "cell_type": "code",
   "execution_count": null,
   "id": "bc0e1b90",
   "metadata": {},
   "outputs": [],
   "source": [
    "item_correlation_df_3[item_correlation_df_3<0]=0\n",
    "\n",
    "common_item_predicted_ratings = np.dot(item_correlation_df_3, common_item_based_matrix.fillna(0))\n",
    "common_item_predicted_ratings\n"
   ]
  },
  {
   "cell_type": "code",
   "execution_count": null,
   "id": "882c54bc",
   "metadata": {},
   "outputs": [],
   "source": [
    "common_item_predicted_ratings.shape"
   ]
  },
  {
   "cell_type": "markdown",
   "id": "17f4618d",
   "metadata": {},
   "source": [
    "Dummy test will be used for evaluation. To evaluate, we will only make prediction on the movies rated by the user. So, this is marked as 1. This is just opposite of dummy_train\n",
    "\n"
   ]
  },
  {
   "cell_type": "code",
   "execution_count": null,
   "id": "8063afac",
   "metadata": {},
   "outputs": [],
   "source": [
    "dummy_test = common.copy()\n",
    "\n",
    "dummy_test['reviews_rating'] = dummy_test['reviews_rating'].apply(lambda x: 1 if x>=1 else 0)\n",
    "\n",
    "dummy_test = dummy_test.pivot_table(index='reviews_username', columns='name', values='reviews_rating').T.fillna(0)\n",
    "\n",
    "common_item_predicted_ratings = np.multiply(common_item_predicted_ratings,dummy_test)"
   ]
  },
  {
   "cell_type": "markdown",
   "id": "af81f220",
   "metadata": {},
   "source": [
    "The products not rated is marked as 0 for evaluation. And make the item- item matrix representaion."
   ]
  },
  {
   "cell_type": "code",
   "execution_count": null,
   "id": "5adf8cd9",
   "metadata": {},
   "outputs": [],
   "source": [
    "common_ = common.pivot_table(index='reviews_username', columns='name', values='reviews_rating').T"
   ]
  },
  {
   "cell_type": "code",
   "execution_count": null,
   "id": "437caee4",
   "metadata": {},
   "outputs": [],
   "source": [
    "X  = common_item_predicted_ratings.copy() \n",
    "X = X[X>0]\n",
    "\n",
    "scaler = MinMaxScaler(feature_range=(1, 5))\n",
    "print(scaler.fit(X))\n",
    "y = (scaler.transform(X))\n",
    "\n",
    "print(y)"
   ]
  },
  {
   "cell_type": "code",
   "execution_count": null,
   "id": "a411029b",
   "metadata": {},
   "outputs": [],
   "source": [
    "# Finding total non-NaN value\n",
    "total_non_nan = np.count_nonzero(~np.isnan(y))"
   ]
  },
  {
   "cell_type": "code",
   "execution_count": null,
   "id": "964af544",
   "metadata": {},
   "outputs": [],
   "source": [
    "rmse = (sum(sum((common_ - y )**2))/total_non_nan)**0.5\n",
    "print(rmse)"
   ]
  },
  {
   "cell_type": "markdown",
   "id": "f3881028",
   "metadata": {},
   "source": [
    "## Recommendation System Selection"
   ]
  },
  {
   "cell_type": "markdown",
   "id": "681c1faf",
   "metadata": {},
   "source": [
    "##### Since the predictions for item-item based recommendation systems are better we will choose the item-item based recommendation system"
   ]
  },
  {
   "cell_type": "markdown",
   "id": "0f17c889",
   "metadata": {},
   "source": [
    "#### Saving the recommendation system to disk"
   ]
  },
  {
   "cell_type": "code",
   "execution_count": null,
   "id": "4160e828",
   "metadata": {},
   "outputs": [],
   "source": [
    "# save the recommendation model to disk\n",
    "item_final_rating.to_pickle('./models/item-item_recommender.pkl')"
   ]
  },
  {
   "cell_type": "markdown",
   "id": "6b078394",
   "metadata": {},
   "source": [
    "## Improving the Recommendation System using Sentiment Analysis"
   ]
  },
  {
   "cell_type": "markdown",
   "id": "67fdc0be",
   "metadata": {},
   "source": [
    "#### Getting the top 20 recommended products for a user"
   ]
  },
  {
   "cell_type": "code",
   "execution_count": null,
   "id": "a99abfe6",
   "metadata": {},
   "outputs": [],
   "source": [
    "# Load the models from the file\n",
    "recom_df = pd.read_pickle('models/item-item_recommender.pkl')\n",
    "vectorizer = pickle.load(open(\"./models/feature_model.pkl\", \"rb\"))\n",
    "with open('models/xgboost_model.pkl' , 'rb') as pickle_file:\n",
    "    classif_model = pickle.load(pickle_file)\n",
    "    \n"
   ]
  },
  {
   "cell_type": "code",
   "execution_count": null,
   "id": "3419d1a5",
   "metadata": {},
   "outputs": [],
   "source": [
    "def getRecommendedItems(user):\n",
    "    items = recom_df.loc[user].sort_values(ascending=False)[0:20]\n",
    "    recommendations = pd.DataFrame({'product':items.index, 'score':items.values})\n",
    "    return recommendations\n",
    "    "
   ]
  },
  {
   "cell_type": "code",
   "execution_count": null,
   "id": "ecbfa816",
   "metadata": {},
   "outputs": [],
   "source": [
    "def getImprovedRecommendations(user):\n",
    "    ranking={}\n",
    "    items = recom_df.loc[user].sort_values(ascending=False)[0:20]\n",
    "    for idx in items.index:\n",
    "        itm=df.loc[df['name'] == str(idx),:]\n",
    "        features=vectorizer.transform(itm[\"reviews\"])\n",
    "        sentiment=classif_model.predict(features).tolist()\n",
    "        score=(len([ele for ele in sentiment if ele > 0]) / len(sentiment)) * 100\n",
    "        ranking[idx]=score    \n",
    "    ranking_sorted = sorted(ranking, key=ranking.get, reverse=True)\n",
    "    return ranking_sorted\n",
    "        \n",
    "        \n",
    "                                             \n",
    "        \n",
    "    "
   ]
  },
  {
   "cell_type": "code",
   "execution_count": null,
   "id": "125ee5a3",
   "metadata": {},
   "outputs": [],
   "source": [
    "# ranking_kim=getImprovedRecommendations(\"zyiah4\")\n",
    "# type(ranking_kim)"
   ]
  },
  {
   "cell_type": "code",
   "execution_count": null,
   "id": "baff0d82",
   "metadata": {},
   "outputs": [],
   "source": []
  }
 ],
 "metadata": {
  "kernelspec": {
   "display_name": "Python 3 (ipykernel)",
   "language": "python",
   "name": "python3"
  },
  "language_info": {
   "codemirror_mode": {
    "name": "ipython",
    "version": 3
   },
   "file_extension": ".py",
   "mimetype": "text/x-python",
   "name": "python",
   "nbconvert_exporter": "python",
   "pygments_lexer": "ipython3",
   "version": "3.8.3"
  }
 },
 "nbformat": 4,
 "nbformat_minor": 5
}
